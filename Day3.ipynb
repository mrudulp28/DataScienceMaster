{
 "cells": [
  {
   "cell_type": "markdown",
   "id": "87edb996-7ca5-430f-9831-783298f26b94",
   "metadata": {},
   "source": [
    "## Logical Operators\n",
    "1.And\n",
    "2.Or\n",
    "3.Not"
   ]
  },
  {
   "cell_type": "code",
   "execution_count": 7,
   "id": "6d4a894e-8976-4660-adb0-ab4b1dbd6bf1",
   "metadata": {},
   "outputs": [
    {
     "data": {
      "text/plain": [
       "True"
      ]
     },
     "execution_count": 7,
     "metadata": {},
     "output_type": "execute_result"
    }
   ],
   "source": [
    "True and True"
   ]
  },
  {
   "cell_type": "code",
   "execution_count": 9,
   "id": "42c1407f-8a29-4977-bc99-50e3678c6799",
   "metadata": {},
   "outputs": [
    {
     "data": {
      "text/plain": [
       "False"
      ]
     },
     "execution_count": 9,
     "metadata": {},
     "output_type": "execute_result"
    }
   ],
   "source": [
    "False and True"
   ]
  },
  {
   "cell_type": "code",
   "execution_count": 10,
   "id": "cba1fef1-af1a-496f-af02-0d976d59ce97",
   "metadata": {},
   "outputs": [
    {
     "data": {
      "text/plain": [
       "False"
      ]
     },
     "execution_count": 10,
     "metadata": {},
     "output_type": "execute_result"
    }
   ],
   "source": [
    "False and False"
   ]
  },
  {
   "cell_type": "code",
   "execution_count": 12,
   "id": "295a1ce2-bb6a-4373-9fe5-23e5293c5384",
   "metadata": {},
   "outputs": [
    {
     "data": {
      "text/plain": [
       "True"
      ]
     },
     "execution_count": 12,
     "metadata": {},
     "output_type": "execute_result"
    }
   ],
   "source": [
    "False or True"
   ]
  },
  {
   "cell_type": "code",
   "execution_count": 14,
   "id": "2bb4307a-19f7-484c-9144-4cf9e5db2acb",
   "metadata": {},
   "outputs": [
    {
     "data": {
      "text/plain": [
       "True"
      ]
     },
     "execution_count": 14,
     "metadata": {},
     "output_type": "execute_result"
    }
   ],
   "source": [
    "True or True"
   ]
  },
  {
   "cell_type": "code",
   "execution_count": 13,
   "id": "f8c82cfa-ef4e-42ce-881b-67833ae69d00",
   "metadata": {},
   "outputs": [
    {
     "data": {
      "text/plain": [
       "False"
      ]
     },
     "execution_count": 13,
     "metadata": {},
     "output_type": "execute_result"
    }
   ],
   "source": [
    "False or False"
   ]
  },
  {
   "cell_type": "code",
   "execution_count": 17,
   "id": "7f12f1fa-1e1d-47a3-83ae-0c273fb12bb9",
   "metadata": {},
   "outputs": [
    {
     "data": {
      "text/plain": [
       "False"
      ]
     },
     "execution_count": 17,
     "metadata": {},
     "output_type": "execute_result"
    }
   ],
   "source": [
    "not(True) or False"
   ]
  },
  {
   "cell_type": "code",
   "execution_count": 18,
   "id": "78d4b5f3-44ac-4b2d-9895-15df5a5347d4",
   "metadata": {},
   "outputs": [
    {
     "data": {
      "text/plain": [
       "False"
      ]
     },
     "execution_count": 18,
     "metadata": {},
     "output_type": "execute_result"
    }
   ],
   "source": [
    "(not(True)) or False"
   ]
  },
  {
   "cell_type": "code",
   "execution_count": 19,
   "id": "0384a2c5-4f93-4c19-9569-9395f1781346",
   "metadata": {},
   "outputs": [
    {
     "data": {
      "text/plain": [
       "True"
      ]
     },
     "execution_count": 19,
     "metadata": {},
     "output_type": "execute_result"
    }
   ],
   "source": [
    "(not(True)) or True"
   ]
  },
  {
   "cell_type": "code",
   "execution_count": 21,
   "id": "7c98aaf5-0ca6-4922-9218-78c5b70164f4",
   "metadata": {},
   "outputs": [
    {
     "data": {
      "text/plain": [
       "False"
      ]
     },
     "execution_count": 21,
     "metadata": {},
     "output_type": "execute_result"
    }
   ],
   "source": [
    "not(not(True and False))"
   ]
  },
  {
   "cell_type": "markdown",
   "id": "e05bddd2-585d-4b1f-82bd-c24321028595",
   "metadata": {},
   "source": [
    "## String Slicing"
   ]
  },
  {
   "cell_type": "code",
   "execution_count": 2,
   "id": "1ae0678a-51ce-4353-8746-c7e2be33ad78",
   "metadata": {},
   "outputs": [],
   "source": [
    "str1=\"Welcome to pwskills data science\""
   ]
  },
  {
   "cell_type": "code",
   "execution_count": 3,
   "id": "9a3322fc-2051-45ae-8cd0-64c9c5da73e4",
   "metadata": {},
   "outputs": [
    {
     "data": {
      "text/plain": [
       "'elcom'"
      ]
     },
     "execution_count": 3,
     "metadata": {},
     "output_type": "execute_result"
    }
   ],
   "source": [
    "str1[1:6]"
   ]
  },
  {
   "cell_type": "code",
   "execution_count": 4,
   "id": "cca5c921-e3b4-405a-8a66-7acf099fad64",
   "metadata": {},
   "outputs": [
    {
     "data": {
      "text/plain": [
       "'scienc'"
      ]
     },
     "execution_count": 4,
     "metadata": {},
     "output_type": "execute_result"
    }
   ],
   "source": [
    "str1[-7:-1]"
   ]
  },
  {
   "cell_type": "code",
   "execution_count": 5,
   "id": "085f1380-c706-4fe9-bbd0-51476c767038",
   "metadata": {},
   "outputs": [
    {
     "data": {
      "text/plain": [
       "''"
      ]
     },
     "execution_count": 5,
     "metadata": {},
     "output_type": "execute_result"
    }
   ],
   "source": [
    "str1[-1:-7]"
   ]
  },
  {
   "cell_type": "code",
   "execution_count": 6,
   "id": "48913ab1-15ec-4e16-8f25-9746e5e3dd24",
   "metadata": {},
   "outputs": [
    {
     "data": {
      "text/plain": [
       "'Welcome to pwskills data '"
      ]
     },
     "execution_count": 6,
     "metadata": {},
     "output_type": "execute_result"
    }
   ],
   "source": [
    "str1[:-7]"
   ]
  },
  {
   "cell_type": "code",
   "execution_count": 7,
   "id": "9ac12037-37d0-4ea2-9862-e6a6e2625439",
   "metadata": {},
   "outputs": [
    {
     "data": {
      "text/plain": [
       "'ecneics atad sllikswp ot emocleW'"
      ]
     },
     "execution_count": 7,
     "metadata": {},
     "output_type": "execute_result"
    }
   ],
   "source": [
    "str1[::-1]"
   ]
  },
  {
   "cell_type": "code",
   "execution_count": 8,
   "id": "e703d53b-0963-4164-82d8-c67dddc8840e",
   "metadata": {},
   "outputs": [
    {
     "data": {
      "text/plain": [
       "'enisaa lispo mce'"
      ]
     },
     "execution_count": 8,
     "metadata": {},
     "output_type": "execute_result"
    }
   ],
   "source": [
    "str1[::-2]"
   ]
  },
  {
   "cell_type": "code",
   "execution_count": null,
   "id": "8eb61159-af75-44b2-ba17-2ff68b73c364",
   "metadata": {},
   "outputs": [],
   "source": []
  }
 ],
 "metadata": {
  "kernelspec": {
   "display_name": "Python 3 (ipykernel)",
   "language": "python",
   "name": "python3"
  },
  "language_info": {
   "codemirror_mode": {
    "name": "ipython",
    "version": 3
   },
   "file_extension": ".py",
   "mimetype": "text/x-python",
   "name": "python",
   "nbconvert_exporter": "python",
   "pygments_lexer": "ipython3",
   "version": "3.10.8"
  }
 },
 "nbformat": 4,
 "nbformat_minor": 5
}
