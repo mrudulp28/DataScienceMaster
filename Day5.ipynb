{
 "cells": [
  {
   "cell_type": "code",
   "execution_count": 17,
   "id": "6c408efa-8fb9-4b69-a42a-68b7276de916",
   "metadata": {},
   "outputs": [],
   "source": [
    "t=()"
   ]
  },
  {
   "cell_type": "code",
   "execution_count": 18,
   "id": "b3f1b4ec-4d92-4973-a056-6796cdc09176",
   "metadata": {},
   "outputs": [
    {
     "data": {
      "text/plain": [
       "tuple"
      ]
     },
     "execution_count": 18,
     "metadata": {},
     "output_type": "execute_result"
    }
   ],
   "source": [
    "type(t)"
   ]
  },
  {
   "cell_type": "code",
   "execution_count": 19,
   "id": "57090c73-71c9-47f1-a03d-46f936d8725e",
   "metadata": {},
   "outputs": [],
   "source": [
    "t1=(1,2.0,1+3j,\"Mrudul\",True)"
   ]
  },
  {
   "cell_type": "code",
   "execution_count": 20,
   "id": "53810092-a4ac-427e-a487-5e3c2cbb78f7",
   "metadata": {},
   "outputs": [
    {
     "data": {
      "text/plain": [
       "tuple"
      ]
     },
     "execution_count": 20,
     "metadata": {},
     "output_type": "execute_result"
    }
   ],
   "source": [
    "type(t1)"
   ]
  },
  {
   "cell_type": "code",
   "execution_count": 21,
   "id": "8b35de38-3e0e-430e-a53b-5a19b1798295",
   "metadata": {},
   "outputs": [
    {
     "data": {
      "text/plain": [
       "2.0"
      ]
     },
     "execution_count": 21,
     "metadata": {},
     "output_type": "execute_result"
    }
   ],
   "source": [
    "t1[1]"
   ]
  },
  {
   "cell_type": "code",
   "execution_count": 22,
   "id": "76c9ee3c-b2f7-4d74-b6cc-cf80fef66139",
   "metadata": {},
   "outputs": [
    {
     "data": {
      "text/plain": [
       "(True, 'Mrudul', (1+3j), 2.0, 1)"
      ]
     },
     "execution_count": 22,
     "metadata": {},
     "output_type": "execute_result"
    }
   ],
   "source": [
    "t1[::-1]"
   ]
  },
  {
   "cell_type": "code",
   "execution_count": 23,
   "id": "af6e4e36-5569-42cb-9cd9-db32031d6b6a",
   "metadata": {},
   "outputs": [
    {
     "data": {
      "text/plain": [
       "1"
      ]
     },
     "execution_count": 23,
     "metadata": {},
     "output_type": "execute_result"
    }
   ],
   "source": [
    "t1.count(\"Mrudul\")"
   ]
  },
  {
   "cell_type": "markdown",
   "id": "c17d2e9e-34bb-474e-86c8-fdec08273831",
   "metadata": {},
   "source": [
    "Tuples are immutable"
   ]
  },
  {
   "cell_type": "code",
   "execution_count": 24,
   "id": "4464f5a7-a22f-448f-a74a-7fef0f67b124",
   "metadata": {},
   "outputs": [
    {
     "name": "stdout",
     "output_type": "stream",
     "text": [
      "1\n",
      "2.0\n",
      "(1+3j)\n",
      "Mrudul\n",
      "True\n"
     ]
    }
   ],
   "source": [
    "for i in t1:\n",
    "    print(i)"
   ]
  },
  {
   "cell_type": "code",
   "execution_count": 25,
   "id": "f54530de-f384-4507-bb3e-6b2318389cd6",
   "metadata": {},
   "outputs": [],
   "source": [
    "t2=(1,2,3,4)"
   ]
  },
  {
   "cell_type": "code",
   "execution_count": 26,
   "id": "fab00047-4b04-4b5f-8f49-4158e2436b85",
   "metadata": {},
   "outputs": [
    {
     "data": {
      "text/plain": [
       "(1, 2, 3, 4, 1, 2, 3, 4, 1, 2, 3, 4)"
      ]
     },
     "execution_count": 26,
     "metadata": {},
     "output_type": "execute_result"
    }
   ],
   "source": [
    "t2*3"
   ]
  },
  {
   "cell_type": "code",
   "execution_count": 27,
   "id": "eedb18c1-978c-4db9-9dbf-f65fc3c0c9cf",
   "metadata": {},
   "outputs": [
    {
     "data": {
      "text/plain": [
       "4"
      ]
     },
     "execution_count": 27,
     "metadata": {},
     "output_type": "execute_result"
    }
   ],
   "source": [
    "max(t2)"
   ]
  },
  {
   "cell_type": "code",
   "execution_count": 28,
   "id": "818df53f-b6ba-4b0d-9839-aedd47cb4b54",
   "metadata": {},
   "outputs": [
    {
     "data": {
      "text/plain": [
       "1"
      ]
     },
     "execution_count": 28,
     "metadata": {},
     "output_type": "execute_result"
    }
   ],
   "source": [
    "min(t2)"
   ]
  },
  {
   "cell_type": "markdown",
   "id": "a52c911e-81f1-41dc-aa8a-90b09de687fa",
   "metadata": {},
   "source": [
    "## Sets"
   ]
  },
  {
   "cell_type": "code",
   "execution_count": 1,
   "id": "dd5b25ff-8ae1-4e3c-a893-92319820fa9f",
   "metadata": {},
   "outputs": [],
   "source": [
    "t={}"
   ]
  },
  {
   "cell_type": "code",
   "execution_count": 2,
   "id": "1c771a3f-65c1-4ab9-bd9a-9ef523629449",
   "metadata": {},
   "outputs": [
    {
     "data": {
      "text/plain": [
       "dict"
      ]
     },
     "execution_count": 2,
     "metadata": {},
     "output_type": "execute_result"
    }
   ],
   "source": [
    "type(t)"
   ]
  },
  {
   "cell_type": "code",
   "execution_count": 3,
   "id": "38991be1-c809-4ddc-9caa-22e7df4820d7",
   "metadata": {},
   "outputs": [],
   "source": [
    "s1={1,2,3,4}"
   ]
  },
  {
   "cell_type": "code",
   "execution_count": 4,
   "id": "693c58e2-6536-4532-b56d-8108e86df3ec",
   "metadata": {},
   "outputs": [
    {
     "data": {
      "text/plain": [
       "set"
      ]
     },
     "execution_count": 4,
     "metadata": {},
     "output_type": "execute_result"
    }
   ],
   "source": [
    "type(s1)"
   ]
  },
  {
   "cell_type": "code",
   "execution_count": 5,
   "id": "f8eac6f5-fd57-4838-91e1-f48043ef89d1",
   "metadata": {},
   "outputs": [],
   "source": [
    "s2={1,1,2,3,4,4,6,6,78,8,99,}"
   ]
  },
  {
   "cell_type": "code",
   "execution_count": 6,
   "id": "fc3e783e-4666-4de5-9dae-3ad2a6d472b8",
   "metadata": {},
   "outputs": [
    {
     "data": {
      "text/plain": [
       "{1, 2, 3, 4, 6, 8, 78, 99}"
      ]
     },
     "execution_count": 6,
     "metadata": {},
     "output_type": "execute_result"
    }
   ],
   "source": [
    "s2"
   ]
  },
  {
   "cell_type": "code",
   "execution_count": 9,
   "id": "870cc9f6-5dbb-4ed8-b6fc-79127ff0e6b2",
   "metadata": {},
   "outputs": [],
   "source": [
    "l=list(s2)"
   ]
  },
  {
   "cell_type": "code",
   "execution_count": 8,
   "id": "a452a88d-0f66-459f-9464-82e41d373c86",
   "metadata": {},
   "outputs": [
    {
     "data": {
      "text/plain": [
       "(1, 2, 99, 3, 4, 6, 8, 78)"
      ]
     },
     "execution_count": 8,
     "metadata": {},
     "output_type": "execute_result"
    }
   ],
   "source": [
    "tuple(s2)"
   ]
  },
  {
   "cell_type": "code",
   "execution_count": 10,
   "id": "7569ec1a-2ed1-46ae-9e08-e52e975c5b0d",
   "metadata": {},
   "outputs": [
    {
     "data": {
      "text/plain": [
       "{1, 2, 3, 4, 6, 8, 78, 99}"
      ]
     },
     "execution_count": 10,
     "metadata": {},
     "output_type": "execute_result"
    }
   ],
   "source": [
    "set(l)"
   ]
  },
  {
   "cell_type": "code",
   "execution_count": 11,
   "id": "de0f5e6c-099f-4e21-8b35-bd790ef85ded",
   "metadata": {},
   "outputs": [
    {
     "ename": "TypeError",
     "evalue": "unhashable type: 'list'",
     "output_type": "error",
     "traceback": [
      "\u001b[0;31m---------------------------------------------------------------------------\u001b[0m",
      "\u001b[0;31mTypeError\u001b[0m                                 Traceback (most recent call last)",
      "Cell \u001b[0;32mIn[11], line 1\u001b[0m\n\u001b[0;32m----> 1\u001b[0m s4\u001b[38;5;241m=\u001b[39m{\u001b[38;5;241m1\u001b[39m,\u001b[38;5;241m2\u001b[39m,\u001b[38;5;241m3\u001b[39m,\u001b[38;5;241m4\u001b[39m,\u001b[38;5;241m5\u001b[39m,[\u001b[38;5;241m1\u001b[39m,\u001b[38;5;241m2\u001b[39m,\u001b[38;5;241m3\u001b[39m]}\n",
      "\u001b[0;31mTypeError\u001b[0m: unhashable type: 'list'"
     ]
    }
   ],
   "source": [
    "s4={1,2,3,4,5,[1,2,3]}"
   ]
  },
  {
   "cell_type": "code",
   "execution_count": 12,
   "id": "629f0506-99a3-479d-9bdf-5c81beec7242",
   "metadata": {},
   "outputs": [],
   "source": [
    "s5={1,2,3,4,5,(1,2,3)}"
   ]
  },
  {
   "cell_type": "code",
   "execution_count": 13,
   "id": "239eae13-babc-40c0-832d-1c976fe47885",
   "metadata": {},
   "outputs": [],
   "source": [
    "s2.add(12)"
   ]
  },
  {
   "cell_type": "code",
   "execution_count": 14,
   "id": "24edbad2-fe4a-4d14-a992-e53c980187ed",
   "metadata": {},
   "outputs": [
    {
     "data": {
      "text/plain": [
       "{1, 2, 3, 4, 6, 8, 12, 78, 99}"
      ]
     },
     "execution_count": 14,
     "metadata": {},
     "output_type": "execute_result"
    }
   ],
   "source": [
    "s2"
   ]
  },
  {
   "cell_type": "code",
   "execution_count": 15,
   "id": "9013a9ba-44ef-438d-9992-bd6acf6f86ae",
   "metadata": {},
   "outputs": [
    {
     "data": {
      "text/plain": [
       "1"
      ]
     },
     "execution_count": 15,
     "metadata": {},
     "output_type": "execute_result"
    }
   ],
   "source": [
    "s2.pop()"
   ]
  },
  {
   "cell_type": "code",
   "execution_count": 16,
   "id": "912bb6ea-3893-4d77-8c7f-fe827d78aea2",
   "metadata": {},
   "outputs": [
    {
     "data": {
      "text/plain": [
       "{2, 3, 4, 6, 8, 12, 78, 99}"
      ]
     },
     "execution_count": 16,
     "metadata": {},
     "output_type": "execute_result"
    }
   ],
   "source": [
    "s2"
   ]
  },
  {
   "cell_type": "code",
   "execution_count": 17,
   "id": "2eedb3a1-59f8-47bd-9a8c-649f73ec76da",
   "metadata": {},
   "outputs": [
    {
     "data": {
      "text/plain": [
       "2"
      ]
     },
     "execution_count": 17,
     "metadata": {},
     "output_type": "execute_result"
    }
   ],
   "source": [
    "s2.pop()"
   ]
  },
  {
   "cell_type": "code",
   "execution_count": 18,
   "id": "0b59d266-e4a7-4ffb-968b-0b78f7f7c506",
   "metadata": {},
   "outputs": [],
   "source": [
    "s5.clear()"
   ]
  },
  {
   "cell_type": "code",
   "execution_count": 19,
   "id": "bbd3dc25-496c-4998-b44e-78c9afdc5c83",
   "metadata": {},
   "outputs": [
    {
     "data": {
      "text/plain": [
       "set()"
      ]
     },
     "execution_count": 19,
     "metadata": {},
     "output_type": "execute_result"
    }
   ],
   "source": [
    "s5"
   ]
  },
  {
   "cell_type": "markdown",
   "id": "80e8ae0e-5a4d-47fa-ac1e-efc48c7d8919",
   "metadata": {},
   "source": [
    "## Dictionary"
   ]
  },
  {
   "cell_type": "code",
   "execution_count": 3,
   "id": "bbdc5c0c-5e76-418a-a5e4-f69333ae64c8",
   "metadata": {},
   "outputs": [],
   "source": [
    "d={}"
   ]
  },
  {
   "cell_type": "code",
   "execution_count": 4,
   "id": "3db5a780-6c25-43e6-b669-ad56da16940f",
   "metadata": {},
   "outputs": [
    {
     "data": {
      "text/plain": [
       "dict"
      ]
     },
     "execution_count": 4,
     "metadata": {},
     "output_type": "execute_result"
    }
   ],
   "source": [
    "type(d)"
   ]
  },
  {
   "cell_type": "code",
   "execution_count": 5,
   "id": "18eebb48-0e55-47e0-833f-fd35c71f0ee8",
   "metadata": {},
   "outputs": [],
   "source": [
    "d1={\"name\":\"mrudul\",\"email\":\"mrudul@gmail.com\",\"num\":71753518}"
   ]
  },
  {
   "cell_type": "code",
   "execution_count": 6,
   "id": "33a4ea9e-7ecb-4660-8af9-76f0c0593f55",
   "metadata": {},
   "outputs": [
    {
     "data": {
      "text/plain": [
       "{'name': 'mrudul', 'email': 'mrudul@gmail.com', 'num': 71753518}"
      ]
     },
     "execution_count": 6,
     "metadata": {},
     "output_type": "execute_result"
    }
   ],
   "source": [
    "d1"
   ]
  },
  {
   "cell_type": "code",
   "execution_count": 7,
   "id": "bd6a0c36-3438-46a2-b362-7a7bc9491d33",
   "metadata": {},
   "outputs": [],
   "source": [
    "d2={\"name\":\"mrudul\",\"name\":\"mrudul1\"}"
   ]
  },
  {
   "cell_type": "code",
   "execution_count": 8,
   "id": "856f8304-474c-4231-8b26-2c5e0599e9ad",
   "metadata": {},
   "outputs": [
    {
     "data": {
      "text/plain": [
       "{'name': 'mrudul1'}"
      ]
     },
     "execution_count": 8,
     "metadata": {},
     "output_type": "execute_result"
    }
   ],
   "source": [
    "d2"
   ]
  },
  {
   "cell_type": "code",
   "execution_count": 9,
   "id": "677452c3-4266-43fa-967d-a8c4ca3f6e20",
   "metadata": {},
   "outputs": [],
   "source": [
    "d3={1213:\"value\"}"
   ]
  },
  {
   "cell_type": "code",
   "execution_count": 10,
   "id": "e6d82c7c-9b39-4a62-b8f0-4e798d75fd8e",
   "metadata": {},
   "outputs": [
    {
     "data": {
      "text/plain": [
       "{1213: 'value'}"
      ]
     },
     "execution_count": 10,
     "metadata": {},
     "output_type": "execute_result"
    }
   ],
   "source": [
    "d3"
   ]
  },
  {
   "cell_type": "code",
   "execution_count": 13,
   "id": "aaeb56b4-8291-4e6d-bb13-b100fe63d053",
   "metadata": {},
   "outputs": [],
   "source": [
    "d4={\"key\":{\"name\":\"mrudul\",\"email\":\"mrudul@gmail.com\",\"num\":71753518}}"
   ]
  },
  {
   "cell_type": "code",
   "execution_count": 14,
   "id": "70696cd6-5a39-410a-8096-e88aabc5c260",
   "metadata": {},
   "outputs": [
    {
     "data": {
      "text/plain": [
       "{'key': {'name': 'mrudul', 'email': 'mrudul@gmail.com', 'num': 71753518}}"
      ]
     },
     "execution_count": 14,
     "metadata": {},
     "output_type": "execute_result"
    }
   ],
   "source": [
    "d4"
   ]
  },
  {
   "cell_type": "code",
   "execution_count": 15,
   "id": "12aa07c4-8c01-4083-b41a-4302d6711f2e",
   "metadata": {},
   "outputs": [],
   "source": [
    "d5={\"key\":[1,2,3,4,5]}"
   ]
  },
  {
   "cell_type": "code",
   "execution_count": 16,
   "id": "eb1e0686-79d2-4b3e-978e-3d5287d53e12",
   "metadata": {},
   "outputs": [
    {
     "data": {
      "text/plain": [
       "{'key': [1, 2, 3, 4, 5]}"
      ]
     },
     "execution_count": 16,
     "metadata": {},
     "output_type": "execute_result"
    }
   ],
   "source": [
    "d5"
   ]
  },
  {
   "cell_type": "code",
   "execution_count": 17,
   "id": "04fba625-977e-4e42-8f0f-2fa95a728c38",
   "metadata": {},
   "outputs": [],
   "source": [
    "d5[\"key2\"]=(1,2,3)"
   ]
  },
  {
   "cell_type": "code",
   "execution_count": 18,
   "id": "07a93492-cab0-4998-882e-7a57fd0b6b0a",
   "metadata": {},
   "outputs": [
    {
     "data": {
      "text/plain": [
       "{'key': [1, 2, 3, 4, 5], 'key2': (1, 2, 3)}"
      ]
     },
     "execution_count": 18,
     "metadata": {},
     "output_type": "execute_result"
    }
   ],
   "source": [
    "d5"
   ]
  },
  {
   "cell_type": "code",
   "execution_count": 19,
   "id": "20c6c401-3a8a-4a66-ba90-d2a7e30659bb",
   "metadata": {},
   "outputs": [
    {
     "data": {
      "text/plain": [
       "[1, 2, 3, 4, 5]"
      ]
     },
     "execution_count": 19,
     "metadata": {},
     "output_type": "execute_result"
    }
   ],
   "source": [
    "d5[\"key\"]"
   ]
  },
  {
   "cell_type": "code",
   "execution_count": 20,
   "id": "bf975f2e-ab9e-4d75-9423-83a08b4d32d5",
   "metadata": {},
   "outputs": [
    {
     "data": {
      "text/plain": [
       "4"
      ]
     },
     "execution_count": 20,
     "metadata": {},
     "output_type": "execute_result"
    }
   ],
   "source": [
    "d5[\"key\"][3]"
   ]
  },
  {
   "cell_type": "code",
   "execution_count": 21,
   "id": "2b5e1df7-9c0f-4a08-9a18-cce8d49aa89f",
   "metadata": {},
   "outputs": [],
   "source": [
    "del d5[\"key2\"]"
   ]
  },
  {
   "cell_type": "code",
   "execution_count": 22,
   "id": "7955255d-45c9-4aff-80a2-45e3e2ee995e",
   "metadata": {},
   "outputs": [
    {
     "data": {
      "text/plain": [
       "{'key': [1, 2, 3, 4, 5]}"
      ]
     },
     "execution_count": 22,
     "metadata": {},
     "output_type": "execute_result"
    }
   ],
   "source": [
    "d5"
   ]
  },
  {
   "cell_type": "code",
   "execution_count": 23,
   "id": "99110a3b-7051-464d-b768-efd5f90ce5fb",
   "metadata": {},
   "outputs": [
    {
     "data": {
      "text/plain": [
       "dict_keys(['key'])"
      ]
     },
     "execution_count": 23,
     "metadata": {},
     "output_type": "execute_result"
    }
   ],
   "source": [
    "d4.keys()"
   ]
  },
  {
   "cell_type": "code",
   "execution_count": 24,
   "id": "4f54984d-ab6c-44a0-b75a-0c8e3bdc4983",
   "metadata": {},
   "outputs": [
    {
     "data": {
      "text/plain": [
       "dict_values([{'name': 'mrudul', 'email': 'mrudul@gmail.com', 'num': 71753518}])"
      ]
     },
     "execution_count": 24,
     "metadata": {},
     "output_type": "execute_result"
    }
   ],
   "source": [
    "d4.values()"
   ]
  },
  {
   "cell_type": "code",
   "execution_count": 25,
   "id": "f8a9ee60-7734-4271-9fff-05be17d73fb7",
   "metadata": {},
   "outputs": [
    {
     "data": {
      "text/plain": [
       "[{'name': 'mrudul', 'email': 'mrudul@gmail.com', 'num': 71753518}]"
      ]
     },
     "execution_count": 25,
     "metadata": {},
     "output_type": "execute_result"
    }
   ],
   "source": [
    "list(d4.values())"
   ]
  },
  {
   "cell_type": "code",
   "execution_count": 26,
   "id": "c50d1e7e-7cd9-4c35-b953-2dada0912ed1",
   "metadata": {},
   "outputs": [
    {
     "data": {
      "text/plain": [
       "dict_items([('key', {'name': 'mrudul', 'email': 'mrudul@gmail.com', 'num': 71753518})])"
      ]
     },
     "execution_count": 26,
     "metadata": {},
     "output_type": "execute_result"
    }
   ],
   "source": [
    "d4.items()"
   ]
  },
  {
   "cell_type": "code",
   "execution_count": 27,
   "id": "627faa85-0556-45f5-b4c5-6174894e0ee0",
   "metadata": {},
   "outputs": [
    {
     "data": {
      "text/plain": [
       "[('key', {'name': 'mrudul', 'email': 'mrudul@gmail.com', 'num': 71753518})]"
      ]
     },
     "execution_count": 27,
     "metadata": {},
     "output_type": "execute_result"
    }
   ],
   "source": [
    "list(d4.items())"
   ]
  },
  {
   "cell_type": "code",
   "execution_count": 28,
   "id": "38592951-a835-4f75-aa62-78e357f5adf1",
   "metadata": {},
   "outputs": [],
   "source": [
    "d6={(1,2,3):(\"a\",\"b\",\"c\")}"
   ]
  },
  {
   "cell_type": "code",
   "execution_count": 30,
   "id": "596768ca-eee4-4b5e-a277-de9236003a06",
   "metadata": {},
   "outputs": [
    {
     "data": {
      "text/plain": [
       "{1: ('a', 'b', 'c'), 2: ('a', 'b', 'c'), 3: ('a', 'b', 'c')}"
      ]
     },
     "execution_count": 30,
     "metadata": {},
     "output_type": "execute_result"
    }
   ],
   "source": [
    "d6.fromkeys((1,2,3),(\"a\",\"b\",\"c\"))"
   ]
  },
  {
   "cell_type": "code",
   "execution_count": 31,
   "id": "d1015c8a-f792-45be-bba3-bb63f63154b4",
   "metadata": {},
   "outputs": [],
   "source": [
    "d9={\"k1\":\"v1\",\"k2\":\"v2\"}\n",
    "d10={\"k3\":\"v3\",\"k4\":\"v4\"}"
   ]
  },
  {
   "cell_type": "code",
   "execution_count": 32,
   "id": "e105b945-bc6d-420c-80e2-714eac8caae6",
   "metadata": {},
   "outputs": [],
   "source": [
    "d9.update(d10)"
   ]
  },
  {
   "cell_type": "code",
   "execution_count": 33,
   "id": "cfbbe9e5-74d1-4095-9072-4a019ffe7cb6",
   "metadata": {},
   "outputs": [
    {
     "data": {
      "text/plain": [
       "{'k1': 'v1', 'k2': 'v2', 'k3': 'v3', 'k4': 'v4'}"
      ]
     },
     "execution_count": 33,
     "metadata": {},
     "output_type": "execute_result"
    }
   ],
   "source": [
    "d9"
   ]
  },
  {
   "cell_type": "code",
   "execution_count": 34,
   "id": "16a18641-0926-4813-9cf2-5b315b3c4b87",
   "metadata": {},
   "outputs": [],
   "source": [
    "d9.get(\"k5\")"
   ]
  },
  {
   "cell_type": "code",
   "execution_count": 35,
   "id": "aa8b34ae-c951-41b3-a825-cf888cf7a3ff",
   "metadata": {},
   "outputs": [
    {
     "data": {
      "text/plain": [
       "{'k1': 'v1', 'k2': 'v2', 'k3': 'v3', 'k4': 'v4'}"
      ]
     },
     "execution_count": 35,
     "metadata": {},
     "output_type": "execute_result"
    }
   ],
   "source": [
    "d9"
   ]
  },
  {
   "cell_type": "code",
   "execution_count": 36,
   "id": "5a4510f5-1bea-462c-bd9d-ba036d4136c9",
   "metadata": {},
   "outputs": [
    {
     "data": {
      "text/plain": [
       "{1: 1, 2: 4, 3: 9, 4: 16, 5: 25, 6: 36, 7: 49, 8: 64, 9: 81, 10: 100}"
      ]
     },
     "execution_count": 36,
     "metadata": {},
     "output_type": "execute_result"
    }
   ],
   "source": [
    "{i:i**2 for i in range(1,11)}"
   ]
  },
  {
   "cell_type": "code",
   "execution_count": null,
   "id": "7ba42867-5a9b-4412-a7ba-0108a2f57bfd",
   "metadata": {},
   "outputs": [],
   "source": []
  }
 ],
 "metadata": {
  "kernelspec": {
   "display_name": "Python 3 (ipykernel)",
   "language": "python",
   "name": "python3"
  },
  "language_info": {
   "codemirror_mode": {
    "name": "ipython",
    "version": 3
   },
   "file_extension": ".py",
   "mimetype": "text/x-python",
   "name": "python",
   "nbconvert_exporter": "python",
   "pygments_lexer": "ipython3",
   "version": "3.10.8"
  }
 },
 "nbformat": 4,
 "nbformat_minor": 5
}
