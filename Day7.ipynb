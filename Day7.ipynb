{
 "cells": [
  {
   "cell_type": "markdown",
   "id": "b723b5a4-2a2e-48fa-97d5-953724281c18",
   "metadata": {},
   "source": [
    "## Lambda Functions"
   ]
  },
  {
   "cell_type": "code",
   "execution_count": 1,
   "id": "fb2628f1-324c-4503-b64c-b03830308203",
   "metadata": {},
   "outputs": [],
   "source": [
    "n=3\n",
    "p=2"
   ]
  },
  {
   "cell_type": "code",
   "execution_count": 2,
   "id": "937dd3dc-db23-409b-afa4-1f29c7a36775",
   "metadata": {},
   "outputs": [],
   "source": [
    "def test(n,p):\n",
    "    return n**p"
   ]
  },
  {
   "cell_type": "code",
   "execution_count": 4,
   "id": "49819f78-7ae2-442b-862b-72b6e2a8b43a",
   "metadata": {},
   "outputs": [],
   "source": [
    "a=lambda n,p : n**p"
   ]
  },
  {
   "cell_type": "code",
   "execution_count": 5,
   "id": "e460d76e-ec74-40be-b439-f21c565a07a2",
   "metadata": {},
   "outputs": [
    {
     "data": {
      "text/plain": [
       "9"
      ]
     },
     "execution_count": 5,
     "metadata": {},
     "output_type": "execute_result"
    }
   ],
   "source": [
    "a(3,2)"
   ]
  },
  {
   "cell_type": "code",
   "execution_count": 6,
   "id": "f0c7cfac-5648-4d38-84a5-09305a9d9665",
   "metadata": {},
   "outputs": [
    {
     "data": {
      "text/plain": [
       "6561"
      ]
     },
     "execution_count": 6,
     "metadata": {},
     "output_type": "execute_result"
    }
   ],
   "source": [
    "a(9,4)"
   ]
  },
  {
   "cell_type": "code",
   "execution_count": 7,
   "id": "750d097d-22ae-4893-894a-e1d509c2cc41",
   "metadata": {},
   "outputs": [],
   "source": [
    "add = lambda x,y :x+y"
   ]
  },
  {
   "cell_type": "code",
   "execution_count": 8,
   "id": "c5e5a3ea-be4e-4591-b3f3-12146bdd1d0d",
   "metadata": {},
   "outputs": [
    {
     "data": {
      "text/plain": [
       "3"
      ]
     },
     "execution_count": 8,
     "metadata": {},
     "output_type": "execute_result"
    }
   ],
   "source": [
    "add(1,2)"
   ]
  },
  {
   "cell_type": "code",
   "execution_count": 9,
   "id": "1c670e26-4623-41dc-97ba-a7b240683bab",
   "metadata": {},
   "outputs": [],
   "source": [
    "c_to_f=lambda c:(9/5)*c+32"
   ]
  },
  {
   "cell_type": "code",
   "execution_count": 10,
   "id": "9caffbdf-1dbb-4fdc-8fbd-75163d4ccaab",
   "metadata": {},
   "outputs": [
    {
     "data": {
      "text/plain": [
       "93.2"
      ]
     },
     "execution_count": 10,
     "metadata": {},
     "output_type": "execute_result"
    }
   ],
   "source": [
    "c_to_f(34)"
   ]
  },
  {
   "cell_type": "code",
   "execution_count": 11,
   "id": "16530899-bc59-4a64-bc8a-a53bc568f113",
   "metadata": {},
   "outputs": [],
   "source": [
    "max_of_num = lambda x,y: x if x>y else y"
   ]
  },
  {
   "cell_type": "code",
   "execution_count": 12,
   "id": "fcdf43f6-0056-4a7d-91f3-2dc1e00042b3",
   "metadata": {},
   "outputs": [
    {
     "data": {
      "text/plain": [
       "7"
      ]
     },
     "execution_count": 12,
     "metadata": {},
     "output_type": "execute_result"
    }
   ],
   "source": [
    "max_of_num(7,5)"
   ]
  },
  {
   "cell_type": "code",
   "execution_count": 13,
   "id": "b1518fda-2cea-48d9-b9d5-50aca95ee3ad",
   "metadata": {},
   "outputs": [],
   "source": [
    "len_str = lambda x : len(x)"
   ]
  },
  {
   "cell_type": "code",
   "execution_count": 14,
   "id": "a75c310d-4166-41ff-b477-b5e8b77c78b0",
   "metadata": {},
   "outputs": [
    {
     "data": {
      "text/plain": [
       "7"
      ]
     },
     "execution_count": 14,
     "metadata": {},
     "output_type": "execute_result"
    }
   ],
   "source": [
    "len_str(\"dadoahd\")"
   ]
  },
  {
   "cell_type": "markdown",
   "id": "68ff6527-2bd6-4681-9236-d540fcc39cb1",
   "metadata": {},
   "source": [
    "## Map Reduce Filter"
   ]
  },
  {
   "cell_type": "code",
   "execution_count": 15,
   "id": "0953c3da-3825-4b31-a63a-0f9586e15eae",
   "metadata": {},
   "outputs": [],
   "source": [
    "l=[1,2,3,4,5]"
   ]
  },
  {
   "cell_type": "code",
   "execution_count": 16,
   "id": "5d79ee21-03fc-4fc9-9684-2371b1f6bdb7",
   "metadata": {},
   "outputs": [],
   "source": [
    "def test(l):\n",
    "    l1=[]\n",
    "    for i in l:\n",
    "        l1.append(i**2)\n",
    "    return l1"
   ]
  },
  {
   "cell_type": "code",
   "execution_count": 17,
   "id": "07b357a3-7bd1-4f56-801b-03cef337d03c",
   "metadata": {},
   "outputs": [
    {
     "data": {
      "text/plain": [
       "[1, 4, 9, 16, 25]"
      ]
     },
     "execution_count": 17,
     "metadata": {},
     "output_type": "execute_result"
    }
   ],
   "source": [
    "test(l)"
   ]
  },
  {
   "cell_type": "code",
   "execution_count": 21,
   "id": "534191c7-b3cb-41d8-84c9-4c360ae46cb7",
   "metadata": {},
   "outputs": [],
   "source": [
    "def sq(x):\n",
    "    return x**2"
   ]
  },
  {
   "cell_type": "code",
   "execution_count": 23,
   "id": "e0c8a2a9-f543-4786-b2fa-8fe20d4ffbe1",
   "metadata": {},
   "outputs": [
    {
     "data": {
      "text/plain": [
       "[1, 4, 9, 16, 25]"
      ]
     },
     "execution_count": 23,
     "metadata": {},
     "output_type": "execute_result"
    }
   ],
   "source": [
    "list(map(sq,l))"
   ]
  },
  {
   "cell_type": "code",
   "execution_count": 24,
   "id": "e4a60e4e-8182-4a25-9a79-700e4d91af40",
   "metadata": {},
   "outputs": [
    {
     "data": {
      "text/plain": [
       "[1, 4, 9, 16, 25]"
      ]
     },
     "execution_count": 24,
     "metadata": {},
     "output_type": "execute_result"
    }
   ],
   "source": [
    "list(map(lambda x:x**2,l))"
   ]
  },
  {
   "cell_type": "code",
   "execution_count": 26,
   "id": "81c03419-f3ef-48b0-964a-4bf8383fa251",
   "metadata": {},
   "outputs": [
    {
     "data": {
      "text/plain": [
       "[11, 12, 13, 14, 15]"
      ]
     },
     "execution_count": 26,
     "metadata": {},
     "output_type": "execute_result"
    }
   ],
   "source": [
    "list(map(lambda x:x+10,l))"
   ]
  },
  {
   "cell_type": "code",
   "execution_count": 27,
   "id": "a73b8062-d8ae-4993-80fa-89a6d2762806",
   "metadata": {},
   "outputs": [],
   "source": [
    "l1=[1,2,3,4,5]\n",
    "l2=[6,7,8,9,10]"
   ]
  },
  {
   "cell_type": "code",
   "execution_count": 28,
   "id": "1a04a159-5986-4619-bfff-e192cdba52a3",
   "metadata": {},
   "outputs": [
    {
     "data": {
      "text/plain": [
       "[7, 9, 11, 13, 15]"
      ]
     },
     "execution_count": 28,
     "metadata": {},
     "output_type": "execute_result"
    }
   ],
   "source": [
    "list(map(lambda x,y:x+y,l1,l2))"
   ]
  },
  {
   "cell_type": "code",
   "execution_count": 30,
   "id": "730625a5-c711-4519-8bb7-74ac200a08c2",
   "metadata": {},
   "outputs": [
    {
     "data": {
      "text/plain": [
       "['P', 'W', 'S', 'K', 'I', 'L', 'L', 'S']"
      ]
     },
     "execution_count": 30,
     "metadata": {},
     "output_type": "execute_result"
    }
   ],
   "source": [
    "m=\"pwskills\"\n",
    "list(map(lambda x:x.upper(),m))"
   ]
  },
  {
   "cell_type": "code",
   "execution_count": 31,
   "id": "39ecd84c-ddd7-462f-884a-1fe8f3839230",
   "metadata": {},
   "outputs": [],
   "source": [
    "from functools import reduce"
   ]
  },
  {
   "cell_type": "code",
   "execution_count": 32,
   "id": "3af22d48-3997-470a-9a81-171afa41199a",
   "metadata": {},
   "outputs": [],
   "source": [
    "l=[1,2,3,4,5]"
   ]
  },
  {
   "cell_type": "code",
   "execution_count": 33,
   "id": "7c9809a7-6f56-4376-a3fa-52786c18f871",
   "metadata": {},
   "outputs": [
    {
     "data": {
      "text/plain": [
       "15"
      ]
     },
     "execution_count": 33,
     "metadata": {},
     "output_type": "execute_result"
    }
   ],
   "source": [
    "reduce(lambda x,y : x+y,l)"
   ]
  },
  {
   "cell_type": "code",
   "execution_count": 35,
   "id": "2a72f793-454b-4f02-871a-ab5abf2c405e",
   "metadata": {},
   "outputs": [
    {
     "data": {
      "text/plain": [
       "[2, 4]"
      ]
     },
     "execution_count": 35,
     "metadata": {},
     "output_type": "execute_result"
    }
   ],
   "source": [
    "list(filter(lambda x : x%2==0 , l))"
   ]
  },
  {
   "cell_type": "code",
   "execution_count": 36,
   "id": "24c39e04-f893-42ba-aa99-4b6c01141cc1",
   "metadata": {},
   "outputs": [],
   "source": [
    "l3=[-1,2,34,5,-9,-3]"
   ]
  },
  {
   "cell_type": "code",
   "execution_count": 37,
   "id": "73334ffd-62e1-47dc-9ddc-ee33b8d7a21a",
   "metadata": {},
   "outputs": [
    {
     "data": {
      "text/plain": [
       "[2, 34, 5]"
      ]
     },
     "execution_count": 37,
     "metadata": {},
     "output_type": "execute_result"
    }
   ],
   "source": [
    "list(filter(lambda x : x>0 , l3))"
   ]
  },
  {
   "cell_type": "code",
   "execution_count": null,
   "id": "ce3fbe52-147e-429f-b939-e593f945bb84",
   "metadata": {},
   "outputs": [],
   "source": []
  }
 ],
 "metadata": {
  "kernelspec": {
   "display_name": "Python 3 (ipykernel)",
   "language": "python",
   "name": "python3"
  },
  "language_info": {
   "codemirror_mode": {
    "name": "ipython",
    "version": 3
   },
   "file_extension": ".py",
   "mimetype": "text/x-python",
   "name": "python",
   "nbconvert_exporter": "python",
   "pygments_lexer": "ipython3",
   "version": "3.10.8"
  }
 },
 "nbformat": 4,
 "nbformat_minor": 5
}
