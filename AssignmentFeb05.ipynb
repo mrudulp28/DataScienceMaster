{
 "cells": [
  {
   "cell_type": "markdown",
   "id": "031c3534-44bb-4906-acf3-a50f12d35146",
   "metadata": {},
   "source": [
    "## 1)Explain Class and Object with respect to Object-Oriented Programming. Give a suitable example."
   ]
  },
  {
   "cell_type": "markdown",
   "id": "e04a3a11-f301-476d-8d46-ce350c29e15d",
   "metadata": {},
   "source": [
    "A class can be understood as a template or a blueprint, which contains some values, known as data members, and some set of rules, known as behaviors or methods. The data and methods that are defined in the class are automatically taken when an object is created. The class is a template or blueprint for objects. One can make as many objects as they want to be based on a class.\n",
    "For example, the template for the car is created first after that multiple units or objects of cars can be created based on the template. And each of the objects must have the data and methods mentioned in the blueprint.\n",
    "A class is a set of traits and features that define an object. It is a blueprint which must be implemented by each of its objects.\n",
    "For example: If we define a blueprint of human beings then it can have attributes like Name, Age, Gender, Occupation and functionalities like Walk(), Eat(), and Sleep(). Any human being must have these properties(data) and functionalities(methods) associated with them."
   ]
  },
  {
   "cell_type": "markdown",
   "id": "ccd95cd5-9b6b-47a7-8ef4-f8b3f92dfa21",
   "metadata": {},
   "source": [
    "## 2)Name the four pillars of OOPs."
   ]
  },
  {
   "cell_type": "markdown",
   "id": "28f339e7-ab22-467e-9d0d-57f4739cd919",
   "metadata": {},
   "source": [
    "Abstraction: This refers to the idea of hiding the implementation details and only showing the relevant information to the user. It allows the user to focus on the objects and their behavior, rather than the underlying code.\n",
    "\n",
    "Encapsulation: This is the mechanism of wrapping data and functions within a single unit (object) to protect the data from external access and modification. This helps to maintain the integrity of the data and the object.\n",
    "\n",
    "Inheritance: This is a mechanism of creating new classes (child classes) from existing classes (parent classes). The child classes inherit the attributes and behaviors of the parent class, and can also have their own unique attributes and behaviors. This helps to reduce code duplication and promote code reuse.\n",
    "\n",
    "Polymorphism: This refers to the ability of objects of different classes to respond to the same method call in different ways. This allows objects to be treated as objects of their parent class, while still retaining their unique behavior. This enables objects to be used interchangeably, reducing code complexity and improving code maintainability.\n",
    "\n",
    "These four pillars are essential elements of object-oriented programming"
   ]
  },
  {
   "cell_type": "markdown",
   "id": "fc145d0a-c220-4924-94de-f1b0b06d9d5a",
   "metadata": {},
   "source": [
    "## 3)Explain why the __init__() function is used. Give a suitable example."
   ]
  },
  {
   "cell_type": "markdown",
   "id": "8c629306-b8f2-4401-a8aa-7e7b3b83d5c6",
   "metadata": {},
   "source": [
    "The __init__() function is a special method in Python classes, known as the constructor method.\n",
    "It is automatically called when an object of the class is created, and is used to initialize the attributes of the object"
   ]
  },
  {
   "cell_type": "code",
   "execution_count": 3,
   "id": "55a64818-245a-4f15-b386-b7a1618d22e0",
   "metadata": {},
   "outputs": [],
   "source": [
    "##Example for __init__()\n",
    "class pwskills1:\n",
    "    \n",
    "    def __init__(self,phone,email,student_id): \n",
    "        self.phone=phone   \n",
    "        self.email=email\n",
    "        self.student_id=student_id\n",
    "        \n",
    "    def return_details(self):\n",
    "        return self.phone,self.email,self.student_id"
   ]
  },
  {
   "cell_type": "code",
   "execution_count": 4,
   "id": "c742865b-950f-40c4-bfb0-3dc5a3e5d078",
   "metadata": {},
   "outputs": [
    {
     "data": {
      "text/plain": [
       "(9876543210, 'rohan@gmail.com', 101)"
      ]
     },
     "execution_count": 4,
     "metadata": {},
     "output_type": "execute_result"
    }
   ],
   "source": [
    "rohan=pwskills1(9876543210,\"rohan@gmail.com\",101)\n",
    "rohan.return_details()"
   ]
  },
  {
   "cell_type": "markdown",
   "id": "cee47210-c5eb-4d0e-91f2-4ecba0ad0e07",
   "metadata": {},
   "source": [
    "## 4)Why self is used in OOPs?"
   ]
  },
  {
   "cell_type": "markdown",
   "id": "b2bfe2fc-a94c-434a-a6f4-3b7d657ffd55",
   "metadata": {},
   "source": [
    "In object-oriented programming (OOP), the self keyword is used as a reference to the instance of the object that is calling the method.\n",
    "It is used to access the attributes and methods of the object within the class"
   ]
  },
  {
   "cell_type": "code",
   "execution_count": 5,
   "id": "041aabc8-76b3-46a6-8cfe-3e557cb7c070",
   "metadata": {},
   "outputs": [],
   "source": [
    "##Example\n",
    "class car:\n",
    "    \n",
    "    def __init__(self,model,colour,brand): \n",
    "        self.model=model   \n",
    "        self.colour=colour\n",
    "        self.brand=brand\n",
    "        "
   ]
  },
  {
   "cell_type": "markdown",
   "id": "315c9078-b102-4549-8e82-1b8390fe5a38",
   "metadata": {},
   "source": [
    "## 5)What is inheritance? Give an example for each type of inheritance."
   ]
  },
  {
   "cell_type": "markdown",
   "id": "545340cf-291f-441e-99d6-e76206141877",
   "metadata": {},
   "source": [
    "One of the core concepts in object-oriented programming (OOP) languages is inheritance. It is a mechanism that allows you to create a hierarchy of  # classes that share a set of properties and methods by deriving a class from another class. Inheritance is the capability of one class to derive or #inherit the properties from another class. \n",
    "Types of inheritance:-\n",
    "1). Single inheritance\n",
    "2). Multiple inheritances\n",
    "3). Multilevel inheritance\n",
    "4). Hierarchical inheritance\n",
    "5). Hybrid inheritance\n"
   ]
  },
  {
   "cell_type": "code",
   "execution_count": 6,
   "id": "c6445a29-e7fb-491c-895a-5a171114f6cc",
   "metadata": {},
   "outputs": [
    {
     "name": "stdout",
     "output_type": "stream",
     "text": [
      "Amazon is an Online Ecommerce Store\n",
      "Ebay is an Online Store\n",
      "OLX is an Online Buy Sell Store\n"
     ]
    }
   ],
   "source": [
    "#syntax_of_single_inheritance\n",
    "\n",
    "class Brands:               #parent_class\n",
    "    brand_name_1 = \"Amazon\"\n",
    "    brand_name_2 = \"Ebay\"\n",
    "    brand_name_3 = \"OLX\"\n",
    "    \n",
    "class Products(Brands):       #child_class\n",
    "    prod_1 = \"Online Ecommerce Store\"\n",
    "    prod_2 = \"Online Store\"\n",
    "    prod_3 = \"Online Buy Sell Store\"\n",
    "    \n",
    "obj_1 = Products()          #Object_creation\n",
    "print(obj_1.brand_name_1+\" is an \"+obj_1.prod_1)\n",
    "print(obj_1.brand_name_2+\" is an \"+obj_1.prod_2)\n",
    "print(obj_1.brand_name_3+\" is an \"+obj_1.prod_3)"
   ]
  },
  {
   "cell_type": "code",
   "execution_count": 7,
   "id": "fec3e399-5b97-4f54-ba12-82959efc341a",
   "metadata": {},
   "outputs": [
    {
     "name": "stdout",
     "output_type": "stream",
     "text": [
      "Amazon is an Online Ecommerce Store\n",
      "Ebay is an Online Store\n",
      "OLX is an Online Buy Sell Store\n"
     ]
    }
   ],
   "source": [
    "#example_of_multiple_inheritance\n",
    "\n",
    "class Brands:               #parent_class\n",
    "    brand_name_1 = \"Amazon\"\n",
    "    brand_name_2 = \"Ebay\"\n",
    "    brand_name_3 = \"OLX\"\n",
    "    \n",
    "class Products:            #child_class\n",
    "    prod_1 = \"Online Ecommerce Store\"\n",
    "    prod_2 = \"Online Store\"\n",
    "    prod_3 = \"Online Buy Sell Store\"\n",
    "\n",
    "class Popularity(Brands,Products):\n",
    "    prod_1_popularity = 100\n",
    "    prod_2_popularity = 70\n",
    "    prod_3_popularity = 60\n",
    "    \n",
    "obj_1 = Popularity()          #Object_creation\n",
    "print(obj_1.brand_name_1+\" is an \"+obj_1.prod_1)\n",
    "print(obj_1.brand_name_2+\" is an \"+obj_1.prod_2)\n",
    "print(obj_1.brand_name_3+\" is an \"+obj_1.prod_3)"
   ]
  },
  {
   "cell_type": "code",
   "execution_count": 8,
   "id": "e0454e46-29d3-4636-8760-d226e15cf359",
   "metadata": {},
   "outputs": [
    {
     "name": "stdout",
     "output_type": "stream",
     "text": [
      "Amazon is an Online Ecommerce Store popularity of 100\n",
      "Ebay is an Online Store popularity of 70\n",
      "OLX is an Online Buy Sell Store popularity of 60\n"
     ]
    }
   ],
   "source": [
    "#example_of_multilevel_inheritance\n",
    "\n",
    "class Brands:                      #parent_class\n",
    "    brand_name_1 = \"Amazon\"\n",
    "    brand_name_2 = \"Ebay\"\n",
    "    brand_name_3 = \"OLX\"\n",
    "    \n",
    "class Products(Brands):            #child_class\n",
    "    prod_1 = \"Online Ecommerce Store\"\n",
    "    prod_2 = \"Online Store\"\n",
    "    prod_3 = \"Online Buy Sell Store\"\n",
    "\n",
    "class Popularity(Products):        #grand_child_class\n",
    "    prod_1_popularity = 100\n",
    "    prod_2_popularity = 70\n",
    "    prod_3_popularity = 60\n",
    "    \n",
    "    \n",
    "obj_1 = Popularity()          #Object_creation\n",
    "print(obj_1.brand_name_1+\" is an \"+obj_1.prod_1+\" popularity of \"+str(obj_1.prod_1_popularity))\n",
    "print(obj_1.brand_name_2+\" is an \"+obj_1.prod_2+\" popularity of \"+str(obj_1.prod_2_popularity))\n",
    "print(obj_1.brand_name_3+\" is an \"+obj_1.prod_3+\" popularity of \"+str(obj_1.prod_3_popularity))"
   ]
  },
  {
   "cell_type": "code",
   "execution_count": 9,
   "id": "59c5f258-a81e-45c7-aa09-09d0c411dade",
   "metadata": {},
   "outputs": [
    {
     "name": "stdout",
     "output_type": "stream",
     "text": [
      "Amazon is an Online Ecommerce Store\n",
      "Amazon is an Online Ecommerce Store\n",
      "Amazon is an Online Ecommerce Store\n"
     ]
    }
   ],
   "source": [
    "#example\n",
    "\n",
    "class Brands:                      #parent_class\n",
    "    brand_name_1 = \"Amazon\"\n",
    "    brand_name_2 = \"Ebay\"\n",
    "    brand_name_3 = \"OLX\"\n",
    "    \n",
    "class Products(Brands):            #child_class\n",
    "    prod_1 = \"Online Ecommerce Store\"\n",
    "    prod_2 = \"Online Store\"\n",
    "    prod_3 = \"Online Buy Sell Store\"\n",
    "\n",
    "class Popularity(Brands):        #grand_child_class\n",
    "    prod_1_popularity = 100\n",
    "    prod_2_popularity = 70\n",
    "    prod_3_popularity = 60\n",
    "\n",
    "class Value(Brands):\n",
    "    prod_1_value = \"Excellent Value\"\n",
    "    prod_2_value = \"Better Value\"\n",
    "    prod_3_value = \"Good Value\"\n",
    "    \n",
    "obj_1 = Products()          #Object_creation\n",
    "obj_2 = Popularity()\n",
    "obj_3 = Value()\n",
    "print(obj_1.brand_name_1+\" is an \"+obj_1.prod_1)\n",
    "print(obj_1.brand_name_1+\" is an \"+obj_1.prod_1)\n",
    "print(obj_1.brand_name_1+\" is an \"+obj_1.prod_1)"
   ]
  },
  {
   "cell_type": "code",
   "execution_count": 10,
   "id": "3deb9399-5d14-4faf-9a31-c9b84c330858",
   "metadata": {},
   "outputs": [
    {
     "name": "stdout",
     "output_type": "stream",
     "text": [
      "This is Student class inheriting PC and Laptop\n",
      "This is Mouse class inheriting Laptop class\n"
     ]
    }
   ],
   "source": [
    "#Example_Hybrid_inheritance\n",
    "class PC:\n",
    "\tdef fun1(self):\n",
    "\t\tprint(\"This is PC class\")\n",
    "\n",
    "class Laptop(PC):\n",
    "\tdef fun2(self):\n",
    "\t\tprint(\"This is Laptop class inheriting PC class\")\n",
    "\n",
    "class Mouse(Laptop):\n",
    "\tdef fun3(self):\n",
    "\t\tprint(\"This is Mouse class inheriting Laptop class\")\n",
    "\n",
    "class Student(Mouse, Laptop):\n",
    "\tdef fun4(self):\n",
    "\t\tprint(\"This is Student class inheriting PC and Laptop\")\n",
    "\n",
    "# Driver’s code\n",
    "obj = Student()\n",
    "obj1 = Mouse()\n",
    "obj.fun4()\n",
    "obj.fun3()"
   ]
  },
  {
   "cell_type": "code",
   "execution_count": null,
   "id": "1b2d222d-905f-418b-a052-08bf5d9c8d8a",
   "metadata": {},
   "outputs": [],
   "source": []
  }
 ],
 "metadata": {
  "kernelspec": {
   "display_name": "Python 3 (ipykernel)",
   "language": "python",
   "name": "python3"
  },
  "language_info": {
   "codemirror_mode": {
    "name": "ipython",
    "version": 3
   },
   "file_extension": ".py",
   "mimetype": "text/x-python",
   "name": "python",
   "nbconvert_exporter": "python",
   "pygments_lexer": "ipython3",
   "version": "3.10.8"
  }
 },
 "nbformat": 4,
 "nbformat_minor": 5
}
