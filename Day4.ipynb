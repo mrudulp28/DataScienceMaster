{
 "cells": [
  {
   "cell_type": "code",
   "execution_count": 1,
   "id": "a36c43db-a8e7-47a2-8ef2-bee78d592724",
   "metadata": {},
   "outputs": [],
   "source": [
    "name=\"Data Science Masters\""
   ]
  },
  {
   "cell_type": "code",
   "execution_count": 2,
   "id": "c8d0c2a3-1787-497f-ac97-b696c56eca67",
   "metadata": {},
   "outputs": [
    {
     "data": {
      "text/plain": [
       "'dATA sCIENCE mASTERS'"
      ]
     },
     "execution_count": 2,
     "metadata": {},
     "output_type": "execute_result"
    }
   ],
   "source": [
    "name.swapcase()"
   ]
  },
  {
   "cell_type": "code",
   "execution_count": 3,
   "id": "bd160a00-09cb-4e67-ba8f-078b306bedf7",
   "metadata": {},
   "outputs": [
    {
     "data": {
      "text/plain": [
       "'Data Science Masters'"
      ]
     },
     "execution_count": 3,
     "metadata": {},
     "output_type": "execute_result"
    }
   ],
   "source": [
    "name.title()"
   ]
  },
  {
   "cell_type": "markdown",
   "id": "1e65daf0-5bb8-44e8-a901-df5dbda47467",
   "metadata": {},
   "source": [
    "## Reverse a String"
   ]
  },
  {
   "cell_type": "code",
   "execution_count": 4,
   "id": "23e35c3b-42fb-4d4e-ad6c-bbd4042b6ffc",
   "metadata": {},
   "outputs": [
    {
     "data": {
      "text/plain": [
       "'sretsaM ecneicS ataD'"
      ]
     },
     "execution_count": 4,
     "metadata": {},
     "output_type": "execute_result"
    }
   ],
   "source": [
    "name[::-1]"
   ]
  },
  {
   "cell_type": "code",
   "execution_count": 6,
   "id": "0c332b8a-e98f-45f6-8f34-d85e8516a1ea",
   "metadata": {},
   "outputs": [
    {
     "data": {
      "text/plain": [
       "'s r e t s a M   e c n e i c S   a t a D'"
      ]
     },
     "execution_count": 6,
     "metadata": {},
     "output_type": "execute_result"
    }
   ],
   "source": [
    "' '.join(reversed(name))"
   ]
  },
  {
   "cell_type": "markdown",
   "id": "964b31b2-b23f-461d-911d-2d2f904060a1",
   "metadata": {},
   "source": [
    "Join is a Function that is used with string"
   ]
  },
  {
   "cell_type": "code",
   "execution_count": 7,
   "id": "28dbe41f-5b31-4799-9203-5af7d34bdc26",
   "metadata": {},
   "outputs": [
    {
     "data": {
      "text/plain": [
       "'NKrishaKrishiKrishk'"
      ]
     },
     "execution_count": 7,
     "metadata": {},
     "output_type": "execute_result"
    }
   ],
   "source": [
    "\"Krish\".join(\"Naik\")"
   ]
  },
  {
   "cell_type": "code",
   "execution_count": 8,
   "id": "6503ae0f-a9b9-4317-8804-56f5cb10f16a",
   "metadata": {},
   "outputs": [
    {
     "data": {
      "text/plain": [
       "'a b c d'"
      ]
     },
     "execution_count": 8,
     "metadata": {},
     "output_type": "execute_result"
    }
   ],
   "source": [
    "' '.join(\"abcd\")"
   ]
  },
  {
   "cell_type": "code",
   "execution_count": 9,
   "id": "d36e03c0-ba30-4e66-b179-bc45dbef609c",
   "metadata": {},
   "outputs": [
    {
     "data": {
      "text/plain": [
       "'sretsaM ecneicS ataD'"
      ]
     },
     "execution_count": 9,
     "metadata": {},
     "output_type": "execute_result"
    }
   ],
   "source": [
    "''.join(reversed(name))"
   ]
  },
  {
   "cell_type": "code",
   "execution_count": 11,
   "id": "b6f9cb70-4637-4153-8b11-d3cff344f782",
   "metadata": {},
   "outputs": [
    {
     "data": {
      "text/plain": [
       "['d', 'c', 'b', 'a']"
      ]
     },
     "execution_count": 11,
     "metadata": {},
     "output_type": "execute_result"
    }
   ],
   "source": [
    "list(reversed(\"abcd\"))"
   ]
  },
  {
   "cell_type": "code",
   "execution_count": 16,
   "id": "2a730048-15a3-4991-8f1c-b610dc8196ae",
   "metadata": {},
   "outputs": [],
   "source": [
    "string_a=\" pwskills \""
   ]
  },
  {
   "cell_type": "code",
   "execution_count": 14,
   "id": "6f95898d-3519-4869-9398-1bfbcebdc4fa",
   "metadata": {},
   "outputs": [
    {
     "data": {
      "text/plain": [
       "'pwskills'"
      ]
     },
     "execution_count": 14,
     "metadata": {},
     "output_type": "execute_result"
    }
   ],
   "source": [
    "string_a.strip(\" \")"
   ]
  },
  {
   "cell_type": "code",
   "execution_count": 17,
   "id": "c8e2c5ec-be55-4331-9581-c9c5b8c682a8",
   "metadata": {},
   "outputs": [
    {
     "data": {
      "text/plain": [
       "'pwskills '"
      ]
     },
     "execution_count": 17,
     "metadata": {},
     "output_type": "execute_result"
    }
   ],
   "source": [
    "string_a.lstrip(\" \")"
   ]
  },
  {
   "cell_type": "code",
   "execution_count": 18,
   "id": "2b5854b0-5a67-42bb-b753-4ec95f08e9b6",
   "metadata": {},
   "outputs": [
    {
     "data": {
      "text/plain": [
       "' pwskills'"
      ]
     },
     "execution_count": 18,
     "metadata": {},
     "output_type": "execute_result"
    }
   ],
   "source": [
    "string_a.rstrip(\" \")"
   ]
  },
  {
   "cell_type": "code",
   "execution_count": 31,
   "id": "8d4d624f-f912-4d3e-be44-b362704fb551",
   "metadata": {},
   "outputs": [],
   "source": [
    "string_n=\"greetings welcome to pwskills\""
   ]
  },
  {
   "cell_type": "code",
   "execution_count": 20,
   "id": "488027f5-eb09-4e87-a387-bad24160e280",
   "metadata": {},
   "outputs": [
    {
     "data": {
      "text/plain": [
       "'greetings welcome from pwskills'"
      ]
     },
     "execution_count": 20,
     "metadata": {},
     "output_type": "execute_result"
    }
   ],
   "source": [
    "string_n.replace(\"to\",\"from\")"
   ]
  },
  {
   "cell_type": "code",
   "execution_count": 22,
   "id": "2f091cf5-a8f4-4a8f-911c-b1e9aaae0305",
   "metadata": {},
   "outputs": [
    {
     "data": {
      "text/plain": [
       "'hello   world'"
      ]
     },
     "execution_count": 22,
     "metadata": {},
     "output_type": "execute_result"
    }
   ],
   "source": [
    "(\"hello \\tworld\").expandtabs()"
   ]
  },
  {
   "cell_type": "code",
   "execution_count": 23,
   "id": "23f632dd-f568-4969-9ad2-75f4ca3d2fe7",
   "metadata": {},
   "outputs": [],
   "source": [
    "str1=\"welcome to pwskills. Welcome to dat cience\""
   ]
  },
  {
   "cell_type": "code",
   "execution_count": 24,
   "id": "9dd4e2da-53f8-4554-a918-bdd641846f69",
   "metadata": {},
   "outputs": [
    {
     "data": {
      "text/plain": [
       "'welcome to pwskills. Welcome to Data Science'"
      ]
     },
     "execution_count": 24,
     "metadata": {},
     "output_type": "execute_result"
    }
   ],
   "source": [
    "str1.replace(\"dat\",\"Data\").replace(\"cience\",\"Science\")"
   ]
  },
  {
   "cell_type": "code",
   "execution_count": 26,
   "id": "682e0335-9a06-441d-bc98-c5b9a0b2f619",
   "metadata": {},
   "outputs": [
    {
     "data": {
      "text/plain": [
       "False"
      ]
     },
     "execution_count": 26,
     "metadata": {},
     "output_type": "execute_result"
    }
   ],
   "source": [
    "string_n.isupper()"
   ]
  },
  {
   "cell_type": "code",
   "execution_count": 27,
   "id": "0debcc9a-6100-40a7-afb4-d54a48561fec",
   "metadata": {},
   "outputs": [
    {
     "data": {
      "text/plain": [
       "True"
      ]
     },
     "execution_count": 27,
     "metadata": {},
     "output_type": "execute_result"
    }
   ],
   "source": [
    "string_n.islower()"
   ]
  },
  {
   "cell_type": "code",
   "execution_count": 29,
   "id": "6b5c805d-69d1-4c14-966a-ac5c05e1b203",
   "metadata": {},
   "outputs": [
    {
     "data": {
      "text/plain": [
       "True"
      ]
     },
     "execution_count": 29,
     "metadata": {},
     "output_type": "execute_result"
    }
   ],
   "source": [
    "' '.isspace()"
   ]
  },
  {
   "cell_type": "code",
   "execution_count": 32,
   "id": "6b8016c2-a290-4f2c-8a5a-5ce0729e8240",
   "metadata": {},
   "outputs": [
    {
     "data": {
      "text/plain": [
       "False"
      ]
     },
     "execution_count": 32,
     "metadata": {},
     "output_type": "execute_result"
    }
   ],
   "source": [
    "string_n.endswith(\"e\")"
   ]
  },
  {
   "cell_type": "code",
   "execution_count": 34,
   "id": "55760764-814c-4302-bdf9-d0d29eeedc64",
   "metadata": {},
   "outputs": [
    {
     "data": {
      "text/plain": [
       "False"
      ]
     },
     "execution_count": 34,
     "metadata": {},
     "output_type": "execute_result"
    }
   ],
   "source": [
    "string_n.startswith(\"e\")"
   ]
  },
  {
   "cell_type": "code",
   "execution_count": 35,
   "id": "6ad50199-8a37-4abe-9624-f1a4b267ce66",
   "metadata": {},
   "outputs": [],
   "source": [
    "a=\"adug7q3t923dh\""
   ]
  },
  {
   "cell_type": "code",
   "execution_count": 37,
   "id": "750b01d4-f0e9-4c84-9aa8-aaf670fdd719",
   "metadata": {},
   "outputs": [
    {
     "data": {
      "text/plain": [
       "True"
      ]
     },
     "execution_count": 37,
     "metadata": {},
     "output_type": "execute_result"
    }
   ],
   "source": [
    "a.isalnum()"
   ]
  },
  {
   "cell_type": "code",
   "execution_count": 38,
   "id": "8989700b-1f73-4007-ba6f-c9399f7b91db",
   "metadata": {},
   "outputs": [
    {
     "data": {
      "text/plain": [
       "1"
      ]
     },
     "execution_count": 38,
     "metadata": {},
     "output_type": "execute_result"
    }
   ],
   "source": [
    "str1.count(\"Welcome\")"
   ]
  },
  {
   "cell_type": "code",
   "execution_count": 39,
   "id": "9f63f408-a670-457c-9273-ef14a8a56584",
   "metadata": {},
   "outputs": [
    {
     "name": "stdout",
     "output_type": "stream",
     "text": [
      "0 = a\n",
      "1 = d\n",
      "2 = u\n",
      "3 = g\n",
      "4 = 7\n",
      "5 = q\n",
      "6 = 3\n",
      "7 = t\n",
      "8 = 9\n",
      "9 = 2\n",
      "10 = 3\n",
      "11 = d\n",
      "12 = h\n"
     ]
    }
   ],
   "source": [
    "for i in range(len(a)):\n",
    "    print(i,'=',a[i])"
   ]
  },
  {
   "cell_type": "code",
   "execution_count": 41,
   "id": "85ae5a54-1ef2-4b1c-bb32-86d340b49dba",
   "metadata": {},
   "outputs": [
    {
     "name": "stdout",
     "output_type": "stream",
     "text": [
      "12 = h\n",
      "11 = d\n",
      "10 = 3\n",
      "9 = 2\n",
      "8 = 9\n",
      "7 = t\n",
      "6 = 3\n",
      "5 = q\n",
      "4 = 7\n",
      "3 = g\n",
      "2 = u\n",
      "1 = d\n",
      "0 = a\n"
     ]
    }
   ],
   "source": [
    "for i in range(len(a)-1,-1,-1):\n",
    "    print(i,'=',a[i])"
   ]
  },
  {
   "cell_type": "code",
   "execution_count": 53,
   "id": "4da1db20-e5b1-43b1-8dc8-8209e17317fc",
   "metadata": {},
   "outputs": [
    {
     "name": "stdout",
     "output_type": "stream",
     "text": [
      "h\n",
      "d\n",
      "3\n",
      "2\n",
      "9\n",
      "t\n",
      "3\n",
      "q\n",
      "7\n",
      "g\n",
      "u\n",
      "d\n",
      "a\n",
      "h\n"
     ]
    }
   ],
   "source": [
    "i=len(a)\n",
    "while(i>=0):\n",
    "    print(a[i-1])\n",
    "    i=i-1"
   ]
  },
  {
   "cell_type": "code",
   "execution_count": 54,
   "id": "48a37283-d082-45b6-bf1e-2743f633410d",
   "metadata": {},
   "outputs": [],
   "source": [
    "Name=\"pwskills\"\n",
    "vowels=\"AaEeIiOoUu\""
   ]
  },
  {
   "cell_type": "code",
   "execution_count": 56,
   "id": "c9a85be5-f06b-4a82-9acf-a4b6b2e0fbc4",
   "metadata": {},
   "outputs": [
    {
     "name": "stdout",
     "output_type": "stream",
     "text": [
      "p is not a vowel\n",
      "w is not a vowel\n",
      "s is not a vowel\n",
      "k is not a vowel\n",
      "i is a vowel\n",
      "l is not a vowel\n",
      "l is not a vowel\n",
      "s is not a vowel\n"
     ]
    }
   ],
   "source": [
    "for i in Name:\n",
    "    if i in vowels:\n",
    "        print(\"{} is a vowel\".format(i))\n",
    "    else:\n",
    "        print(\"{} is not a vowel\".format(i))\n",
    "        "
   ]
  },
  {
   "cell_type": "markdown",
   "id": "de6591e2-67d7-4004-a32e-8ef3875a2ea4",
   "metadata": {},
   "source": [
    "## Lists"
   ]
  },
  {
   "cell_type": "code",
   "execution_count": 57,
   "id": "6a94f01d-951f-4ee1-9007-2e90e7f036d8",
   "metadata": {},
   "outputs": [
    {
     "data": {
      "text/plain": [
       "list"
      ]
     },
     "execution_count": 57,
     "metadata": {},
     "output_type": "execute_result"
    }
   ],
   "source": [
    "type([])"
   ]
  },
  {
   "cell_type": "code",
   "execution_count": 58,
   "id": "76f3abfc-f0f7-4e14-9d69-43127b9711a9",
   "metadata": {},
   "outputs": [
    {
     "data": {
      "text/plain": [
       "['Mrudul', 'Patil']"
      ]
     },
     "execution_count": 58,
     "metadata": {},
     "output_type": "execute_result"
    }
   ],
   "source": [
    "[\"Mrudul\",\"Patil\"]"
   ]
  },
  {
   "cell_type": "code",
   "execution_count": 59,
   "id": "d7773efb-f8c1-44e9-8554-3b0cd8467d3e",
   "metadata": {},
   "outputs": [
    {
     "data": {
      "text/plain": [
       "[1, 2, 3, 4, 5]"
      ]
     },
     "execution_count": 59,
     "metadata": {},
     "output_type": "execute_result"
    }
   ],
   "source": [
    "list([1,2,3,4,5])"
   ]
  },
  {
   "cell_type": "code",
   "execution_count": 62,
   "id": "c72b42f6-cfb5-4d71-97d7-3f7d1ad757f5",
   "metadata": {},
   "outputs": [],
   "source": [
    "lst1=list(str1.split(\" \"))"
   ]
  },
  {
   "cell_type": "code",
   "execution_count": 63,
   "id": "caddc79b-5699-478f-95fe-279036f5ffba",
   "metadata": {},
   "outputs": [
    {
     "data": {
      "text/plain": [
       "['welcome', 'to', 'pwskills.', 'Welcome', 'to', 'dat', 'cience']"
      ]
     },
     "execution_count": 63,
     "metadata": {},
     "output_type": "execute_result"
    }
   ],
   "source": [
    "lst1"
   ]
  },
  {
   "cell_type": "code",
   "execution_count": 64,
   "id": "95bc1768-5813-403d-9453-62718896484b",
   "metadata": {},
   "outputs": [
    {
     "data": {
      "text/plain": [
       "['to', 'pwskills.', 'Welcome', 'to', 'dat', 'cience']"
      ]
     },
     "execution_count": 64,
     "metadata": {},
     "output_type": "execute_result"
    }
   ],
   "source": [
    "lst1[1:]"
   ]
  },
  {
   "cell_type": "code",
   "execution_count": 66,
   "id": "4a58c650-c355-4746-a0f6-ef7ec1962180",
   "metadata": {},
   "outputs": [],
   "source": [
    "lst1[1]=\"Data\""
   ]
  },
  {
   "cell_type": "code",
   "execution_count": 67,
   "id": "ac86ed5c-2441-4260-9cd6-11d28ec79c8e",
   "metadata": {},
   "outputs": [
    {
     "data": {
      "text/plain": [
       "['welcome', 'Data', 'pwskills.', 'Welcome', 'to', 'dat', 'cience']"
      ]
     },
     "execution_count": 67,
     "metadata": {},
     "output_type": "execute_result"
    }
   ],
   "source": [
    "lst1"
   ]
  },
  {
   "cell_type": "code",
   "execution_count": 68,
   "id": "f5fccf8d-d0ac-4abf-89f8-9f82765e3b72",
   "metadata": {},
   "outputs": [
    {
     "data": {
      "text/plain": [
       "['cience', 'to', 'pwskills.', 'welcome']"
      ]
     },
     "execution_count": 68,
     "metadata": {},
     "output_type": "execute_result"
    }
   ],
   "source": [
    "lst1[::-2]"
   ]
  },
  {
   "cell_type": "code",
   "execution_count": 69,
   "id": "771c71ac-87dd-4e32-8af7-b947f582dad2",
   "metadata": {},
   "outputs": [],
   "source": [
    "# you can only concatinate 2 lists"
   ]
  },
  {
   "cell_type": "code",
   "execution_count": 2,
   "id": "2a0ecbf8-1e65-4da6-877e-8aff53d4c0ec",
   "metadata": {},
   "outputs": [],
   "source": [
    "l2=['welcome', 'Data', 'pwskills.', 'Welcome', 'to', 'dat', 'cience',[1,2,3,4]]"
   ]
  },
  {
   "cell_type": "code",
   "execution_count": 71,
   "id": "e8214043-8946-481c-81c5-01ba2f1593b6",
   "metadata": {},
   "outputs": [
    {
     "data": {
      "text/plain": [
       "2"
      ]
     },
     "execution_count": 71,
     "metadata": {},
     "output_type": "execute_result"
    }
   ],
   "source": [
    "l2[-1][1]"
   ]
  },
  {
   "cell_type": "code",
   "execution_count": 3,
   "id": "5545fa3b-52ab-46bb-afa7-4d8d7b7ea88d",
   "metadata": {},
   "outputs": [
    {
     "name": "stdout",
     "output_type": "stream",
     "text": [
      "welcome\n",
      "Data\n",
      "pwskills.\n",
      "Welcome\n",
      "to\n",
      "dat\n",
      "cience\n",
      "[1, 2, 3, 4]\n"
     ]
    }
   ],
   "source": [
    "for i in l2:\n",
    "    print(i)"
   ]
  },
  {
   "cell_type": "code",
   "execution_count": 4,
   "id": "6f43543a-9371-46a7-bac4-3aae75ce5b3e",
   "metadata": {},
   "outputs": [
    {
     "name": "stdout",
     "output_type": "stream",
     "text": [
      "to is present\n"
     ]
    }
   ],
   "source": [
    "for i in l2:\n",
    "    if i=='to':\n",
    "        print(\"to is present\")\n",
    "        break\n",
    "        "
   ]
  },
  {
   "cell_type": "code",
   "execution_count": 12,
   "id": "b8416068-acba-452b-aca7-246f6267b533",
   "metadata": {},
   "outputs": [],
   "source": [
    "l3=[1,2,3,4,5]"
   ]
  },
  {
   "cell_type": "code",
   "execution_count": 13,
   "id": "eda4d2c7-9476-4f79-85e6-44725e26dc8d",
   "metadata": {},
   "outputs": [],
   "source": [
    "l3.append(\"pwskills\")"
   ]
  },
  {
   "cell_type": "code",
   "execution_count": 14,
   "id": "81b8e0db-dce8-4d19-893c-722375facd32",
   "metadata": {},
   "outputs": [
    {
     "data": {
      "text/plain": [
       "[1, 2, 3, 4, 5, 'pwskills']"
      ]
     },
     "execution_count": 14,
     "metadata": {},
     "output_type": "execute_result"
    }
   ],
   "source": [
    "l3"
   ]
  },
  {
   "cell_type": "code",
   "execution_count": 15,
   "id": "8f1a0739-dab0-43dc-a9e5-4fc2c145cc87",
   "metadata": {},
   "outputs": [
    {
     "data": {
      "text/plain": [
       "'pwskills'"
      ]
     },
     "execution_count": 15,
     "metadata": {},
     "output_type": "execute_result"
    }
   ],
   "source": [
    "l3.pop()"
   ]
  },
  {
   "cell_type": "code",
   "execution_count": 16,
   "id": "95a35cef-3f3c-405c-a88d-10fb96854d97",
   "metadata": {},
   "outputs": [
    {
     "data": {
      "text/plain": [
       "4"
      ]
     },
     "execution_count": 16,
     "metadata": {},
     "output_type": "execute_result"
    }
   ],
   "source": [
    "## this will pop element from index 3\n",
    "l3.pop(3)"
   ]
  },
  {
   "cell_type": "code",
   "execution_count": 17,
   "id": "0f0d7087-ca1e-456c-b6fc-dbdfe3414f96",
   "metadata": {},
   "outputs": [
    {
     "data": {
      "text/plain": [
       "[1, 2, 3, 5]"
      ]
     },
     "execution_count": 17,
     "metadata": {},
     "output_type": "execute_result"
    }
   ],
   "source": [
    "l3"
   ]
  },
  {
   "cell_type": "code",
   "execution_count": 18,
   "id": "09b900e2-c0c2-42b1-a61e-0d452cbd2b46",
   "metadata": {},
   "outputs": [
    {
     "data": {
      "text/plain": [
       "[[1, 2, 3, 4],\n",
       " 'cience',\n",
       " 'dat',\n",
       " 'to',\n",
       " 'Welcome',\n",
       " 'pwskills.',\n",
       " 'Data',\n",
       " 'welcome']"
      ]
     },
     "execution_count": 18,
     "metadata": {},
     "output_type": "execute_result"
    }
   ],
   "source": [
    "l2.reverse()\n",
    "l2"
   ]
  },
  {
   "cell_type": "code",
   "execution_count": 19,
   "id": "4c95a13a-92de-4fcf-9e3b-89baedd87751",
   "metadata": {},
   "outputs": [
    {
     "data": {
      "text/plain": [
       "[5, 3, 2, 1]"
      ]
     },
     "execution_count": 19,
     "metadata": {},
     "output_type": "execute_result"
    }
   ],
   "source": [
    "l3[::-1]"
   ]
  },
  {
   "cell_type": "code",
   "execution_count": 21,
   "id": "65a2632f-3bfa-4c7e-a248-6d39ed53f784",
   "metadata": {},
   "outputs": [],
   "source": [
    "l3.sort()"
   ]
  },
  {
   "cell_type": "code",
   "execution_count": 22,
   "id": "ad1810fa-4dd7-4fb4-a17a-3e5dd1166f35",
   "metadata": {},
   "outputs": [],
   "source": [
    "l4=['welcome', 'Data', 'pwskills.', 'Welcome', 'to', 'dat', 'cience']"
   ]
  },
  {
   "cell_type": "code",
   "execution_count": 23,
   "id": "948e9be9-d5e6-4d07-b1bf-5f0e23fd2e57",
   "metadata": {},
   "outputs": [],
   "source": [
    "l4.sort()"
   ]
  },
  {
   "cell_type": "code",
   "execution_count": 24,
   "id": "34521a16-f602-4004-925f-43e603c65f93",
   "metadata": {},
   "outputs": [],
   "source": [
    "li1=[1,2,3]\n",
    "li2=[4,5,6]\n",
    "li3=[7,8,9]\n",
    "matrix=[li1,li2,li3]"
   ]
  },
  {
   "cell_type": "code",
   "execution_count": 25,
   "id": "a1148feb-c166-4b5a-854c-5ba2c2b0d916",
   "metadata": {},
   "outputs": [
    {
     "data": {
      "text/plain": [
       "6"
      ]
     },
     "execution_count": 25,
     "metadata": {},
     "output_type": "execute_result"
    }
   ],
   "source": [
    "matrix[1][2]"
   ]
  },
  {
   "cell_type": "code",
   "execution_count": 26,
   "id": "342c8623-5a39-4abf-be71-288cabcb28a9",
   "metadata": {},
   "outputs": [
    {
     "data": {
      "text/plain": [
       "[8, 9]"
      ]
     },
     "execution_count": 26,
     "metadata": {},
     "output_type": "execute_result"
    }
   ],
   "source": [
    "matrix[-1][1:]"
   ]
  },
  {
   "cell_type": "code",
   "execution_count": 30,
   "id": "d5653596-84a5-48c5-ad8c-d713a4e83bb9",
   "metadata": {},
   "outputs": [
    {
     "data": {
      "text/plain": [
       "[0, 1, 2, 3, 4, 5, 6, 7, 8, 9, 10, 11, 12, 13, 14, 15, 16, 17, 18, 19]"
      ]
     },
     "execution_count": 30,
     "metadata": {},
     "output_type": "execute_result"
    }
   ],
   "source": [
    "##List comprehension\n",
    "[i for i in range(20)]"
   ]
  },
  {
   "cell_type": "code",
   "execution_count": 34,
   "id": "9495cc0d-b666-4f45-8c3c-281191239eba",
   "metadata": {},
   "outputs": [
    {
     "data": {
      "text/plain": [
       "[0,\n",
       " 'odd',\n",
       " 2,\n",
       " 'odd',\n",
       " 4,\n",
       " 'odd',\n",
       " 6,\n",
       " 'odd',\n",
       " 8,\n",
       " 'odd',\n",
       " 10,\n",
       " 'odd',\n",
       " 12,\n",
       " 'odd',\n",
       " 14,\n",
       " 'odd',\n",
       " 16,\n",
       " 'odd',\n",
       " 18,\n",
       " 'odd']"
      ]
     },
     "execution_count": 34,
     "metadata": {},
     "output_type": "execute_result"
    }
   ],
   "source": [
    "[i if i%2==0 else \"odd\" for i in range(20)]"
   ]
  },
  {
   "cell_type": "code",
   "execution_count": 42,
   "id": "a0c6b9a8-3c33-4101-9e1a-615ee299d5e3",
   "metadata": {},
   "outputs": [
    {
     "data": {
      "text/plain": [
       "[1, 2, 3, 4, 5, 6, 7, 8, 9]"
      ]
     },
     "execution_count": 42,
     "metadata": {},
     "output_type": "execute_result"
    }
   ],
   "source": [
    "[j for i in matrix for j in i]"
   ]
  },
  {
   "cell_type": "code",
   "execution_count": null,
   "id": "c68a386b-a455-4b46-9a65-cc187c5d4ac3",
   "metadata": {},
   "outputs": [],
   "source": []
  }
 ],
 "metadata": {
  "kernelspec": {
   "display_name": "Python 3 (ipykernel)",
   "language": "python",
   "name": "python3"
  },
  "language_info": {
   "codemirror_mode": {
    "name": "ipython",
    "version": 3
   },
   "file_extension": ".py",
   "mimetype": "text/x-python",
   "name": "python",
   "nbconvert_exporter": "python",
   "pygments_lexer": "ipython3",
   "version": "3.10.8"
  }
 },
 "nbformat": 4,
 "nbformat_minor": 5
}
