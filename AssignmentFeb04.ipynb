{
 "cells": [
  {
   "cell_type": "markdown",
   "id": "cb4ea128-ca15-4430-8b6f-71b54194e8f4",
   "metadata": {},
   "source": [
    "## 1)Create a python program to sort the given list of tuples based on integer value using a lambda function."
   ]
  },
  {
   "cell_type": "code",
   "execution_count": 1,
   "id": "bc377c2b-c114-4e39-b7e3-fbd87fa86ebf",
   "metadata": {},
   "outputs": [],
   "source": [
    "l=[('Sachin Tendulkar', 34357), ('Ricky Ponting', 27483), ('Jack Kallis', 25534), ('Virat Kohli', 24936)]"
   ]
  },
  {
   "cell_type": "code",
   "execution_count": 4,
   "id": "2f54a8fb-4ac1-4ea3-aac0-0f4da758aa54",
   "metadata": {},
   "outputs": [],
   "source": [
    "l_sorted=sorted(l,key=lambda x:x[1])"
   ]
  },
  {
   "cell_type": "code",
   "execution_count": 5,
   "id": "12622069-dbb3-419a-8198-4cdeda3b53fe",
   "metadata": {},
   "outputs": [
    {
     "data": {
      "text/plain": [
       "[('Virat Kohli', 24936),\n",
       " ('Jack Kallis', 25534),\n",
       " ('Ricky Ponting', 27483),\n",
       " ('Sachin Tendulkar', 34357)]"
      ]
     },
     "execution_count": 5,
     "metadata": {},
     "output_type": "execute_result"
    }
   ],
   "source": [
    "l_sorted"
   ]
  },
  {
   "cell_type": "markdown",
   "id": "324bbeac-7d17-4b79-86cd-725e6d63fbac",
   "metadata": {},
   "source": [
    "## 2)Write a Python Program to find the squares of all the numbers in the given list of integers using lambda and map functions."
   ]
  },
  {
   "cell_type": "code",
   "execution_count": 9,
   "id": "7f8634ce-f036-4b4b-ad36-75c5ed73c946",
   "metadata": {},
   "outputs": [
    {
     "data": {
      "text/plain": [
       "[1, 4, 9, 16, 25, 36, 49, 64, 81, 100]"
      ]
     },
     "execution_count": 9,
     "metadata": {},
     "output_type": "execute_result"
    }
   ],
   "source": [
    "l=[1, 2, 3, 4, 5, 6, 7, 8, 9, 10]\n",
    "l1=list(map(lambda x:x**2,l))\n",
    "l1"
   ]
  },
  {
   "cell_type": "markdown",
   "id": "ee2deb23-a4e7-4dc4-a698-c33f55494485",
   "metadata": {},
   "source": [
    "## 3)Write a python program to convert the given list of integers into a tuple of strings. Use map and lambda functions"
   ]
  },
  {
   "cell_type": "code",
   "execution_count": 11,
   "id": "9c6b677b-618c-45f7-8090-13e89777f48a",
   "metadata": {},
   "outputs": [
    {
     "data": {
      "text/plain": [
       "('1', '2', '3', '4', '5', '6', '7', '8', '9', '10')"
      ]
     },
     "execution_count": 11,
     "metadata": {},
     "output_type": "execute_result"
    }
   ],
   "source": [
    "l=[1, 2, 3, 4, 5, 6, 7, 8, 9, 10]\n",
    "st1=tuple(map(lambda x:str(x),l))\n",
    "st1"
   ]
  },
  {
   "cell_type": "markdown",
   "id": "53fe49de-173a-4c39-8736-ceed65ded145",
   "metadata": {},
   "source": [
    "## 4)Write a python program using reduce function to compute the product of a list containing numbers from 1 to 25."
   ]
  },
  {
   "cell_type": "code",
   "execution_count": 14,
   "id": "1ca4f722-b661-4dbd-bbe2-dae8f1283832",
   "metadata": {},
   "outputs": [],
   "source": [
    "from functools import reduce"
   ]
  },
  {
   "cell_type": "code",
   "execution_count": 16,
   "id": "81190a46-8421-4072-b6cf-f3440b27b662",
   "metadata": {},
   "outputs": [
    {
     "name": "stdout",
     "output_type": "stream",
     "text": [
      "[1, 2, 3, 4, 5, 6, 7, 8, 9, 10, 11, 12, 13, 14, 15, 16, 17, 18, 19, 20, 21, 22, 23, 24, 25]\n"
     ]
    },
    {
     "data": {
      "text/plain": [
       "15511210043330985984000000"
      ]
     },
     "execution_count": 16,
     "metadata": {},
     "output_type": "execute_result"
    }
   ],
   "source": [
    "l=[]\n",
    "for i in range(1,26):\n",
    "    l.append(i)\n",
    "print(l)\n",
    "reduce(lambda x,y:x*y,l)\n",
    "\n",
    "    "
   ]
  },
  {
   "cell_type": "markdown",
   "id": "744d7907-bc18-43ba-8925-063370fcf0e6",
   "metadata": {},
   "source": [
    "## 5)Write a python program to filter the numbers in a given list that are divisible by 2 and 3 using the filter function."
   ]
  },
  {
   "cell_type": "code",
   "execution_count": 18,
   "id": "8aa14b17-418c-4b4d-b9c2-f63f11085cf0",
   "metadata": {},
   "outputs": [
    {
     "data": {
      "text/plain": [
       "[6, 60, 90, 120]"
      ]
     },
     "execution_count": 18,
     "metadata": {},
     "output_type": "execute_result"
    }
   ],
   "source": [
    "l=[2, 3, 6, 9, 27, 60, 90, 120, 55, 46]\n",
    "list(filter(lambda x:x%2==0 and x%3==0,l))"
   ]
  },
  {
   "cell_type": "markdown",
   "id": "1b8f06e0-2c9d-4078-8e82-218c056d4a6e",
   "metadata": {},
   "source": [
    "## 6)"
   ]
  }
 ],
 "metadata": {
  "kernelspec": {
   "display_name": "Python 3 (ipykernel)",
   "language": "python",
   "name": "python3"
  },
  "language_info": {
   "codemirror_mode": {
    "name": "ipython",
    "version": 3
   },
   "file_extension": ".py",
   "mimetype": "text/x-python",
   "name": "python",
   "nbconvert_exporter": "python",
   "pygments_lexer": "ipython3",
   "version": "3.10.8"
  }
 },
 "nbformat": 4,
 "nbformat_minor": 5
}
