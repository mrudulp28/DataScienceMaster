{
 "cells": [
  {
   "cell_type": "markdown",
   "id": "de7e1209-f3d9-482c-92bf-3815ccdfd713",
   "metadata": {},
   "source": [
    "## Q1. Create a function which will take a list as an argument and return the product of all the numbers after creating a flat list. Use the below-given list as an argument for your function."
   ]
  },
  {
   "cell_type": "code",
   "execution_count": 3,
   "id": "af2a66cc-762d-423e-9da5-6e7395882a95",
   "metadata": {},
   "outputs": [],
   "source": [
    "list1 = [1,2,3,4, [44,55,66, True], False, (34,56,78,89,34), {1,2,3,3,2,1}, {1:34, \"key2\": [55, 67, 78, 89], 4: (45,\n",
    "22, 61, 34)}, [56, 'data science'], 'Machine Learning']"
   ]
  },
  {
   "cell_type": "code",
   "execution_count": 4,
   "id": "6a0a0eda-1280-4e22-b17d-91b52cf54b74",
   "metadata": {},
   "outputs": [
    {
     "name": "stdout",
     "output_type": "stream",
     "text": [
      "list1 =  [1, 2, 3, 4, [44, 55, 66, True], False, (34, 56, 78, 89, 34), {1, 2, 3}, {1: 34, 'key2': [55, 67, 78, 89], 4: (45, 22, 61, 34)}, [56, 'data science'], 'Machine Learning']\n",
      " \n",
      "Product of Numbers in list1 =  4134711838987085478833841242112000\n"
     ]
    }
   ],
   "source": [
    "def extract_number(i):\n",
    "    l = []\n",
    "    if type(i) == int:\n",
    "        l.append(i)\n",
    "        return l\n",
    "    if type(i) == list or type(i) == tuple or type(i) == set:\n",
    "        for j in i:\n",
    "            if type(j) == int:\n",
    "                l.append(j)\n",
    "        return l\n",
    "    \n",
    "def list_product(l):\n",
    "    l1 = []\n",
    "    for i in l:\n",
    "        if type(i) == dict:\n",
    "            for j in list(i.values()):\n",
    "                l1.extend(extract_number(j)) if type(extract_number(j)) == list else None\n",
    "            for j in list(i.keys()):\n",
    "                l1.extend(extract_number(j)) if type(extract_number(j)) == list else None\n",
    "        else:\n",
    "            l1.extend(extract_number(i)) if type(extract_number(i)) == list else None\n",
    "\n",
    "\n",
    "    from functools import  reduce \n",
    "    return reduce(lambda x,y: x*y, l1)\n",
    "\n",
    "print(\"list1 = \",list1)\n",
    "print(\" \")\n",
    "print(\"Product of Numbers in list1 = \", list_product(list1))"
   ]
  },
  {
   "cell_type": "markdown",
   "id": "fa8d11a1-c627-4831-83bc-13d6db2e0011",
   "metadata": {},
   "source": [
    "## Q2. Write a python program for encrypting a message sent to you by your friend. The logic of encryption should be such that, for a the output should be z. For b, the output should be y. For c, the output should be x respectively. Also, the whitespace should be replaced with a dollar sign. Keep the punctuation marks unchanged."
   ]
  },
  {
   "cell_type": "code",
   "execution_count": 5,
   "id": "ec5f6614-e3f8-4069-836f-c1043aaeb35f",
   "metadata": {},
   "outputs": [
    {
     "name": "stdout",
     "output_type": "stream",
     "text": [
      "unencrypted message =  I want to become a Data Scientist.\n",
      " \n",
      "encrypted message   =  I$wznt$to$yexome$z$Dztz$Sxientist.\n"
     ]
    }
   ],
   "source": [
    "unencrypted_message = \"I want to become a Data Scientist.\"\n",
    "\n",
    "def encrypt_message(message):\n",
    "    orignal = ['a','b','c',' ']\n",
    "    encrypt = ['z','y','x','$']\n",
    "    i = 0\n",
    "    while i < len(orignal) and i < len(encrypt):\n",
    "        message = message.replace(orignal[i],encrypt[i])\n",
    "        i +=1\n",
    "    return message\n",
    "\n",
    "print(\"unencrypted message = \", unencrypted_message)\n",
    "print(\" \")\n",
    "print(\"encrypted message   = \",encrypt_message(unencrypted_message))\n"
   ]
  },
  {
   "cell_type": "code",
   "execution_count": null,
   "id": "e3eb62d2-39ce-4d05-94c8-39f162440217",
   "metadata": {},
   "outputs": [],
   "source": []
  }
 ],
 "metadata": {
  "kernelspec": {
   "display_name": "Python 3 (ipykernel)",
   "language": "python",
   "name": "python3"
  },
  "language_info": {
   "codemirror_mode": {
    "name": "ipython",
    "version": 3
   },
   "file_extension": ".py",
   "mimetype": "text/x-python",
   "name": "python",
   "nbconvert_exporter": "python",
   "pygments_lexer": "ipython3",
   "version": "3.10.8"
  }
 },
 "nbformat": 4,
 "nbformat_minor": 5
}
