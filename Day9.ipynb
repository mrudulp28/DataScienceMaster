{
 "cells": [
  {
   "cell_type": "markdown",
   "id": "bd480c3f-be93-4245-97ac-5b117c9e3050",
   "metadata": {},
   "source": [
    "## Polymorphism"
   ]
  },
  {
   "cell_type": "code",
   "execution_count": 1,
   "id": "5961cc9e-98f3-4fd5-904f-e69249e3844b",
   "metadata": {},
   "outputs": [],
   "source": [
    "def test(a,b):\n",
    "    return a+b"
   ]
  },
  {
   "cell_type": "code",
   "execution_count": 2,
   "id": "125da35d-41a1-4d13-84f4-e6aeb31b42d0",
   "metadata": {},
   "outputs": [
    {
     "data": {
      "text/plain": [
       "9"
      ]
     },
     "execution_count": 2,
     "metadata": {},
     "output_type": "execute_result"
    }
   ],
   "source": [
    "test(4,5)"
   ]
  },
  {
   "cell_type": "code",
   "execution_count": 3,
   "id": "9e2a9e4d-f6ec-47f2-ac47-53e665f57cd1",
   "metadata": {},
   "outputs": [
    {
     "data": {
      "text/plain": [
       "'mrudul patil'"
      ]
     },
     "execution_count": 3,
     "metadata": {},
     "output_type": "execute_result"
    }
   ],
   "source": [
    "test(\"mrudul \",\"patil\")"
   ]
  },
  {
   "cell_type": "code",
   "execution_count": 4,
   "id": "56501901-e331-4ff9-b472-95b72f0d766d",
   "metadata": {},
   "outputs": [],
   "source": [
    "## same function working in two different ways"
   ]
  },
  {
   "cell_type": "code",
   "execution_count": 5,
   "id": "c4f807c1-644d-43b1-8c19-0645914c52b1",
   "metadata": {},
   "outputs": [],
   "source": [
    "class data_science:\n",
    "    def syllabus(self):\n",
    "        print(\"this is my method for data_science\")"
   ]
  },
  {
   "cell_type": "code",
   "execution_count": 6,
   "id": "a2a71193-9217-4d98-9562-c33cccec9c10",
   "metadata": {},
   "outputs": [],
   "source": [
    "class web_dev:\n",
    "    def syllabus(self):\n",
    "        print(\"this is my method for web_dev\")"
   ]
  },
  {
   "cell_type": "code",
   "execution_count": 7,
   "id": "5a5b1106-132a-4d47-91fe-9e028fae9fc8",
   "metadata": {},
   "outputs": [],
   "source": [
    "def class_parser(class_obj):\n",
    "    for i in class_obj:\n",
    "        i.syllabus()\n",
    "        "
   ]
  },
  {
   "cell_type": "code",
   "execution_count": 8,
   "id": "1d18e289-8a81-477a-84ff-99b1f684f222",
   "metadata": {},
   "outputs": [],
   "source": [
    "obj_data_science=data_science()"
   ]
  },
  {
   "cell_type": "code",
   "execution_count": 9,
   "id": "3c088daa-96e5-410c-83e7-a72fa16c0704",
   "metadata": {},
   "outputs": [],
   "source": [
    "obj_web_dev=web_dev()"
   ]
  },
  {
   "cell_type": "code",
   "execution_count": 10,
   "id": "881635f3-0032-4dcb-ba1f-1266ea887fef",
   "metadata": {},
   "outputs": [],
   "source": [
    "class_obj=[obj_data_science,obj_web_dev]"
   ]
  },
  {
   "cell_type": "code",
   "execution_count": 11,
   "id": "eac9d7a5-3e3b-4341-839b-1429e60460fa",
   "metadata": {},
   "outputs": [
    {
     "name": "stdout",
     "output_type": "stream",
     "text": [
      "this is my method for data_science\n",
      "this is my method for web_dev\n"
     ]
    }
   ],
   "source": [
    "class_parser(class_obj)"
   ]
  },
  {
   "cell_type": "code",
   "execution_count": 1,
   "id": "06767c2c-f049-4933-9a58-13b475fb98d1",
   "metadata": {},
   "outputs": [],
   "source": [
    "class BankAccount:\n",
    "    def __init__(self,balance):\n",
    "        self.__balance=balance\n",
    "    \n",
    "    def get_balance(self):\n",
    "        return self.__balance\n",
    "    \n",
    "    def deposit(self,amount):\n",
    "        if amount>0:\n",
    "            self.__balance=self.__balance+amount\n",
    "            return True\n",
    "        else:\n",
    "            return False\n",
    "    \n",
    "    def withdraw_amount(self,amount):\n",
    "        if self.__balance>amount:\n",
    "            self.__balance=self.__balance-amount\n",
    "            return True\n",
    "        else:\n",
    "            return False\n",
    "\n",
    "        \n",
    "        "
   ]
  },
  {
   "cell_type": "markdown",
   "id": "94b3b696-40e9-4cbd-a0a5-7879a54f85ca",
   "metadata": {},
   "source": [
    "## Inheritance"
   ]
  },
  {
   "cell_type": "code",
   "execution_count": 2,
   "id": "48d494f3-9cc8-4708-aa39-33bb8da33711",
   "metadata": {},
   "outputs": [],
   "source": [
    "class parent:\n",
    "    def test_parent(self):\n",
    "        print(\"this is my parent class\")\n"
   ]
  },
  {
   "cell_type": "code",
   "execution_count": 3,
   "id": "3e0b43b0-913c-449b-934d-8d11182ccda2",
   "metadata": {},
   "outputs": [],
   "source": [
    "class child(parent):\n",
    "    pass"
   ]
  },
  {
   "cell_type": "code",
   "execution_count": 4,
   "id": "b7369d7a-febe-44b0-94e7-474d3e8ae337",
   "metadata": {},
   "outputs": [],
   "source": [
    "childobj=child()"
   ]
  },
  {
   "cell_type": "code",
   "execution_count": 6,
   "id": "010959e5-c7b7-42f1-b48e-3adf4e3de6be",
   "metadata": {},
   "outputs": [
    {
     "name": "stdout",
     "output_type": "stream",
     "text": [
      "this is my parent class\n"
     ]
    }
   ],
   "source": [
    "childobj.test_parent()"
   ]
  },
  {
   "cell_type": "code",
   "execution_count": 14,
   "id": "c7ce541e-7b04-416d-9a24-4725c204dbe1",
   "metadata": {},
   "outputs": [],
   "source": [
    "##Multilevel inheritance\n",
    "class class1:\n",
    "    def test_class1(self):\n",
    "        print(\"this is my class1\")\n"
   ]
  },
  {
   "cell_type": "code",
   "execution_count": 15,
   "id": "1a0aa4c1-a398-4498-af2e-7f1ec2e82d89",
   "metadata": {},
   "outputs": [],
   "source": [
    "class class2(class1):\n",
    "    def test_class2(self):\n",
    "        print(\"this is my class2\")"
   ]
  },
  {
   "cell_type": "code",
   "execution_count": 16,
   "id": "5dde9f27-1c4b-40aa-bc52-b4967ad346a6",
   "metadata": {},
   "outputs": [],
   "source": [
    "class class3(class2):\n",
    "    pass"
   ]
  },
  {
   "cell_type": "code",
   "execution_count": 17,
   "id": "99d61196-a92e-4f85-8594-8fef7c966775",
   "metadata": {},
   "outputs": [],
   "source": [
    "class3obj=class3()"
   ]
  },
  {
   "cell_type": "code",
   "execution_count": 18,
   "id": "971afc29-a041-4075-a1f1-a33d9bd3d6a3",
   "metadata": {},
   "outputs": [
    {
     "name": "stdout",
     "output_type": "stream",
     "text": [
      "this is my class1\n"
     ]
    }
   ],
   "source": [
    "class3obj.test_class1()"
   ]
  },
  {
   "cell_type": "code",
   "execution_count": 19,
   "id": "925d4988-45b9-43e9-b598-00c40a1974ba",
   "metadata": {},
   "outputs": [],
   "source": [
    "##Multiple inheritance\n",
    "class class1:\n",
    "    def test_class1(self):\n",
    "        print(\"this is my class1\")\n"
   ]
  },
  {
   "cell_type": "code",
   "execution_count": 20,
   "id": "37ce82e1-f1b1-4e48-906e-49623c21d960",
   "metadata": {},
   "outputs": [],
   "source": [
    "class class2:\n",
    "    def test_class2(self):\n",
    "        print(\"this is my class2\")"
   ]
  },
  {
   "cell_type": "code",
   "execution_count": 21,
   "id": "cfbba939-9fce-486d-acf1-f1aec7945c8f",
   "metadata": {},
   "outputs": [],
   "source": [
    "class class3(class1,class2):\n",
    "    pass"
   ]
  },
  {
   "cell_type": "code",
   "execution_count": 22,
   "id": "566efccc-f4c0-4337-be51-d4631ec1de18",
   "metadata": {},
   "outputs": [],
   "source": [
    "class3obj=class3()"
   ]
  },
  {
   "cell_type": "code",
   "execution_count": 23,
   "id": "198d084f-9c4f-42e0-b993-a4b63a002af1",
   "metadata": {},
   "outputs": [
    {
     "name": "stdout",
     "output_type": "stream",
     "text": [
      "this is my class2\n"
     ]
    }
   ],
   "source": [
    "class3obj.test_class2()"
   ]
  },
  {
   "cell_type": "markdown",
   "id": "444ab6eb-da96-4d7d-bebc-5e5318fa9b7e",
   "metadata": {},
   "source": [
    "## Abstraction"
   ]
  },
  {
   "cell_type": "code",
   "execution_count": 24,
   "id": "3280e7da-6abf-4ce5-945d-5250e6629dd1",
   "metadata": {},
   "outputs": [],
   "source": [
    "import abc\n",
    "class pwskills:\n",
    "    \n",
    "    @abc.abstractmethod\n",
    "    def details(self):\n",
    "        pass\n",
    "    \n",
    "    @abc.abstractmethod\n",
    "    def assignment(self):\n",
    "        pass\n",
    "    \n",
    "    @abc.abstractmethod\n",
    "    def marks(self):\n",
    "        pass"
   ]
  },
  {
   "cell_type": "code",
   "execution_count": 25,
   "id": "13d1e242-50ac-4572-8f8d-09bc4d0adb31",
   "metadata": {},
   "outputs": [],
   "source": [
    "class datascience(pwskills):\n",
    "    \n",
    "    def details(self):\n",
    "        return \"return details\"\n",
    "    \n",
    "    \n",
    "    def assignment(self):\n",
    "        return \"return assignments\"\n",
    "    "
   ]
  },
  {
   "cell_type": "code",
   "execution_count": 26,
   "id": "e2697530-9abd-4930-97bb-12606c54725a",
   "metadata": {},
   "outputs": [],
   "source": [
    "class webdev(pwskills):\n",
    "    \n",
    "    def details(self):\n",
    "        return \"return webdev details\"\n",
    "    \n",
    "    \n",
    "    def marks(self):\n",
    "        return \"return webdev marks\"\n",
    "    "
   ]
  },
  {
   "cell_type": "code",
   "execution_count": null,
   "id": "91a1722e-eb43-4c82-8bd5-d16f5d09d4b4",
   "metadata": {},
   "outputs": [],
   "source": []
  }
 ],
 "metadata": {
  "kernelspec": {
   "display_name": "Python 3 (ipykernel)",
   "language": "python",
   "name": "python3"
  },
  "language_info": {
   "codemirror_mode": {
    "name": "ipython",
    "version": 3
   },
   "file_extension": ".py",
   "mimetype": "text/x-python",
   "name": "python",
   "nbconvert_exporter": "python",
   "pygments_lexer": "ipython3",
   "version": "3.10.8"
  }
 },
 "nbformat": 4,
 "nbformat_minor": 5
}
