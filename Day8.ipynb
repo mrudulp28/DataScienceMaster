{
 "cells": [
  {
   "cell_type": "markdown",
   "id": "2a3e76be-bdda-4d3b-9ad6-4ec060abedbd",
   "metadata": {},
   "source": [
    "## OOPs"
   ]
  },
  {
   "cell_type": "code",
   "execution_count": 7,
   "id": "f53a47eb-1169-4bbc-8d3a-8f5c105dfee2",
   "metadata": {},
   "outputs": [],
   "source": [
    "class test:\n",
    "    pass"
   ]
  },
  {
   "cell_type": "code",
   "execution_count": 11,
   "id": "fbd4cf9b-2a91-4131-8d26-a4e9a9d14f95",
   "metadata": {},
   "outputs": [],
   "source": [
    "a=test()"
   ]
  },
  {
   "cell_type": "code",
   "execution_count": 12,
   "id": "b29fdbcd-d16a-4927-a154-ec179c9abec2",
   "metadata": {},
   "outputs": [
    {
     "name": "stdout",
     "output_type": "stream",
     "text": [
      "<class '__main__.test'>\n"
     ]
    }
   ],
   "source": [
    "print(type(a))"
   ]
  },
  {
   "cell_type": "code",
   "execution_count": 20,
   "id": "7a6fd0b7-0da6-4f65-a43d-1e40eb429833",
   "metadata": {},
   "outputs": [],
   "source": [
    "class pwskills:\n",
    "    \n",
    "    def welcome_msg(self):\n",
    "        print(\"welcome\")"
   ]
  },
  {
   "cell_type": "code",
   "execution_count": 21,
   "id": "492173bc-1e16-4372-ba65-3b596197960b",
   "metadata": {},
   "outputs": [],
   "source": [
    "rohan=pwskills()"
   ]
  },
  {
   "cell_type": "code",
   "execution_count": 22,
   "id": "c994e5c0-4d7c-4676-9ab8-ecce8abb048e",
   "metadata": {},
   "outputs": [
    {
     "name": "stdout",
     "output_type": "stream",
     "text": [
      "welcome\n"
     ]
    }
   ],
   "source": [
    "rohan.welcome_msg()"
   ]
  },
  {
   "cell_type": "code",
   "execution_count": 23,
   "id": "3f4f744d-7344-45b5-961e-3710801788c0",
   "metadata": {},
   "outputs": [],
   "source": [
    "sohan=pwskills()"
   ]
  },
  {
   "cell_type": "code",
   "execution_count": 24,
   "id": "9a459316-745c-4c2b-8727-bff7b6316baa",
   "metadata": {},
   "outputs": [
    {
     "name": "stdout",
     "output_type": "stream",
     "text": [
      "welcome\n"
     ]
    }
   ],
   "source": [
    "sohan.welcome_msg()"
   ]
  },
  {
   "cell_type": "code",
   "execution_count": 28,
   "id": "879c4313-9d79-4e69-9648-731c4f49e6c4",
   "metadata": {},
   "outputs": [],
   "source": [
    "class pwskills1:\n",
    "    \n",
    "    def __init__(self,phone,email,student_id): ## you can use anything instead of self\n",
    "        self.phone=phone   ##right side variable is just for assignement\n",
    "        self.email=email\n",
    "        self.student_id=student_id\n",
    "        \n",
    "    def return_details(self):\n",
    "        return self.phone,self.email,self.student_id"
   ]
  },
  {
   "cell_type": "code",
   "execution_count": 29,
   "id": "b10e99ea-c893-4f0a-b4eb-c39b4aaf7873",
   "metadata": {},
   "outputs": [],
   "source": [
    "rohan=pwskills1(9876543210,\"rohan@gmail.com\",101)"
   ]
  },
  {
   "cell_type": "code",
   "execution_count": 30,
   "id": "27620614-2a67-456b-a86b-2b0f55a46532",
   "metadata": {},
   "outputs": [
    {
     "data": {
      "text/plain": [
       "(9876543210, 'rohan@gmail.com', 101)"
      ]
     },
     "execution_count": 30,
     "metadata": {},
     "output_type": "execute_result"
    }
   ],
   "source": [
    "rohan.return_details()"
   ]
  },
  {
   "cell_type": "code",
   "execution_count": 31,
   "id": "ffc688d7-0461-4da3-b34e-54d6df39cf72",
   "metadata": {},
   "outputs": [
    {
     "data": {
      "text/plain": [
       "9876543210"
      ]
     },
     "execution_count": 31,
     "metadata": {},
     "output_type": "execute_result"
    }
   ],
   "source": [
    "rohan.phone"
   ]
  },
  {
   "cell_type": "code",
   "execution_count": 32,
   "id": "8d27db51-ee6a-4cec-b704-c03fbe9cc6c4",
   "metadata": {},
   "outputs": [
    {
     "data": {
      "text/plain": [
       "'rohan@gmail.com'"
      ]
     },
     "execution_count": 32,
     "metadata": {},
     "output_type": "execute_result"
    }
   ],
   "source": [
    "rohan.email"
   ]
  },
  {
   "cell_type": "code",
   "execution_count": 33,
   "id": "4ba431ab-022a-432e-ad28-5943036ea7cb",
   "metadata": {},
   "outputs": [
    {
     "data": {
      "text/plain": [
       "101"
      ]
     },
     "execution_count": 33,
     "metadata": {},
     "output_type": "execute_result"
    }
   ],
   "source": [
    "rohan.student_id"
   ]
  },
  {
   "cell_type": "code",
   "execution_count": null,
   "id": "76e824ab-176c-403a-88e6-e18f84f0d2a9",
   "metadata": {},
   "outputs": [],
   "source": []
  }
 ],
 "metadata": {
  "kernelspec": {
   "display_name": "Python 3 (ipykernel)",
   "language": "python",
   "name": "python3"
  },
  "language_info": {
   "codemirror_mode": {
    "name": "ipython",
    "version": 3
   },
   "file_extension": ".py",
   "mimetype": "text/x-python",
   "name": "python",
   "nbconvert_exporter": "python",
   "pygments_lexer": "ipython3",
   "version": "3.10.8"
  }
 },
 "nbformat": 4,
 "nbformat_minor": 5
}
