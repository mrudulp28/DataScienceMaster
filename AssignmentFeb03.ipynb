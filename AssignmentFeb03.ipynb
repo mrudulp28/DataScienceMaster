{
 "cells": [
  {
   "cell_type": "markdown",
   "id": "78d7794c-3927-49d2-826e-ec7444a9dfdd",
   "metadata": {},
   "source": [
    "## 1)Which keyword is used to create a function? Create a function to return a list of odd numbers in the range of 1 to 25."
   ]
  },
  {
   "cell_type": "markdown",
   "id": "7ab23c4e-e552-49ab-aa65-da4f005af79e",
   "metadata": {},
   "source": [
    "def keyword is used to create a function"
   ]
  },
  {
   "cell_type": "code",
   "execution_count": 4,
   "id": "cb13d96d-b415-4df7-8137-378ef3772762",
   "metadata": {},
   "outputs": [],
   "source": [
    "def oddcheck():\n",
    "    oddlist=[]\n",
    "    for i in range(1,26):\n",
    "        if(i%2!=0):\n",
    "            oddlist.append(i)\n",
    "    return oddlist\n",
    "            "
   ]
  },
  {
   "cell_type": "code",
   "execution_count": 5,
   "id": "7bbc57f8-6897-44ba-9113-e3ac57647caf",
   "metadata": {},
   "outputs": [
    {
     "data": {
      "text/plain": [
       "[1, 3, 5, 7, 9, 11, 13, 15, 17, 19, 21, 23, 25]"
      ]
     },
     "execution_count": 5,
     "metadata": {},
     "output_type": "execute_result"
    }
   ],
   "source": [
    "oddcheck()"
   ]
  },
  {
   "cell_type": "markdown",
   "id": "33fab696-83b1-4cc2-a87c-6e626f77a2b3",
   "metadata": {},
   "source": [
    "## 2)Why *args and **kwargs is used in some functions? Create a function each for *args and **kwargs to demonstrate their use."
   ]
  },
  {
   "cell_type": "markdown",
   "id": "a4505e50-8f04-45e4-9b91-054b5b94785f",
   "metadata": {},
   "source": [
    "You can use *args and **kwargs as arguments of a function when you are unsure about the number of arguments to pass in the functions *args take the argument given where as **kwargs take arguments in the form of key value pair"
   ]
  },
  {
   "cell_type": "code",
   "execution_count": 17,
   "id": "c6749e30-c82f-44ba-b7b5-21995f542c82",
   "metadata": {},
   "outputs": [],
   "source": [
    "##program for args\n",
    "def args(*argv):\n",
    "    for arg in argv:\n",
    "        print(arg,end=' ') "
   ]
  },
  {
   "cell_type": "code",
   "execution_count": 18,
   "id": "f41ceafa-2c47-4e33-a652-8009942e922f",
   "metadata": {},
   "outputs": [
    {
     "name": "stdout",
     "output_type": "stream",
     "text": [
      "Hello Welcome to PWskills "
     ]
    }
   ],
   "source": [
    "arg('Hello', 'Welcome', 'to', 'PWskills')"
   ]
  },
  {
   "cell_type": "code",
   "execution_count": 15,
   "id": "f930e55a-1228-41ec-800d-3317841a5956",
   "metadata": {},
   "outputs": [],
   "source": [
    "##program for kwargs\n",
    "def fullname(**kwarg):\n",
    "    for i in kwarg.keys():\n",
    "        print(kwarg[i],end=' ')\n",
    "        "
   ]
  },
  {
   "cell_type": "code",
   "execution_count": 16,
   "id": "5b2f2aba-609a-4e54-81b6-c6206d8ce1ed",
   "metadata": {},
   "outputs": [
    {
     "name": "stdout",
     "output_type": "stream",
     "text": [
      "mrudul manoj patil "
     ]
    }
   ],
   "source": [
    "fullname(name='mrudul',middlename='manoj',lastname='patil')"
   ]
  },
  {
   "cell_type": "markdown",
   "id": "0b443ec0-9a21-4098-b173-e0d84eaca1ce",
   "metadata": {},
   "source": [
    "## 3)What is an iterator in python? Name the method used to initialise the iterator object and the method used for iteration. Use these methods to print the first five elements of the given list [2, 4, 6, 8, 10, 12, 14, 16, 18, 20]."
   ]
  },
  {
   "cell_type": "markdown",
   "id": "2bc1cfc3-965f-4b73-bb91-7466a852a5ca",
   "metadata": {},
   "source": [
    "An iterator in Python is an object that implements the iterator protocol, which consists of two methods:iter() and next().\n",
    "The iter() method returns the iterator object, and the next() method returns the next item from the iterator."
   ]
  },
  {
   "cell_type": "code",
   "execution_count": 1,
   "id": "abf56344-b3d3-4f20-9229-7b0a6dbe0282",
   "metadata": {},
   "outputs": [
    {
     "name": "stdout",
     "output_type": "stream",
     "text": [
      "2\n",
      "4\n",
      "6\n",
      "8\n",
      "10\n"
     ]
    }
   ],
   "source": [
    "l = [2, 4, 6, 8, 10, 12, 14, 16, 18, 20]\n",
    "\n",
    "it = iter(l)\n",
    "\n",
    "for i in range(5):\n",
    "    print(next(it))"
   ]
  },
  {
   "cell_type": "markdown",
   "id": "b12b3219-28e9-49c2-ad89-f5ae0f902c23",
   "metadata": {},
   "source": [
    "## 4)What is a generator function in python? Why yield keyword is used? Give an example of a generator function."
   ]
  },
  {
   "cell_type": "markdown",
   "id": "fbda3add-312f-484a-8ed8-da37e6e84639",
   "metadata": {},
   "source": [
    "Generator functions are used as an iterator. These are objects that you can loop over like a list. However, unlike lists, it does not store their contents in memory."
   ]
  },
  {
   "cell_type": "code",
   "execution_count": 19,
   "id": "0bb9b4f9-9643-4ca9-885f-a0b975ddd7fb",
   "metadata": {},
   "outputs": [],
   "source": [
    "##generator functions\n",
    "def fibo(n):\n",
    "    a,b=0,1\n",
    "    for i in range(n):\n",
    "        yield a\n",
    "        a,b=b, a+b "
   ]
  },
  {
   "cell_type": "code",
   "execution_count": 20,
   "id": "692f5620-2f80-4be3-b16e-01723965f127",
   "metadata": {},
   "outputs": [
    {
     "name": "stdout",
     "output_type": "stream",
     "text": [
      "0\n",
      "1\n",
      "1\n",
      "2\n",
      "3\n",
      "5\n",
      "8\n",
      "13\n",
      "21\n",
      "34\n"
     ]
    }
   ],
   "source": [
    "for i in fibo(10):\n",
    "    print(i)"
   ]
  },
  {
   "cell_type": "markdown",
   "id": "111b444b-c544-41e7-a0df-a43c1db2ccc6",
   "metadata": {},
   "source": [
    "## 5)Create a generator function for prime numbers less than 1000. Use the next() method to print the first 20 prime numbers."
   ]
  },
  {
   "cell_type": "code",
   "execution_count": 36,
   "id": "fe18a2c1-f02c-419c-9861-4f5ab55afd8b",
   "metadata": {},
   "outputs": [],
   "source": [
    "def prime(number):\n",
    "    for i in range(2,number):\n",
    "        flag=0\n",
    "        for j in range(2,int(i/2)+1):\n",
    "            if(i%j==0):\n",
    "                flag=1 \n",
    "        if(flag==0):\n",
    "            yield i\n",
    "\n",
    "                \n",
    "for i in prime(1000):\n",
    "    pass\n",
    "    "
   ]
  },
  {
   "cell_type": "code",
   "execution_count": 39,
   "id": "6fb7f6c5-edd5-47cf-8c8b-346ad7c938b1",
   "metadata": {},
   "outputs": [
    {
     "name": "stdout",
     "output_type": "stream",
     "text": [
      "2\n",
      "3\n",
      "5\n",
      "7\n",
      "11\n",
      "13\n",
      "17\n",
      "19\n",
      "23\n",
      "29\n",
      "31\n",
      "37\n",
      "41\n",
      "43\n",
      "47\n",
      "53\n",
      "59\n",
      "61\n",
      "67\n",
      "71\n"
     ]
    }
   ],
   "source": [
    "prime_sequence = prime(1000)\n",
    "for i in range(20):\n",
    "    print(next(prime_sequence))"
   ]
  }
 ],
 "metadata": {
  "kernelspec": {
   "display_name": "Python 3 (ipykernel)",
   "language": "python",
   "name": "python3"
  },
  "language_info": {
   "codemirror_mode": {
    "name": "ipython",
    "version": 3
   },
   "file_extension": ".py",
   "mimetype": "text/x-python",
   "name": "python",
   "nbconvert_exporter": "python",
   "pygments_lexer": "ipython3",
   "version": "3.10.8"
  }
 },
 "nbformat": 4,
 "nbformat_minor": 5
}
