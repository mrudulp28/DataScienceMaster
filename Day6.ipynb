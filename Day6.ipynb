{
 "cells": [
  {
   "cell_type": "markdown",
   "id": "485549e6-5966-4134-9d14-e925f3cd4bdc",
   "metadata": {},
   "source": [
    "## Functions"
   ]
  },
  {
   "cell_type": "code",
   "execution_count": 1,
   "id": "28b76e6a-90c0-4c6c-98b9-096c7c0dcad1",
   "metadata": {},
   "outputs": [
    {
     "name": "stdout",
     "output_type": "stream",
     "text": [
      "this is my program\n"
     ]
    }
   ],
   "source": [
    "print(\"this is my program\")"
   ]
  },
  {
   "cell_type": "code",
   "execution_count": 2,
   "id": "efab284b-5da7-4883-a982-0a14157cd1e6",
   "metadata": {},
   "outputs": [],
   "source": [
    "def test():\n",
    "    pass"
   ]
  },
  {
   "cell_type": "code",
   "execution_count": 3,
   "id": "a96c1684-be3a-4387-bb66-9feb0f10321f",
   "metadata": {},
   "outputs": [],
   "source": [
    "def test1():\n",
    "    print(\"This is my first function\")"
   ]
  },
  {
   "cell_type": "code",
   "execution_count": 4,
   "id": "996f72ab-9701-43cf-b1f3-26a2739a58c5",
   "metadata": {},
   "outputs": [
    {
     "name": "stdout",
     "output_type": "stream",
     "text": [
      "This is my first function\n"
     ]
    }
   ],
   "source": [
    "test1()"
   ]
  },
  {
   "cell_type": "code",
   "execution_count": 5,
   "id": "8c3fe2c3-0e73-493b-9c23-3327c1e338d7",
   "metadata": {},
   "outputs": [
    {
     "name": "stdout",
     "output_type": "stream",
     "text": [
      "This is my first function\n"
     ]
    },
    {
     "ename": "TypeError",
     "evalue": "unsupported operand type(s) for +: 'NoneType' and 'str'",
     "output_type": "error",
     "traceback": [
      "\u001b[0;31m---------------------------------------------------------------------------\u001b[0m",
      "\u001b[0;31mTypeError\u001b[0m                                 Traceback (most recent call last)",
      "Cell \u001b[0;32mIn[5], line 1\u001b[0m\n\u001b[0;32m----> 1\u001b[0m \u001b[43mtest1\u001b[49m\u001b[43m(\u001b[49m\u001b[43m)\u001b[49m\u001b[38;5;241;43m+\u001b[39;49m\u001b[38;5;124;43m\"\u001b[39;49m\u001b[38;5;124;43mmrudul\u001b[39;49m\u001b[38;5;124;43m\"\u001b[39;49m\n",
      "\u001b[0;31mTypeError\u001b[0m: unsupported operand type(s) for +: 'NoneType' and 'str'"
     ]
    }
   ],
   "source": [
    "test1()+\"mrudul\"\n",
    "## print returns nonetype"
   ]
  },
  {
   "cell_type": "code",
   "execution_count": 6,
   "id": "4779d7e7-8d33-4a99-a39c-3043ff92696c",
   "metadata": {},
   "outputs": [],
   "source": [
    "def test2():\n",
    "    return \"This is using return\""
   ]
  },
  {
   "cell_type": "code",
   "execution_count": 8,
   "id": "498304bd-d989-4bd8-bf5d-ccb00399d3e2",
   "metadata": {},
   "outputs": [
    {
     "data": {
      "text/plain": [
       "'This is using return mrudul'"
      ]
     },
     "execution_count": 8,
     "metadata": {},
     "output_type": "execute_result"
    }
   ],
   "source": [
    "test2()+\" mrudul\"\n"
   ]
  },
  {
   "cell_type": "code",
   "execution_count": 9,
   "id": "06a971b2-ab69-4164-bfbb-df4cbf7afe2c",
   "metadata": {},
   "outputs": [],
   "source": [
    "def test3():\n",
    "    return 1,3.0,\"pwskills\""
   ]
  },
  {
   "cell_type": "code",
   "execution_count": 10,
   "id": "c76be0ad-ee88-4cee-9ba5-4927e0a4528f",
   "metadata": {},
   "outputs": [
    {
     "data": {
      "text/plain": [
       "(1, 3.0, 'pwskills')"
      ]
     },
     "execution_count": 10,
     "metadata": {},
     "output_type": "execute_result"
    }
   ],
   "source": [
    "test3()"
   ]
  },
  {
   "cell_type": "code",
   "execution_count": 11,
   "id": "6f1f2eca-bfd3-4995-85b0-0301f813cc9c",
   "metadata": {},
   "outputs": [],
   "source": [
    "a=1,2,3,4,5"
   ]
  },
  {
   "cell_type": "code",
   "execution_count": 12,
   "id": "c18a5855-ac54-4f1a-9dc9-f72861cc254e",
   "metadata": {},
   "outputs": [
    {
     "data": {
      "text/plain": [
       "(1, 2, 3, 4, 5)"
      ]
     },
     "execution_count": 12,
     "metadata": {},
     "output_type": "execute_result"
    }
   ],
   "source": [
    "a"
   ]
  },
  {
   "cell_type": "code",
   "execution_count": 13,
   "id": "f96f7a21-d3d3-4738-95e7-9a55c3a7826d",
   "metadata": {},
   "outputs": [],
   "source": [
    "a,b,c,d=1,2,3.0,True"
   ]
  },
  {
   "cell_type": "code",
   "execution_count": 14,
   "id": "761f746d-f990-433b-8a72-9be3ae7f4344",
   "metadata": {},
   "outputs": [
    {
     "data": {
      "text/plain": [
       "1"
      ]
     },
     "execution_count": 14,
     "metadata": {},
     "output_type": "execute_result"
    }
   ],
   "source": [
    "a"
   ]
  },
  {
   "cell_type": "code",
   "execution_count": 15,
   "id": "ff6d8b5a-e1bb-4e2f-ba85-57899682b7f3",
   "metadata": {},
   "outputs": [
    {
     "data": {
      "text/plain": [
       "2"
      ]
     },
     "execution_count": 15,
     "metadata": {},
     "output_type": "execute_result"
    }
   ],
   "source": [
    "b"
   ]
  },
  {
   "cell_type": "code",
   "execution_count": 16,
   "id": "ff3873e1-c96f-43f9-a01d-2b890daa51f5",
   "metadata": {},
   "outputs": [
    {
     "data": {
      "text/plain": [
       "3.0"
      ]
     },
     "execution_count": 16,
     "metadata": {},
     "output_type": "execute_result"
    }
   ],
   "source": [
    "c"
   ]
  },
  {
   "cell_type": "code",
   "execution_count": 18,
   "id": "d8004789-f292-4618-a522-6d8d47e0c29e",
   "metadata": {},
   "outputs": [
    {
     "data": {
      "text/plain": [
       "True"
      ]
     },
     "execution_count": 18,
     "metadata": {},
     "output_type": "execute_result"
    }
   ],
   "source": [
    "d"
   ]
  },
  {
   "cell_type": "code",
   "execution_count": 19,
   "id": "238f1cfd-4331-42e6-8813-123623e54b9d",
   "metadata": {},
   "outputs": [],
   "source": [
    "def test4():\n",
    "    a=3*4 + 5\n",
    "    return a"
   ]
  },
  {
   "cell_type": "code",
   "execution_count": 20,
   "id": "53e46585-88c2-4d74-9dcf-25957df5fded",
   "metadata": {},
   "outputs": [
    {
     "data": {
      "text/plain": [
       "17"
      ]
     },
     "execution_count": 20,
     "metadata": {},
     "output_type": "execute_result"
    }
   ],
   "source": [
    "test4()"
   ]
  },
  {
   "cell_type": "code",
   "execution_count": 21,
   "id": "342abf8f-a847-4571-beb2-2e5d93145104",
   "metadata": {},
   "outputs": [
    {
     "data": {
      "text/plain": [
       "int"
      ]
     },
     "execution_count": 21,
     "metadata": {},
     "output_type": "execute_result"
    }
   ],
   "source": [
    "type(test4())"
   ]
  },
  {
   "cell_type": "code",
   "execution_count": 22,
   "id": "202bc77e-a019-4a70-aa26-c840e618a9cd",
   "metadata": {},
   "outputs": [],
   "source": [
    "def test5(a,b):\n",
    "    c=a+b\n",
    "    return c"
   ]
  },
  {
   "cell_type": "code",
   "execution_count": 24,
   "id": "fe411fb4-7773-43cd-9170-868641d8b220",
   "metadata": {},
   "outputs": [
    {
     "data": {
      "text/plain": [
       "5"
      ]
     },
     "execution_count": 24,
     "metadata": {},
     "output_type": "execute_result"
    }
   ],
   "source": [
    "test5(1,4)"
   ]
  },
  {
   "cell_type": "code",
   "execution_count": 25,
   "id": "fdd384bd-2e60-4bc7-a665-141e5f5117f0",
   "metadata": {},
   "outputs": [
    {
     "data": {
      "text/plain": [
       "'MrudulPatil'"
      ]
     },
     "execution_count": 25,
     "metadata": {},
     "output_type": "execute_result"
    }
   ],
   "source": [
    "test5(\"Mrudul\",\"Patil\")"
   ]
  },
  {
   "cell_type": "code",
   "execution_count": 26,
   "id": "00d99b56-30d3-4d6d-9311-34ac89f6398e",
   "metadata": {},
   "outputs": [],
   "source": [
    "l=[1,2,3,4,5,\"a\",\"b\",[1,2,3,4]]"
   ]
  },
  {
   "cell_type": "code",
   "execution_count": 33,
   "id": "8360bffa-4737-4a18-90f3-529b0f016fc7",
   "metadata": {},
   "outputs": [
    {
     "data": {
      "text/plain": [
       "int"
      ]
     },
     "execution_count": 33,
     "metadata": {},
     "output_type": "execute_result"
    }
   ],
   "source": [
    "type(1)"
   ]
  },
  {
   "cell_type": "code",
   "execution_count": 37,
   "id": "27113ab8-e892-4846-9cc6-c8d2d70603e3",
   "metadata": {},
   "outputs": [],
   "source": [
    "def test6(l):\n",
    "    a=[]\n",
    "    for i in range(len(l)):\n",
    "        if(type(l[i])==int or type(l[i])==float):\n",
    "            a.append(l[i])\n",
    "        else:\n",
    "            pass\n",
    "    return a\n",
    "            \n",
    "    "
   ]
  },
  {
   "cell_type": "code",
   "execution_count": 38,
   "id": "90796127-20b2-4df0-b235-a952695d36cc",
   "metadata": {},
   "outputs": [
    {
     "data": {
      "text/plain": [
       "[1, 2, 3, 4, 5]"
      ]
     },
     "execution_count": 38,
     "metadata": {},
     "output_type": "execute_result"
    }
   ],
   "source": [
    "test6([1,2,3,4,5,\"a\",\"b\",[1,2,3,4]])"
   ]
  },
  {
   "cell_type": "code",
   "execution_count": 43,
   "id": "075722c6-412c-45e0-a779-ed7516588eb3",
   "metadata": {},
   "outputs": [],
   "source": [
    "def test7(l):\n",
    "    a=[]\n",
    "    for i in range(len(l)):\n",
    "        if(type(l[i])==int or type(l[i])==float):\n",
    "            a.append(l[i])\n",
    "        else:\n",
    "            if(type(l[i])==list):\n",
    "                for j in range(len(l[i])):\n",
    "                    if(type(l[i][j])==int or type(l[i][j])==float):\n",
    "                        a.append(l[i][j])\n",
    "    return a\n",
    "            \n",
    "    "
   ]
  },
  {
   "cell_type": "code",
   "execution_count": 44,
   "id": "9302f4da-1824-4338-bd55-52355d04175e",
   "metadata": {},
   "outputs": [
    {
     "data": {
      "text/plain": [
       "[1, 2, 3, 4, 5, 1, 2, 3, 4]"
      ]
     },
     "execution_count": 44,
     "metadata": {},
     "output_type": "execute_result"
    }
   ],
   "source": [
    "test7(l)"
   ]
  },
  {
   "cell_type": "code",
   "execution_count": 45,
   "id": "4a799e6f-853a-4e7a-a4bf-c653f13cff9f",
   "metadata": {},
   "outputs": [],
   "source": [
    "def test8(*args):\n",
    "    return args"
   ]
  },
  {
   "cell_type": "code",
   "execution_count": 46,
   "id": "a4e3f0f3-ebce-4c09-85bd-d90130d6e608",
   "metadata": {},
   "outputs": [
    {
     "data": {
      "text/plain": [
       "(1, 2, 3)"
      ]
     },
     "execution_count": 46,
     "metadata": {},
     "output_type": "execute_result"
    }
   ],
   "source": [
    "test8(1,2,3)"
   ]
  },
  {
   "cell_type": "code",
   "execution_count": 47,
   "id": "e32ba937-64af-4989-a03e-467c6f5ce28a",
   "metadata": {},
   "outputs": [
    {
     "data": {
      "text/plain": [
       "(1, 2, 3, 4, 5, 6, 7, 8)"
      ]
     },
     "execution_count": 47,
     "metadata": {},
     "output_type": "execute_result"
    }
   ],
   "source": [
    "test8(1,2,3,4,5,6,7,8)"
   ]
  },
  {
   "cell_type": "code",
   "execution_count": 48,
   "id": "68d009dc-9faf-4b83-aa55-1bfb41db2188",
   "metadata": {},
   "outputs": [],
   "source": [
    "def test9(*args,a):\n",
    "    return args,a"
   ]
  },
  {
   "cell_type": "code",
   "execution_count": 49,
   "id": "3dd3d898-2a33-4451-93ce-f957f5cb7582",
   "metadata": {},
   "outputs": [
    {
     "data": {
      "text/plain": [
       "((1, 2, 3, 4), 9)"
      ]
     },
     "execution_count": 49,
     "metadata": {},
     "output_type": "execute_result"
    }
   ],
   "source": [
    "test9(1,2,3,4,a=9)"
   ]
  },
  {
   "cell_type": "code",
   "execution_count": 51,
   "id": "8a7b945b-bbfa-4084-a195-9e1067548c06",
   "metadata": {},
   "outputs": [],
   "source": [
    "def test10(*args):\n",
    "    l=[]\n",
    "    for i in args:\n",
    "        if type(i)== list:\n",
    "            l.append(i)\n",
    "    return i"
   ]
  },
  {
   "cell_type": "code",
   "execution_count": 53,
   "id": "596e301e-4e3a-4c08-8fd7-be91c3cda3f1",
   "metadata": {},
   "outputs": [],
   "source": [
    "def test11(**kwargs):\n",
    "    return kwargs"
   ]
  },
  {
   "cell_type": "code",
   "execution_count": 54,
   "id": "ef377c82-8e90-46c6-bc05-ce78ade5b3a4",
   "metadata": {},
   "outputs": [
    {
     "data": {
      "text/plain": [
       "{}"
      ]
     },
     "execution_count": 54,
     "metadata": {},
     "output_type": "execute_result"
    }
   ],
   "source": [
    "test11()"
   ]
  },
  {
   "cell_type": "code",
   "execution_count": 55,
   "id": "11e4ffd8-a57f-423c-baa9-31b3cc40f816",
   "metadata": {},
   "outputs": [
    {
     "data": {
      "text/plain": [
       "{'a': 34, 'b': 3.0, 'c': 'abc', 'd': [1, 2, 3, 4]}"
      ]
     },
     "execution_count": 55,
     "metadata": {},
     "output_type": "execute_result"
    }
   ],
   "source": [
    "test11(a=34,b=3.0,c=\"abc\",d=[1,2,3,4])"
   ]
  },
  {
   "cell_type": "code",
   "execution_count": 56,
   "id": "00c79142-7a6b-45c5-b3dc-20e72b718df8",
   "metadata": {},
   "outputs": [],
   "source": [
    "##generator functions\n",
    "def fibo(n):\n",
    "    a,b=0,1\n",
    "    for i in range(n):\n",
    "        yield a\n",
    "        a,b=b, a+b "
   ]
  },
  {
   "cell_type": "code",
   "execution_count": 58,
   "id": "d70d52dd-fa7f-4ae0-85b8-9bf28aadd4ae",
   "metadata": {},
   "outputs": [
    {
     "data": {
      "text/plain": [
       "<generator object fibo at 0x7fbe64636810>"
      ]
     },
     "execution_count": 58,
     "metadata": {},
     "output_type": "execute_result"
    }
   ],
   "source": [
    "fibo(10)"
   ]
  },
  {
   "cell_type": "code",
   "execution_count": 59,
   "id": "b353d52b-f2a3-4454-94b5-5adda3423832",
   "metadata": {},
   "outputs": [
    {
     "name": "stdout",
     "output_type": "stream",
     "text": [
      "0\n",
      "1\n",
      "1\n",
      "2\n",
      "3\n",
      "5\n",
      "8\n",
      "13\n",
      "21\n",
      "34\n"
     ]
    }
   ],
   "source": [
    "##generator functions have to be called in a for loop\n",
    "for i in fibo(10):\n",
    "    print(i)"
   ]
  },
  {
   "cell_type": "code",
   "execution_count": null,
   "id": "54c7ee4e-3792-43b2-91ba-e350303b9125",
   "metadata": {},
   "outputs": [],
   "source": []
  }
 ],
 "metadata": {
  "kernelspec": {
   "display_name": "Python 3 (ipykernel)",
   "language": "python",
   "name": "python3"
  },
  "language_info": {
   "codemirror_mode": {
    "name": "ipython",
    "version": 3
   },
   "file_extension": ".py",
   "mimetype": "text/x-python",
   "name": "python",
   "nbconvert_exporter": "python",
   "pygments_lexer": "ipython3",
   "version": "3.10.8"
  }
 },
 "nbformat": 4,
 "nbformat_minor": 5
}
