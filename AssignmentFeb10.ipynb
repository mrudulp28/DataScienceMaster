{
 "cells": [
  {
   "cell_type": "markdown",
   "id": "dcdcf8ad-5a31-488c-828f-f152cca194e4",
   "metadata": {},
   "source": [
    "Question 1 : Which function is used to open a file? What are the different modes of opening a file? Explain each mode of file opening."
   ]
  },
  {
   "cell_type": "markdown",
   "id": "291b9f70-da9c-4377-8e83-7a2a42d51cd6",
   "metadata": {},
   "source": [
    "Answer:Files in Python can be opened with a built-in open() function\n",
    "Syntax : open(file_address, access_mode)\n",
    "\n",
    "In ‘r’ mode, the file opens in the read only mode. By default, if we don’t specify the mode argument, it will be treated as read or ‘r’ mode.\n",
    "\n",
    "In the ‘w’ mode, the file opens in write mode. It removes existing content, if present, in the file. If the specified file doesn’t exist, it creates one with the specified name.\n",
    "\n",
    "In the ‘a’ mode, the file opens in append mode. It adds content to an existing file (or append at the end of the file). If the specified file doesn’t exist, it creates one with the specified name.\n",
    "\n",
    "In the ‘r+’ mode, the file opens in the read & write mode. It does not remove existing content, if present, in the file and does not create a file if not present in the directory.\n",
    "\n",
    "In the ‘w+’ mode, open the file in the read & write mode & remove existing content. If the file doesn’t exist, it creates a new one. It does not remove existing content & if a file doesn’t exist, it creates a new one.\n",
    "\n",
    "In a+: Opens a file for both appending and reading"
   ]
  },
  {
   "cell_type": "code",
   "execution_count": 2,
   "id": "20b36926-6de9-4637-9108-d2a81f5a378a",
   "metadata": {},
   "outputs": [
    {
     "name": "stdout",
     "output_type": "stream",
     "text": [
      "This is my example file\n"
     ]
    }
   ],
   "source": [
    "# r mode example\n",
    "# Reading a file\n",
    "file = open('MyFile.txt', 'r')\n",
    "\n",
    "#read()\n",
    "text = file.read()\n",
    "\n",
    "print(text)\n",
    "file.close()"
   ]
  },
  {
   "cell_type": "code",
   "execution_count": 3,
   "id": "37dd7e0d-b030-4494-9c7d-094fe7aa7325",
   "metadata": {},
   "outputs": [],
   "source": [
    "# Writing a file\n",
    "file = open('MyFile.txt', 'w')\n",
    "line = 'This file is modified with write mode\\n'\n",
    "\n",
    "#write()\n",
    "file.write(line)\n",
    "file.close()"
   ]
  },
  {
   "cell_type": "code",
   "execution_count": 9,
   "id": "6c862002-f3b1-4460-bd6d-2538e618fe78",
   "metadata": {},
   "outputs": [],
   "source": [
    "# Appending a file\n",
    "file = open('MyFile.txt', 'a')\n",
    "lines = 'This is text written in append mode\\n'\n",
    "\n",
    "# Appending lines\n",
    "file.write(lines)\n",
    "file.close()"
   ]
  },
  {
   "cell_type": "code",
   "execution_count": 5,
   "id": "d02d279c-d679-4f8b-8c05-47c04eaeac7d",
   "metadata": {},
   "outputs": [
    {
     "name": "stdout",
     "output_type": "stream",
     "text": [
      "This file is modified with write mode\n",
      "This is text written in append mode\n",
      "\n"
     ]
    }
   ],
   "source": [
    "# Reading and Writing a file with r+ mode\n",
    "file = open('MyFile.txt', 'r+')\n",
    "lines = file.read()\n",
    "print(lines)\n",
    "file.write(lines)\n",
    "file.close()"
   ]
  },
  {
   "cell_type": "code",
   "execution_count": 6,
   "id": "24c1b543-8a3a-4ce3-939f-49f8461d2aa5",
   "metadata": {},
   "outputs": [],
   "source": [
    "# Writing and Reading a file\n",
    "file = open('MyFile.txt', 'w+')\n",
    "lines = file.read()\n",
    "file.write('This is w+ mode\\n')\n",
    "file.close()"
   ]
  },
  {
   "cell_type": "code",
   "execution_count": 7,
   "id": "bfdd52e2-736e-410b-ad8d-2d69c0fb975f",
   "metadata": {},
   "outputs": [],
   "source": [
    "# Appending and reading a file\n",
    "file = open('MyFile.txt', 'a+')\n",
    "lines = file.read()\n",
    "file.write('This is a+ mode\\n')\n",
    "file.close()"
   ]
  },
  {
   "cell_type": "markdown",
   "id": "7fc3e0c0-724d-4c0e-aef8-598c1cd69ad4",
   "metadata": {},
   "source": [
    "Question 2: Why close() function is used? Why is it important to close a file?"
   ]
  },
  {
   "cell_type": "markdown",
   "id": "95401ec3-f591-4811-a311-1dffa0a4aaf5",
   "metadata": {},
   "source": [
    "Answer:It is always a good practice to close a file after performing desired operations to it. Thus makes sure that all our changes have been saved to the file.\n",
    "Closing is done with .close() method"
   ]
  },
  {
   "cell_type": "code",
   "execution_count": 10,
   "id": "077ce12a-d242-4fb9-8de3-7750770be9a3",
   "metadata": {},
   "outputs": [
    {
     "name": "stdout",
     "output_type": "stream",
     "text": [
      "This is w+ mode\n",
      "This is a+ mode\n",
      "This is text written in append mode\n",
      "\n"
     ]
    }
   ],
   "source": [
    "# Opening file in read mode\n",
    "file = open('MyFile.txt', 'r')\n",
    "\n",
    "#reading file and printing results\n",
    "text = file.read()\n",
    "print(text)\n",
    "\n",
    "# Closing the file\n",
    "file.close()"
   ]
  },
  {
   "cell_type": "markdown",
   "id": "e3854ed8-7159-43e9-98c1-718cf55550ea",
   "metadata": {},
   "source": [
    "Question 3: Write a python program to create a text file. Write ‘I want to become a Data Scientist’ in that file. Then close the file. Open this file and read the content of the file."
   ]
  },
  {
   "cell_type": "code",
   "execution_count": 11,
   "id": "a1f0d9a7-9dc4-4548-bf00-2bb51ad46aa7",
   "metadata": {},
   "outputs": [],
   "source": [
    "# Opening a file in write mode\n",
    "new_file = open('new_file.txt','w')\n",
    "# Writing the file in write mode\n",
    "new_file.write('I want to become a Data Scientist')\n",
    "# Closing the file\n",
    "new_file.close()"
   ]
  },
  {
   "cell_type": "code",
   "execution_count": 12,
   "id": "837a5f19-a40c-47a5-94b3-b17c49404483",
   "metadata": {},
   "outputs": [
    {
     "name": "stdout",
     "output_type": "stream",
     "text": [
      "I want to become a Data Scientist\n"
     ]
    }
   ],
   "source": [
    "# Opening file in read mode\n",
    "new_file = open('new_file.txt','r')\n",
    "# Reading the file\n",
    "lines = new_file.read()\n",
    "print(lines)\n",
    "# Closing the file\n",
    "new_file.close()"
   ]
  },
  {
   "cell_type": "markdown",
   "id": "9cb1409e-8f6e-4ced-bd40-1f4eff6202bf",
   "metadata": {},
   "source": [
    "Question 4 : explain the following with python code: read(), readline() and readlines()."
   ]
  },
  {
   "cell_type": "markdown",
   "id": "6340ed66-a7d7-44ef-baaf-16716a1acf5a",
   "metadata": {},
   "source": [
    "Answer:The read() method returns the specified number of bytes from the file. Default is -1 which means the whole file.\n",
    "The readline() method returns one line from the file. You can also specified how many bytes from the line to return, by using the size parameter.\n",
    "The readlines() method returns a list containing each line in the file as a list item."
   ]
  },
  {
   "cell_type": "code",
   "execution_count": 13,
   "id": "2baadc0b-8081-4f2f-8001-45fd927f51e3",
   "metadata": {},
   "outputs": [
    {
     "name": "stdout",
     "output_type": "stream",
     "text": [
      "This is w+ mode\n",
      "This is a+ mode\n",
      "This is text written in append mode\n",
      "\n"
     ]
    }
   ],
   "source": [
    "file = open('MyFile.txt','r')\n",
    "print(file.read())\n",
    "file.close()"
   ]
  },
  {
   "cell_type": "code",
   "execution_count": 14,
   "id": "0cd876fd-0623-46cd-8b0b-b818515c1e83",
   "metadata": {},
   "outputs": [
    {
     "name": "stdout",
     "output_type": "stream",
     "text": [
      "This\n"
     ]
    }
   ],
   "source": [
    "file = open('MyFile.txt','r')\n",
    "print(file.read(4))\n",
    "file.close()"
   ]
  },
  {
   "cell_type": "code",
   "execution_count": 15,
   "id": "ebc6afe1-c974-40bc-b708-b6553223884b",
   "metadata": {},
   "outputs": [
    {
     "name": "stdout",
     "output_type": "stream",
     "text": [
      "This is w+ mode\n",
      "\n"
     ]
    }
   ],
   "source": [
    "file = open('MyFile.txt','r')\n",
    "print(file.readline())\n",
    "file.close()"
   ]
  },
  {
   "cell_type": "code",
   "execution_count": 16,
   "id": "19e69456-957d-4ad9-9d34-bdfc9eab802a",
   "metadata": {},
   "outputs": [
    {
     "name": "stdout",
     "output_type": "stream",
     "text": [
      "['This is w+ mode\\n', 'This is a+ mode\\n', 'This is text written in append mode\\n']\n"
     ]
    }
   ],
   "source": [
    "file = open('MyFile.txt','r')\n",
    "print(file.readlines())\n",
    "file.close()"
   ]
  },
  {
   "cell_type": "markdown",
   "id": "79773664-0d40-42d2-9036-7ed068ac79b3",
   "metadata": {},
   "source": [
    "Question 5 : Explain why with statement is used with open(). What is the advantage of using with statement and open() together"
   ]
  },
  {
   "cell_type": "markdown",
   "id": "f6ea7ff5-135c-4c32-88f2-e17f0492a46d",
   "metadata": {},
   "source": [
    "Answer : In Python, with statement is used in exception handling to make the code cleaner and much more readable. It simplifies the management of common resources like file streams.\n",
    "Advantage is : unlike the previous implementations, there is no need to call file.close()"
   ]
  },
  {
   "cell_type": "markdown",
   "id": "cf05f9d2-40ce-404f-93ce-c6c7a22c1597",
   "metadata": {},
   "source": [
    "It is guaranteed to close the file no matter how the nested block exits. If an exception occurs before the end of the block, it will close the file before the exception is caught by an outer exception handler."
   ]
  },
  {
   "cell_type": "code",
   "execution_count": 17,
   "id": "c968649c-5ca3-4c1a-8010-51b3ad3e7e79",
   "metadata": {},
   "outputs": [],
   "source": [
    "# using with statement\n",
    "with open('with_file.txt', 'w') as file:\n",
    "\tfile.write('This is file created using with statement')"
   ]
  },
  {
   "cell_type": "code",
   "execution_count": 18,
   "id": "c870375e-e5a8-4641-b1c7-dcc0ad0ffa38",
   "metadata": {},
   "outputs": [
    {
     "name": "stdout",
     "output_type": "stream",
     "text": [
      "This is file created using with statement\n"
     ]
    }
   ],
   "source": [
    "# Using the above file using with statement and reading the file\n",
    "with open('with_file.txt','r') as file:\n",
    "    print(file.read())"
   ]
  },
  {
   "cell_type": "markdown",
   "id": "081ab5c1-29b1-4be6-92bf-0169f604134b",
   "metadata": {},
   "source": [
    "Question 6: Explain the write() and writelines() functions. Give a suitable example"
   ]
  },
  {
   "cell_type": "code",
   "execution_count": null,
   "id": "0877c851-a790-4c31-ad6a-a85d394bb8d6",
   "metadata": {},
   "outputs": [],
   "source": []
  }
 ],
 "metadata": {
  "kernelspec": {
   "display_name": "Python 3 (ipykernel)",
   "language": "python",
   "name": "python3"
  },
  "language_info": {
   "codemirror_mode": {
    "name": "ipython",
    "version": 3
   },
   "file_extension": ".py",
   "mimetype": "text/x-python",
   "name": "python",
   "nbconvert_exporter": "python",
   "pygments_lexer": "ipython3",
   "version": "3.10.8"
  }
 },
 "nbformat": 4,
 "nbformat_minor": 5
}
