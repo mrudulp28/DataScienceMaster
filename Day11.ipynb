{
 "cells": [
  {
   "cell_type": "code",
   "execution_count": 1,
   "id": "bd3780f3-e199-4acb-810b-570413e9c38c",
   "metadata": {},
   "outputs": [],
   "source": [
    "##files"
   ]
  },
  {
   "cell_type": "code",
   "execution_count": 8,
   "id": "e9131342-3384-41d0-967b-efaf771e62b7",
   "metadata": {},
   "outputs": [],
   "source": [
    "f= open(\"test.txt\",'w')"
   ]
  },
  {
   "cell_type": "code",
   "execution_count": 9,
   "id": "ce4584cc-2c3b-4403-8e9f-c01dbef3647e",
   "metadata": {},
   "outputs": [
    {
     "data": {
      "text/plain": [
       "'/home/jovyan/work'"
      ]
     },
     "execution_count": 9,
     "metadata": {},
     "output_type": "execute_result"
    }
   ],
   "source": [
    "pwd"
   ]
  },
  {
   "cell_type": "code",
   "execution_count": 10,
   "id": "28b28394-96bd-4e7a-91e0-bbc9148eca02",
   "metadata": {},
   "outputs": [
    {
     "data": {
      "text/plain": [
       "719"
      ]
     },
     "execution_count": 10,
     "metadata": {},
     "output_type": "execute_result"
    }
   ],
   "source": [
    "f.write(\"Data Science Masters course is highly curated and uniquely designed according to the latest industry standards. This program instills students the skills essential to knowledge discovery efforts to identify standard, novel, and truly differentiated solutions and decision-making, including skills in managing, querying, analyzing, visualizing, and extracting meaning from extremely large data sets. This trending program provides students with the statistical, mathematical and computational skills needed to meet the large-scale data science challenges of today's professional world. You will learn all the stack required to work in data science industry including cloud infrastructure and real-time industry projects.\")"
   ]
  },
  {
   "cell_type": "code",
   "execution_count": 11,
   "id": "767ade53-a95b-4efc-9cfc-755593162b43",
   "metadata": {},
   "outputs": [],
   "source": [
    "f.close()"
   ]
  },
  {
   "cell_type": "code",
   "execution_count": 12,
   "id": "afd5b7e0-fcbe-4a22-9734-0902ce9dc673",
   "metadata": {},
   "outputs": [],
   "source": [
    "data=open(\"test.txt\",'r')"
   ]
  },
  {
   "cell_type": "code",
   "execution_count": 13,
   "id": "bd8bfb50-9fea-4ed4-9289-e090e1a32af8",
   "metadata": {},
   "outputs": [
    {
     "data": {
      "text/plain": [
       "\"Data Science Masters course is highly curated and uniquely designed according to the latest industry standards. This program instills students the skills essential to knowledge discovery efforts to identify standard, novel, and truly differentiated solutions and decision-making, including skills in managing, querying, analyzing, visualizing, and extracting meaning from extremely large data sets. This trending program provides students with the statistical, mathematical and computational skills needed to meet the large-scale data science challenges of today's professional world. You will learn all the stack required to work in data science industry including cloud infrastructure and real-time industry projects.\""
      ]
     },
     "execution_count": 13,
     "metadata": {},
     "output_type": "execute_result"
    }
   ],
   "source": [
    "data.read()"
   ]
  },
  {
   "cell_type": "code",
   "execution_count": 17,
   "id": "db537812-3d36-4737-a62f-0400f6c791bf",
   "metadata": {},
   "outputs": [
    {
     "data": {
      "text/plain": [
       "\"Data Science Masters course is highly curated and uniquely designed according to the latest industry standards. This program instills students the skills essential to knowledge discovery efforts to identify standard, novel, and truly differentiated solutions and decision-making, including skills in managing, querying, analyzing, visualizing, and extracting meaning from extremely large data sets. This trending program provides students with the statistical, mathematical and computational skills needed to meet the large-scale data science challenges of today's professional world. You will learn all the stack required to work in data science industry including cloud infrastructure and real-time industry projects.\""
      ]
     },
     "execution_count": 17,
     "metadata": {},
     "output_type": "execute_result"
    }
   ],
   "source": [
    "data.read() ## the cursor is at the end position"
   ]
  },
  {
   "cell_type": "code",
   "execution_count": 18,
   "id": "d1395e21-415e-4a45-a75d-5d782fd7436d",
   "metadata": {},
   "outputs": [
    {
     "data": {
      "text/plain": [
       "0"
      ]
     },
     "execution_count": 18,
     "metadata": {},
     "output_type": "execute_result"
    }
   ],
   "source": [
    "data.seek(0) ##this is used to reset the cursor"
   ]
  },
  {
   "cell_type": "code",
   "execution_count": 19,
   "id": "c23fb726-99a0-4fe4-8974-ce2049abbdaa",
   "metadata": {},
   "outputs": [
    {
     "name": "stdout",
     "output_type": "stream",
     "text": [
      "Data Science Masters course is highly curated and uniquely designed according to the latest industry standards. This program instills students the skills essential to knowledge discovery efforts to identify standard, novel, and truly differentiated solutions and decision-making, including skills in managing, querying, analyzing, visualizing, and extracting meaning from extremely large data sets. This trending program provides students with the statistical, mathematical and computational skills needed to meet the large-scale data science challenges of today's professional world. You will learn all the stack required to work in data science industry including cloud infrastructure and real-time industry projects.\n"
     ]
    }
   ],
   "source": [
    "for i in data:\n",
    "    print(i)"
   ]
  },
  {
   "cell_type": "code",
   "execution_count": 20,
   "id": "b49d0a25-820c-460d-ab4b-c2da8d54b8ec",
   "metadata": {},
   "outputs": [],
   "source": [
    "import os"
   ]
  },
  {
   "cell_type": "code",
   "execution_count": 21,
   "id": "34920dfb-3677-4a97-bc98-7aac13d45673",
   "metadata": {},
   "outputs": [
    {
     "data": {
      "text/plain": [
       "719"
      ]
     },
     "execution_count": 21,
     "metadata": {},
     "output_type": "execute_result"
    }
   ],
   "source": [
    "os.path.getsize(\"test.txt\")"
   ]
  },
  {
   "cell_type": "code",
   "execution_count": 22,
   "id": "03f327df-cd11-4510-a85c-53e4ff03cadc",
   "metadata": {},
   "outputs": [],
   "source": [
    "import shutil"
   ]
  },
  {
   "cell_type": "code",
   "execution_count": 24,
   "id": "c17ebb16-c48d-4160-a684-e45a8205738a",
   "metadata": {},
   "outputs": [
    {
     "data": {
      "text/plain": [
       "'new_test.txt'"
      ]
     },
     "execution_count": 24,
     "metadata": {},
     "output_type": "execute_result"
    }
   ],
   "source": [
    "shutil.copy(\"test.txt\",\"new_test.txt\")"
   ]
  },
  {
   "cell_type": "code",
   "execution_count": 25,
   "id": "b0d13e67-3d93-4271-b43c-b344e3bbc21d",
   "metadata": {},
   "outputs": [],
   "source": [
    "os.remove(\"new_test.txt\")"
   ]
  },
  {
   "cell_type": "code",
   "execution_count": 26,
   "id": "e6ae7210-acd1-4395-984d-5a5e4551c150",
   "metadata": {},
   "outputs": [
    {
     "name": "stdout",
     "output_type": "stream",
     "text": [
      "Data Science Masters course is highly curated and uniquely designed according to the latest industry standards. This program instills students the skills essential to knowledge discovery efforts to identify standard, novel, and truly differentiated solutions and decision-making, including skills in managing, querying, analyzing, visualizing, and extracting meaning from extremely large data sets. This trending program provides students with the statistical, mathematical and computational skills needed to meet the large-scale data science challenges of today's professional world. You will learn all the stack required to work in data science industry including cloud infrastructure and real-time industry projects.\n"
     ]
    }
   ],
   "source": [
    "with open(\"test.txt\",'r') as f:\n",
    "    print(f.read())\n"
   ]
  },
  {
   "cell_type": "code",
   "execution_count": 28,
   "id": "77f29777-1215-4e87-b992-4ae0b16aea85",
   "metadata": {},
   "outputs": [],
   "source": [
    "os.rename(\"test.txt\",\"rename_test.txt\")"
   ]
  },
  {
   "cell_type": "code",
   "execution_count": 29,
   "id": "7347121c-5906-42bf-9fe7-d35aa24a9fdd",
   "metadata": {},
   "outputs": [],
   "source": [
    "data={\n",
    "      \"name\":\"mrudul\",\n",
    "      \"mail\":\"mrudul@gmail.com\",\n",
    "      \"phone_no\":9829021232,\n",
    "      \"subject\":[\"datacscience\",\"big data\",\"data analytics\"]\n",
    "     }"
   ]
  },
  {
   "cell_type": "code",
   "execution_count": 31,
   "id": "f016b6b1-8d74-4401-a9ae-98f12aae00c7",
   "metadata": {},
   "outputs": [],
   "source": [
    "import json"
   ]
  },
  {
   "cell_type": "code",
   "execution_count": 32,
   "id": "4b63c9a2-1484-4332-8c71-8e461691c5c9",
   "metadata": {},
   "outputs": [],
   "source": [
    "with open(\"test1.json\",\"w\") as f:\n",
    "    json.dump(data,f)"
   ]
  },
  {
   "cell_type": "code",
   "execution_count": 34,
   "id": "1141d87d-abf5-468b-992d-062301bddb84",
   "metadata": {},
   "outputs": [],
   "source": [
    "with open(\"test1.json\",\"r\") as f:\n",
    "    data1=json.load(f)"
   ]
  },
  {
   "cell_type": "code",
   "execution_count": 35,
   "id": "6feffee8-f181-4f73-9014-ccee445d3b5c",
   "metadata": {},
   "outputs": [
    {
     "data": {
      "text/plain": [
       "{'name': 'mrudul',\n",
       " 'mail': 'mrudul@gmail.com',\n",
       " 'phone_no': 9829021232,\n",
       " 'subject': ['datacscience', 'big data', 'data analytics']}"
      ]
     },
     "execution_count": 35,
     "metadata": {},
     "output_type": "execute_result"
    }
   ],
   "source": [
    "data1"
   ]
  },
  {
   "cell_type": "code",
   "execution_count": 36,
   "id": "446db366-7512-4908-9e1f-be8952b28566",
   "metadata": {},
   "outputs": [
    {
     "data": {
      "text/plain": [
       "'big data'"
      ]
     },
     "execution_count": 36,
     "metadata": {},
     "output_type": "execute_result"
    }
   ],
   "source": [
    "data1['subject'][1]"
   ]
  },
  {
   "cell_type": "code",
   "execution_count": 37,
   "id": "5c8446fc-466f-44e3-b9fe-53511e6557fb",
   "metadata": {},
   "outputs": [],
   "source": [
    "data=[[\"name\",\"mail\",\"number\"],\n",
    "     [\"Mrudul\",\"mrudul@gmail.com\",1237193018],\n",
    "     [\"sudh\",\"sudh@gmail.com\",1730198781]]"
   ]
  },
  {
   "cell_type": "code",
   "execution_count": 38,
   "id": "0b3ae694-5d88-4518-b02a-a548c6cbedc1",
   "metadata": {},
   "outputs": [],
   "source": [
    "import csv"
   ]
  },
  {
   "cell_type": "code",
   "execution_count": 40,
   "id": "e3d6c332-9ff4-41cf-82ba-49da95d38e36",
   "metadata": {},
   "outputs": [],
   "source": [
    "with open(\"test2.csv\",\"w\") as f:\n",
    "    w=csv.writer(f)\n",
    "    for i in data:\n",
    "        w.writerow(i)"
   ]
  },
  {
   "cell_type": "code",
   "execution_count": 41,
   "id": "542445e0-344b-426e-8344-286d1b36d952",
   "metadata": {},
   "outputs": [
    {
     "name": "stdout",
     "output_type": "stream",
     "text": [
      "['name', 'mail', 'number']\n",
      "['Mrudul', 'mrudul@gmail.com', '1237193018']\n",
      "['sudh', 'sudh@gmail.com', '1730198781']\n"
     ]
    }
   ],
   "source": [
    "with open(\"test2.csv\",\"r\") as f:\n",
    "    read=csv.reader(f)\n",
    "    for i in read:\n",
    "        print(i)"
   ]
  },
  {
   "cell_type": "code",
   "execution_count": 42,
   "id": "c55d9518-ffad-4b62-9ace-0d71a47b45fc",
   "metadata": {},
   "outputs": [],
   "source": [
    "with open(\"test3.bin\",\"wb\") as f:\n",
    "    f.write(b\"\\x01\\x02\\x03\")"
   ]
  },
  {
   "cell_type": "code",
   "execution_count": 44,
   "id": "c2dc2303-0010-4b36-83bd-de0ed713ffa3",
   "metadata": {},
   "outputs": [
    {
     "name": "stdout",
     "output_type": "stream",
     "text": [
      "b'\\x01\\x02\\x03'\n"
     ]
    }
   ],
   "source": [
    "with open(\"test3.bin\",\"rb\") as f:\n",
    "    print(f.read())\n",
    "    "
   ]
  },
  {
   "cell_type": "code",
   "execution_count": 45,
   "id": "b655e2c8-0cd5-4993-9131-73530f5ccf90",
   "metadata": {},
   "outputs": [],
   "source": [
    "import io"
   ]
  },
  {
   "cell_type": "code",
   "execution_count": 47,
   "id": "ca7a8920-b2f9-4ab9-af79-3fb6801b89a4",
   "metadata": {},
   "outputs": [],
   "source": [
    "with open(\"test4.txt\",\"wb\") as f:\n",
    "    file=io.BufferedWriter(f)\n",
    "    file.write(b\"Data Science Masters course is highly curated and uniquely designed according to the latest industry standards. This program instills students the skills essential to knowledge discovery efforts to identify standard, novel, and truly differentiated solutions and decision-making, including skills in managing, querying, analyzing, visualizing, and extracting meaning from extremely large data sets. This trending program provides students with the statistical, mathematical and computational skills needed to meet the large-scale data science challenges of today's professional world. You will learn all the stack required to work in data science industry including cloud infrastructure and real-time industry projects.\\n\")\n",
    "    file.write(b\"this is my second line in the file\")\n",
    "    file.flush()\n",
    "    "
   ]
  },
  {
   "cell_type": "code",
   "execution_count": 48,
   "id": "7e928e75-f969-44f9-b43e-7f42c5becb90",
   "metadata": {},
   "outputs": [
    {
     "name": "stdout",
     "output_type": "stream",
     "text": [
      "b\"Data Science Masters course is highly curated and uniquely designed according to the latest industry standards. This program instills students the skills essential to knowledge discovery efforts to identify standard, novel, and truly differentiated solutions and decision-making, including skills in managing, querying, analyzing, visualizing, and extracting meaning from extremely large data sets. This trending program provides students with the statistical, mathematical and computational skills needed to meet the large-scale data science challenges of today's professional world. You will learn all the stack required to work in data science industry including cloud infrastructure and real-time industry projects.\\nthis is my second line in the file\"\n"
     ]
    }
   ],
   "source": [
    "with open(\"test4.txt\",\"rb\") as f:\n",
    "    file=io.BufferedReader(f)\n",
    "    data=file.read(1000) ##only this many number of bytes can be read\n",
    "    print(data)"
   ]
  },
  {
   "cell_type": "code",
   "execution_count": 49,
   "id": "25c27b83-efe4-4fa9-94bf-06f4f535bf1c",
   "metadata": {},
   "outputs": [],
   "source": [
    "##Logger and Debugger"
   ]
  },
  {
   "cell_type": "code",
   "execution_count": 1,
   "id": "edfb7b8a-6030-49f4-874d-605a21ca1db8",
   "metadata": {},
   "outputs": [],
   "source": [
    "import logging"
   ]
  },
  {
   "cell_type": "code",
   "execution_count": 51,
   "id": "3886f887-ad9b-4565-95e4-d3b5698ae339",
   "metadata": {},
   "outputs": [],
   "source": [
    "logging.basicConfig(filename=\"test.log\",level=logging.INFO)"
   ]
  },
  {
   "cell_type": "code",
   "execution_count": 52,
   "id": "644eac51-2163-4f20-96e7-30345a6e6c52",
   "metadata": {},
   "outputs": [],
   "source": [
    "logging.info(\"this is my line of execution\")"
   ]
  },
  {
   "cell_type": "code",
   "execution_count": 53,
   "id": "4592fb6b-decd-44c7-9a4e-68d789206dd0",
   "metadata": {},
   "outputs": [],
   "source": [
    "logging.error(\"this is my error\")"
   ]
  },
  {
   "cell_type": "code",
   "execution_count": 54,
   "id": "80d89521-ae67-4c68-a805-9a7663ae9b27",
   "metadata": {},
   "outputs": [],
   "source": [
    "logging.critical(\"this is my critical\")"
   ]
  },
  {
   "cell_type": "code",
   "execution_count": 5,
   "id": "cddb53ac-2d98-4106-b685-7932d3086f18",
   "metadata": {},
   "outputs": [],
   "source": [
    "logging.shutdown()"
   ]
  },
  {
   "cell_type": "code",
   "execution_count": 2,
   "id": "04e78877-9df2-41f8-a8cd-0778d2657d90",
   "metadata": {},
   "outputs": [],
   "source": [
    "logging.basicConfig(filename=\"test1.log\",level=logging.DEBUG,format='%(asctime)s%(message)s')"
   ]
  },
  {
   "cell_type": "code",
   "execution_count": 3,
   "id": "6a266135-fc18-4639-94fb-fba55f93a068",
   "metadata": {},
   "outputs": [],
   "source": [
    "logging.info(\"this is my info log\")"
   ]
  },
  {
   "cell_type": "code",
   "execution_count": 4,
   "id": "ca75723c-f84a-44fa-afb5-306eaabf1711",
   "metadata": {},
   "outputs": [],
   "source": [
    "logging.debug(\"this is my debug\")"
   ]
  },
  {
   "cell_type": "code",
   "execution_count": null,
   "id": "f191fb83-ce67-43f9-87eb-b296bfeff150",
   "metadata": {},
   "outputs": [],
   "source": [
    "logging.shutdown()"
   ]
  },
  {
   "cell_type": "code",
   "execution_count": 6,
   "id": "364882eb-ba97-46c2-98d9-e2c7062f802a",
   "metadata": {},
   "outputs": [],
   "source": [
    "logging.basicConfig(filename=\"test2.log\",level=logging.DEBUG,format='%(asctime)s%(name)s%(label)s%(message)s')"
   ]
  },
  {
   "cell_type": "code",
   "execution_count": 7,
   "id": "5217369e-8e1a-4527-9ba0-54eea4dcab9c",
   "metadata": {},
   "outputs": [],
   "source": [
    "logging.info(\"this is my info log\")"
   ]
  },
  {
   "cell_type": "code",
   "execution_count": 8,
   "id": "8238116e-a955-46c0-9204-bd8de5866670",
   "metadata": {},
   "outputs": [],
   "source": [
    "logging.debug(\"this is my debug\")"
   ]
  },
  {
   "cell_type": "code",
   "execution_count": 16,
   "id": "1f027def-0706-4d5d-93ea-b994bd7f4b26",
   "metadata": {},
   "outputs": [],
   "source": [
    "l=[1,2,3,4,[4,5,6],'sudh','mrudul']\n"
   ]
  },
  {
   "cell_type": "code",
   "execution_count": 23,
   "id": "c88e8860-5bb5-4811-ba7c-087242ee54b8",
   "metadata": {},
   "outputs": [],
   "source": [
    "l1_integer=[]\n",
    "l2_string=[]\n",
    "for i in l:\n",
    "    logging.info(\"this is start of my for loop{} \".format(l))\n",
    "    logging.info(\"this is i \".format(i))\n",
    "    if(type(i)==list):\n",
    "        for j in i:\n",
    "            if type(j)==int:\n",
    "                logging.info(\"this is j \".format(j))\n",
    "                l1_integer.append(j)\n",
    "    elif(type(i)==int):\n",
    "        l1_integer.append(i)\n",
    "    else:\n",
    "        if type(i)==str:\n",
    "            l2_string.append(i)\n",
    "            "
   ]
  },
  {
   "cell_type": "code",
   "execution_count": 24,
   "id": "705028bc-0216-4aec-9bed-203249f5036a",
   "metadata": {},
   "outputs": [
    {
     "data": {
      "text/plain": [
       "[1, 2, 3, 4, 4, 5, 6]"
      ]
     },
     "execution_count": 24,
     "metadata": {},
     "output_type": "execute_result"
    }
   ],
   "source": [
    "l1_integer"
   ]
  },
  {
   "cell_type": "code",
   "execution_count": 25,
   "id": "ae6c8761-6732-4a8f-9bf8-bb766009a642",
   "metadata": {},
   "outputs": [
    {
     "data": {
      "text/plain": [
       "['sudh', 'mrudul']"
      ]
     },
     "execution_count": 25,
     "metadata": {},
     "output_type": "execute_result"
    }
   ],
   "source": [
    "l2_string"
   ]
  },
  {
   "cell_type": "code",
   "execution_count": null,
   "id": "205ea9f7-a190-42dd-8d8b-6af9b5cce7ff",
   "metadata": {},
   "outputs": [],
   "source": []
  }
 ],
 "metadata": {
  "kernelspec": {
   "display_name": "Python 3 (ipykernel)",
   "language": "python",
   "name": "python3"
  },
  "language_info": {
   "codemirror_mode": {
    "name": "ipython",
    "version": 3
   },
   "file_extension": ".py",
   "mimetype": "text/x-python",
   "name": "python",
   "nbconvert_exporter": "python",
   "pygments_lexer": "ipython3",
   "version": "3.10.8"
  }
 },
 "nbformat": 4,
 "nbformat_minor": 5
}
