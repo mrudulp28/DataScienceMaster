{
 "cells": [
  {
   "cell_type": "markdown",
   "id": "d221bc60-401a-412e-b920-b7f04f514105",
   "metadata": {},
   "source": [
    "### 1)program to accept percentage from the user and display the grades accordingly"
   ]
  },
  {
   "cell_type": "code",
   "execution_count": 1,
   "id": "19f43535-c659-47f0-99af-b7580ed18477",
   "metadata": {},
   "outputs": [
    {
     "name": "stdin",
     "output_type": "stream",
     "text": [
      "Enter your Percentage: 70\n"
     ]
    },
    {
     "name": "stdout",
     "output_type": "stream",
     "text": [
      "Grade C\n"
     ]
    }
   ],
   "source": [
    "percentage=int(input(\"Enter your Percentage:\" ))\n",
    "if(percentage>90):\n",
    "    print(\"Grade A\")\n",
    "elif(percentage>80 and percentage<=90):\n",
    "    print(\"Grade B\")\n",
    "elif(percentage>=60 and percentage<=80):\n",
    "    print(\"Grade C\")\n",
    "elif(percentage<60):\n",
    "    print(\"Grade D\")"
   ]
  },
  {
   "cell_type": "markdown",
   "id": "066ae0b3-ed37-4df1-99ac-6cc2d4227a31",
   "metadata": {},
   "source": [
    "### 2)program to accept cost from the user and display the road tax accordingly"
   ]
  },
  {
   "cell_type": "code",
   "execution_count": 4,
   "id": "3ac6734c-849f-4588-bbb7-8513c3287750",
   "metadata": {},
   "outputs": [
    {
     "name": "stdin",
     "output_type": "stream",
     "text": [
      "Enter cost of the bike: 5000\n"
     ]
    },
    {
     "name": "stdout",
     "output_type": "stream",
     "text": [
      " the Road tax to be paid is 250.0\n"
     ]
    }
   ],
   "source": [
    "cost=int(input(\"Enter cost of the bike:\" ))\n",
    "if(cost>100000):\n",
    "    print(f\" the Road tax to be paid is {0.15*cost}\")\n",
    "elif(cost>50000 and cost<=100000):\n",
    "    print(f\" the Road tax to be paid is {0.1*cost}\")\n",
    "else:\n",
    "    print(f\" the Road tax to be paid is {0.05*cost}\")"
   ]
  },
  {
   "cell_type": "markdown",
   "id": "01e6889b-733d-40b7-baa5-6bcb98008064",
   "metadata": {},
   "source": [
    "### 3)program to accept city from the user and display the monument accordingly"
   ]
  },
  {
   "cell_type": "code",
   "execution_count": 5,
   "id": "2855bcee-53c4-4984-9b66-f0f8eafdc694",
   "metadata": {},
   "outputs": [
    {
     "name": "stdin",
     "output_type": "stream",
     "text": [
      "Enter the city name: Delhi\n"
     ]
    },
    {
     "name": "stdout",
     "output_type": "stream",
     "text": [
      "Red Fort is the monument in Delhi\n"
     ]
    }
   ],
   "source": [
    "city=input(\"Enter the city name:\" )\n",
    "if(city==\"Delhi\"):\n",
    "    print(f\"Red Fort is the monument in {city}\")\n",
    "elif(city==\"Agra\"):\n",
    "    print(f\"Taj Mahal is the monument in {city}\")\n",
    "elif(city==\"Jaipur\"):\n",
    "    print(f\"Jal Mahal is the monument in {city}\")"
   ]
  },
  {
   "cell_type": "markdown",
   "id": "3da0a49d-7440-4e3e-925e-bb12a255c616",
   "metadata": {},
   "source": [
    "### 4)check how many times a number can be divided by three before the number is less than or equal to 10"
   ]
  },
  {
   "cell_type": "code",
   "execution_count": 16,
   "id": "8c137abc-23f6-46f6-9fed-dfaffae48165",
   "metadata": {},
   "outputs": [
    {
     "name": "stdin",
     "output_type": "stream",
     "text": [
      "Enter the Number:  180\n"
     ]
    },
    {
     "name": "stdout",
     "output_type": "stream",
     "text": [
      "The Number can be divided 3 times\n"
     ]
    }
   ],
   "source": [
    "number=int(input(\"Enter the Number: \"))\n",
    "count=0\n",
    "while(number>10):\n",
    "    number=number/3\n",
    "    count=count+1\n",
    "print(f\"The Number can be divided {count} times\")"
   ]
  },
  {
   "cell_type": "markdown",
   "id": "2fc958ff-a2e7-4d98-9fba-729e32f33b18",
   "metadata": {},
   "source": [
    "### 5)why and when to use while in python"
   ]
  },
  {
   "cell_type": "raw",
   "id": "ce822ac8-cbc7-4723-a3ee-0b4a177e2884",
   "metadata": {},
   "source": [
    "While is used to execute a set of statements until the while condition is satisfied(i.e until the condition is true)"
   ]
  },
  {
   "cell_type": "markdown",
   "id": "d9498f8a-99ba-4633-a684-5ae7a78a31f6",
   "metadata": {},
   "source": [
    "### 6)use nested while to print 3 different patterns"
   ]
  },
  {
   "cell_type": "code",
   "execution_count": 1,
   "id": "c0770123-f428-442f-9132-385f5e19773a",
   "metadata": {},
   "outputs": [
    {
     "name": "stdin",
     "output_type": "stream",
     "text": [
      "Enter number of rows :  5\n"
     ]
    },
    {
     "name": "stdout",
     "output_type": "stream",
     "text": [
      "* \n",
      "* * \n",
      "* * * \n",
      "* * * * \n",
      "* * * * * \n"
     ]
    }
   ],
   "source": [
    "n = int(input('Enter number of rows : '))\n",
    " \n",
    "i = 1\n",
    "while i <= n :\n",
    "    j = 1\n",
    "    while j <= i:\n",
    "        print(\"*\", end = \" \")\n",
    "        j += 1\n",
    "    print()\n",
    "    i += 1"
   ]
  },
  {
   "cell_type": "markdown",
   "id": "28bd1ed4-754d-448b-8ae4-28ca002d630b",
   "metadata": {},
   "source": [
    "### 7)Reverse a while loop to display 10 to 1"
   ]
  },
  {
   "cell_type": "code",
   "execution_count": 19,
   "id": "b8dea26e-937b-492e-8a00-eea353371606",
   "metadata": {},
   "outputs": [
    {
     "name": "stdout",
     "output_type": "stream",
     "text": [
      "10\n",
      "9\n",
      "8\n",
      "7\n",
      "6\n",
      "5\n",
      "4\n",
      "3\n",
      "2\n",
      "1\n"
     ]
    }
   ],
   "source": [
    "i=10\n",
    "while(i>0):\n",
    "    print(i)\n",
    "    i=i-1"
   ]
  },
  {
   "cell_type": "markdown",
   "id": "24c823e5-17d3-421e-8076-267d4cd1b9bb",
   "metadata": {},
   "source": [
    "### 8)Reverse a while loop to display 10 to 1"
   ]
  },
  {
   "cell_type": "code",
   "execution_count": 21,
   "id": "087b4649-a51f-4296-b208-85637c39be6a",
   "metadata": {},
   "outputs": [
    {
     "name": "stdout",
     "output_type": "stream",
     "text": [
      "10\n",
      "9\n",
      "8\n",
      "7\n",
      "6\n",
      "5\n",
      "4\n",
      "3\n",
      "2\n",
      "1\n"
     ]
    }
   ],
   "source": [
    "i=10\n",
    "while(i>0):\n",
    "    print(i)\n",
    "    i=i-1"
   ]
  },
  {
   "cell_type": "code",
   "execution_count": null,
   "id": "70765fd8-3c6f-4ac7-84f8-a905b18a19c6",
   "metadata": {},
   "outputs": [],
   "source": []
  }
 ],
 "metadata": {
  "kernelspec": {
   "display_name": "Python 3 (ipykernel)",
   "language": "python",
   "name": "python3"
  },
  "language_info": {
   "codemirror_mode": {
    "name": "ipython",
    "version": 3
   },
   "file_extension": ".py",
   "mimetype": "text/x-python",
   "name": "python",
   "nbconvert_exporter": "python",
   "pygments_lexer": "ipython3",
   "version": "3.10.8"
  }
 },
 "nbformat": 4,
 "nbformat_minor": 5
}
