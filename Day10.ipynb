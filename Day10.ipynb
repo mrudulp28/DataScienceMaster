{
 "cells": [
  {
   "cell_type": "code",
   "execution_count": 3,
   "id": "c97123c9-27ee-4b6d-9f80-d6fb089deed7",
   "metadata": {},
   "outputs": [],
   "source": [
    "##decorator\n",
    "def test():\n",
    "    print(\"this is the start of my function\")\n",
    "    print(4+5)\n",
    "    print(\"this is the end of my function\")"
   ]
  },
  {
   "cell_type": "code",
   "execution_count": 4,
   "id": "c6fa2b62-0f79-4048-853d-b3f6661d1bc0",
   "metadata": {},
   "outputs": [
    {
     "name": "stdout",
     "output_type": "stream",
     "text": [
      "this is the start of my function\n",
      "9\n",
      "this is the end of my function\n"
     ]
    }
   ],
   "source": [
    "test()"
   ]
  },
  {
   "cell_type": "code",
   "execution_count": 7,
   "id": "f4417480-01a6-4ca0-b948-d33c986ad51c",
   "metadata": {},
   "outputs": [],
   "source": [
    "def deco(func):\n",
    "    def inner_deco():\n",
    "        print(\"this is the start of my function\")\n",
    "        func()\n",
    "        print(\"this is the end of my function\")\n",
    "    return inner_deco\n",
    "        "
   ]
  },
  {
   "cell_type": "code",
   "execution_count": 9,
   "id": "ae5894f7-a979-4d89-a31e-e9052f7fec46",
   "metadata": {},
   "outputs": [],
   "source": [
    "@deco\n",
    "def test1():\n",
    "    print(4+5)"
   ]
  },
  {
   "cell_type": "code",
   "execution_count": 10,
   "id": "a826c8d7-05dc-4120-8708-596aed7d64bf",
   "metadata": {},
   "outputs": [
    {
     "name": "stdout",
     "output_type": "stream",
     "text": [
      "this is the start of my function\n",
      "9\n",
      "this is the end of my function\n"
     ]
    }
   ],
   "source": [
    "test1()"
   ]
  },
  {
   "cell_type": "code",
   "execution_count": 16,
   "id": "b5b3bb87-dc2a-4d0e-824b-8ad4ddfc240d",
   "metadata": {},
   "outputs": [],
   "source": [
    "import time \n",
    "def timer_test(func):\n",
    "    def timer_test_inner():\n",
    "        start=time.time()\n",
    "        func()\n",
    "        end=time.time()\n",
    "        print(end-start)\n",
    "    return timer_test_inner"
   ]
  },
  {
   "cell_type": "code",
   "execution_count": 17,
   "id": "54e28e8c-7ba9-4096-9098-92b8b9c1c47e",
   "metadata": {},
   "outputs": [],
   "source": [
    "@timer_test\n",
    "def test2():\n",
    "    print(44+5)"
   ]
  },
  {
   "cell_type": "code",
   "execution_count": 18,
   "id": "8de15f02-6cc3-4115-8139-6e885ef23a3a",
   "metadata": {},
   "outputs": [
    {
     "name": "stdout",
     "output_type": "stream",
     "text": [
      "49\n",
      "4.57763671875e-05\n"
     ]
    }
   ],
   "source": [
    "test2()"
   ]
  },
  {
   "cell_type": "code",
   "execution_count": 19,
   "id": "58e2ccf8-a938-462d-ade2-9b27c42e5383",
   "metadata": {},
   "outputs": [],
   "source": [
    "@timer_test\n",
    "def test3():\n",
    "    for i in range(100000):\n",
    "        pass"
   ]
  },
  {
   "cell_type": "code",
   "execution_count": 20,
   "id": "2a348210-c47c-4184-abb6-fb9a581a9ebf",
   "metadata": {},
   "outputs": [
    {
     "name": "stdout",
     "output_type": "stream",
     "text": [
      "0.0026924610137939453\n"
     ]
    }
   ],
   "source": [
    "test3()"
   ]
  },
  {
   "cell_type": "code",
   "execution_count": 21,
   "id": "9b559db8-564a-4f83-9ec3-9725804f4f6f",
   "metadata": {},
   "outputs": [],
   "source": [
    "##methods\n",
    "class pwskills:\n",
    "    def __init__(self,name,mail):\n",
    "        self.name=name\n",
    "        self.mail=mail\n",
    "    \n",
    "    def details(self):\n",
    "        print(self.name,self.mail)\n",
    "        "
   ]
  },
  {
   "cell_type": "code",
   "execution_count": 22,
   "id": "0965e454-e573-4b97-a577-1be3e54808aa",
   "metadata": {},
   "outputs": [],
   "source": [
    "obj=pwskills(\"mrudul\",\"mrudul@gmail\")"
   ]
  },
  {
   "cell_type": "code",
   "execution_count": 24,
   "id": "7b19f1c9-85f3-41f5-9d83-d7f906ef9fac",
   "metadata": {},
   "outputs": [
    {
     "name": "stdout",
     "output_type": "stream",
     "text": [
      "mrudul mrudul@gmail\n"
     ]
    }
   ],
   "source": [
    "obj.details()"
   ]
  },
  {
   "cell_type": "code",
   "execution_count": 34,
   "id": "ad370f12-388f-44cc-885b-8e11cd2bb441",
   "metadata": {},
   "outputs": [],
   "source": [
    "##methods\n",
    "class pwskills1:\n",
    "    \n",
    "    def __init__(self,name,mail):\n",
    "        self.name=name\n",
    "        self.mail=mail\n",
    "    \n",
    "    @classmethod\n",
    "    def detailss(cls, name, mail):\n",
    "        return cls(name, mail)\n",
    "    \n",
    "    def details(self):\n",
    "        print(self.name,self.mail)\n",
    "        "
   ]
  },
  {
   "cell_type": "code",
   "execution_count": 33,
   "id": "3503c8f9-4c74-4811-988f-fe8594dfef27",
   "metadata": {},
   "outputs": [],
   "source": [
    "boj1=pwskills1.detailss(\"mrudul\",\"mrudul@gmail\")"
   ]
  },
  {
   "cell_type": "code",
   "execution_count": 30,
   "id": "552c6f08-62fb-4fc1-a402-310ca70d5918",
   "metadata": {},
   "outputs": [
    {
     "data": {
      "text/plain": [
       "'mrudul'"
      ]
     },
     "execution_count": 30,
     "metadata": {},
     "output_type": "execute_result"
    }
   ],
   "source": [
    "boj1.name"
   ]
  },
  {
   "cell_type": "code",
   "execution_count": 31,
   "id": "7e68691f-31dd-46cf-b72a-c88e1fdb5470",
   "metadata": {},
   "outputs": [
    {
     "data": {
      "text/plain": [
       "'mrudul@gmail'"
      ]
     },
     "execution_count": 31,
     "metadata": {},
     "output_type": "execute_result"
    }
   ],
   "source": [
    "boj1.mail"
   ]
  },
  {
   "cell_type": "code",
   "execution_count": 52,
   "id": "ab0b493b-36cd-4e60-90c9-e51b8aa48fdd",
   "metadata": {},
   "outputs": [],
   "source": [
    "##methods\n",
    "class pwskills2:\n",
    "    mobile=9712316841\n",
    "    \n",
    "    def __init__(self,name,mail):\n",
    "        self.name=name\n",
    "        self.mail=mail\n",
    "    \n",
    "    @classmethod\n",
    "    def change(cls,mobile_number):\n",
    "        pwskills2.mobile=mobile_number\n",
    "        \n",
    "    \n",
    "    @classmethod\n",
    "    def detailss(cls, name, mail):\n",
    "        return cls(name, mail)\n",
    "    \n",
    "    def details(self):\n",
    "        print(self.name,self.mail,pwskills2.mobile)\n",
    "        "
   ]
  },
  {
   "cell_type": "code",
   "execution_count": 53,
   "id": "ffd6558b-6421-4e3f-83c3-1b24fb36113e",
   "metadata": {},
   "outputs": [
    {
     "data": {
      "text/plain": [
       "9712316841"
      ]
     },
     "execution_count": 53,
     "metadata": {},
     "output_type": "execute_result"
    }
   ],
   "source": [
    "pwskills2.mobile"
   ]
  },
  {
   "cell_type": "code",
   "execution_count": 54,
   "id": "df5f34ed-ed8d-410e-a799-7ba221dfff26",
   "metadata": {},
   "outputs": [],
   "source": [
    "pw2=pwskills2.detailss(\"mrudul\",\"mrudul@gmail\")"
   ]
  },
  {
   "cell_type": "code",
   "execution_count": 55,
   "id": "a2fe3fde-eb98-4dc8-9a4f-9a1f38f9fae2",
   "metadata": {},
   "outputs": [
    {
     "name": "stdout",
     "output_type": "stream",
     "text": [
      "mrudul mrudul@gmail 9712316841\n"
     ]
    }
   ],
   "source": [
    "pw2.details()"
   ]
  },
  {
   "cell_type": "code",
   "execution_count": 56,
   "id": "8148e078-87c2-415b-ae77-1c4da757197f",
   "metadata": {},
   "outputs": [],
   "source": [
    "pwskills2.change(1237382402)"
   ]
  },
  {
   "cell_type": "code",
   "execution_count": 57,
   "id": "73741ade-17b4-4df6-b28d-ac25a02b4a4a",
   "metadata": {},
   "outputs": [
    {
     "data": {
      "text/plain": [
       "1237382402"
      ]
     },
     "execution_count": 57,
     "metadata": {},
     "output_type": "execute_result"
    }
   ],
   "source": [
    "pwskills2.mobile"
   ]
  },
  {
   "cell_type": "code",
   "execution_count": 63,
   "id": "f1805d1d-bfa9-42f1-8409-d98aa58c84d6",
   "metadata": {},
   "outputs": [],
   "source": [
    "##methods\n",
    "class pwskills3:\n",
    "    mobile=9712316841\n",
    "    \n",
    "    def __init__(self,name,mail):\n",
    "        self.name=name\n",
    "        self.mail=mail\n",
    "    \n",
    "    @classmethod\n",
    "    def change(cls,mobile_number):\n",
    "        pwskills2.mobile=mobile_number\n",
    "        \n",
    "    \n",
    "    @classmethod\n",
    "    def detailss(cls, name, mail):\n",
    "        return cls(name, mail)\n",
    "    \n",
    "    def details(self):\n",
    "        print(self.name,self.mail,pwskills2.mobile)\n",
    "        "
   ]
  },
  {
   "cell_type": "code",
   "execution_count": 65,
   "id": "21632d68-4691-4c52-aeee-bda7a7b78c1a",
   "metadata": {},
   "outputs": [],
   "source": [
    "del pwskills3.change"
   ]
  },
  {
   "cell_type": "code",
   "execution_count": 1,
   "id": "2452e14a-d51b-4620-9f74-bc5d22de7848",
   "metadata": {},
   "outputs": [],
   "source": [
    "## static method"
   ]
  },
  {
   "cell_type": "code",
   "execution_count": 6,
   "id": "4345baab-47a1-4e5c-9942-a98e30d9b802",
   "metadata": {},
   "outputs": [],
   "source": [
    "class pwskill:\n",
    "    \n",
    "    def details(self,name,mobile,mail):\n",
    "        print(name,mobile,mail)\n",
    "        \n",
    "    @staticmethod\n",
    "    def mentor_class(List_mentor):\n",
    "        print(List_mentor)\n",
    "        \n",
    "    def mentor(self,mentor_list):\n",
    "        print(mentor_list)"
   ]
  },
  {
   "cell_type": "code",
   "execution_count": 5,
   "id": "91cd0542-83c5-4a61-adad-348a0257ca2e",
   "metadata": {},
   "outputs": [
    {
     "name": "stdout",
     "output_type": "stream",
     "text": [
      "['alex', 'cory']\n"
     ]
    }
   ],
   "source": [
    "pwskill.mentor_class(['alex','cory'])"
   ]
  },
  {
   "cell_type": "code",
   "execution_count": 7,
   "id": "ef047264-ae06-4351-8a3b-749c5fb33961",
   "metadata": {},
   "outputs": [],
   "source": [
    "pw1=pwskill()"
   ]
  },
  {
   "cell_type": "code",
   "execution_count": 9,
   "id": "819fa081-cc1d-4631-80ac-fa9a3897e4f8",
   "metadata": {},
   "outputs": [
    {
     "name": "stdout",
     "output_type": "stream",
     "text": [
      "['tony', 'shawn']\n"
     ]
    }
   ],
   "source": [
    "pw1.mentor(['tony','shawn'])"
   ]
  },
  {
   "cell_type": "code",
   "execution_count": 10,
   "id": "882d8d73-7ace-4b70-8a2d-8fe18cdeedd9",
   "metadata": {},
   "outputs": [
    {
     "name": "stdout",
     "output_type": "stream",
     "text": [
      "['tony', 'shawn']\n"
     ]
    }
   ],
   "source": [
    "pw1.mentor_class(['tony','shawn'])"
   ]
  },
  {
   "cell_type": "code",
   "execution_count": 12,
   "id": "2fdd0b8e-cd7c-432f-b179-783e00647c3e",
   "metadata": {},
   "outputs": [],
   "source": [
    "class pwskill1:\n",
    "    \n",
    "    def details(self,name,mobile,mail):\n",
    "        print(name,mobile,mail)\n",
    "    \n",
    "    @staticmethod\n",
    "    def mentor_mail(mail_id):\n",
    "        print(mail_id)\n",
    "        \n",
    "    @staticmethod\n",
    "    def mentor_class(List_mentor):\n",
    "        print(List_mentor)\n",
    "        pwskills1.mentor_mail(['krish@gmail.com','sudh@gmail.com'])\n",
    "        \n",
    "    @classmethod\n",
    "    def class_method(cls,class_name):\n",
    "        cls.mentor_class(['krish','sudh'])\n",
    "        \n",
    "    def mentor(self,mentor_list):\n",
    "        print(mentor_list)\n",
    "        self.mentor_class(['krish','sudh'])"
   ]
  },
  {
   "cell_type": "code",
   "execution_count": 13,
   "id": "20458c3e-7f84-404c-86a9-7ba185799515",
   "metadata": {},
   "outputs": [],
   "source": [
    "pw=pwskill1()"
   ]
  },
  {
   "cell_type": "code",
   "execution_count": 14,
   "id": "8c7371cb-c2a1-47c3-9e15-96f0988d8f76",
   "metadata": {},
   "outputs": [],
   "source": [
    "#magic dunder"
   ]
  },
  {
   "cell_type": "code",
   "execution_count": 15,
   "id": "e4d7ba6c-094e-4817-b8d7-f3a33cf4828b",
   "metadata": {},
   "outputs": [
    {
     "data": {
      "text/plain": [
       "['__abs__',\n",
       " '__add__',\n",
       " '__and__',\n",
       " '__bool__',\n",
       " '__ceil__',\n",
       " '__class__',\n",
       " '__delattr__',\n",
       " '__dir__',\n",
       " '__divmod__',\n",
       " '__doc__',\n",
       " '__eq__',\n",
       " '__float__',\n",
       " '__floor__',\n",
       " '__floordiv__',\n",
       " '__format__',\n",
       " '__ge__',\n",
       " '__getattribute__',\n",
       " '__getnewargs__',\n",
       " '__gt__',\n",
       " '__hash__',\n",
       " '__index__',\n",
       " '__init__',\n",
       " '__init_subclass__',\n",
       " '__int__',\n",
       " '__invert__',\n",
       " '__le__',\n",
       " '__lshift__',\n",
       " '__lt__',\n",
       " '__mod__',\n",
       " '__mul__',\n",
       " '__ne__',\n",
       " '__neg__',\n",
       " '__new__',\n",
       " '__or__',\n",
       " '__pos__',\n",
       " '__pow__',\n",
       " '__radd__',\n",
       " '__rand__',\n",
       " '__rdivmod__',\n",
       " '__reduce__',\n",
       " '__reduce_ex__',\n",
       " '__repr__',\n",
       " '__rfloordiv__',\n",
       " '__rlshift__',\n",
       " '__rmod__',\n",
       " '__rmul__',\n",
       " '__ror__',\n",
       " '__round__',\n",
       " '__rpow__',\n",
       " '__rrshift__',\n",
       " '__rshift__',\n",
       " '__rsub__',\n",
       " '__rtruediv__',\n",
       " '__rxor__',\n",
       " '__setattr__',\n",
       " '__sizeof__',\n",
       " '__str__',\n",
       " '__sub__',\n",
       " '__subclasshook__',\n",
       " '__truediv__',\n",
       " '__trunc__',\n",
       " '__xor__',\n",
       " 'as_integer_ratio',\n",
       " 'bit_count',\n",
       " 'bit_length',\n",
       " 'conjugate',\n",
       " 'denominator',\n",
       " 'from_bytes',\n",
       " 'imag',\n",
       " 'numerator',\n",
       " 'real',\n",
       " 'to_bytes']"
      ]
     },
     "execution_count": 15,
     "metadata": {},
     "output_type": "execute_result"
    }
   ],
   "source": [
    "dir(int)"
   ]
  },
  {
   "cell_type": "code",
   "execution_count": 16,
   "id": "d7171738-537c-486d-a5ce-99a6a71fb8cb",
   "metadata": {},
   "outputs": [
    {
     "data": {
      "text/plain": [
       "16"
      ]
     },
     "execution_count": 16,
     "metadata": {},
     "output_type": "execute_result"
    }
   ],
   "source": [
    "a=10\n",
    "a+6"
   ]
  },
  {
   "cell_type": "code",
   "execution_count": 17,
   "id": "a07bb105-9e70-4310-b59d-8a862d64d2d7",
   "metadata": {},
   "outputs": [
    {
     "data": {
      "text/plain": [
       "16"
      ]
     },
     "execution_count": 17,
     "metadata": {},
     "output_type": "execute_result"
    }
   ],
   "source": [
    "a.__add__(6)"
   ]
  },
  {
   "cell_type": "code",
   "execution_count": 18,
   "id": "a493fa0a-0362-433b-a685-5d7862ae03ac",
   "metadata": {},
   "outputs": [
    {
     "data": {
      "text/plain": [
       "['__add__',\n",
       " '__class__',\n",
       " '__contains__',\n",
       " '__delattr__',\n",
       " '__dir__',\n",
       " '__doc__',\n",
       " '__eq__',\n",
       " '__format__',\n",
       " '__ge__',\n",
       " '__getattribute__',\n",
       " '__getitem__',\n",
       " '__getnewargs__',\n",
       " '__gt__',\n",
       " '__hash__',\n",
       " '__init__',\n",
       " '__init_subclass__',\n",
       " '__iter__',\n",
       " '__le__',\n",
       " '__len__',\n",
       " '__lt__',\n",
       " '__mod__',\n",
       " '__mul__',\n",
       " '__ne__',\n",
       " '__new__',\n",
       " '__reduce__',\n",
       " '__reduce_ex__',\n",
       " '__repr__',\n",
       " '__rmod__',\n",
       " '__rmul__',\n",
       " '__setattr__',\n",
       " '__sizeof__',\n",
       " '__str__',\n",
       " '__subclasshook__',\n",
       " 'capitalize',\n",
       " 'casefold',\n",
       " 'center',\n",
       " 'count',\n",
       " 'encode',\n",
       " 'endswith',\n",
       " 'expandtabs',\n",
       " 'find',\n",
       " 'format',\n",
       " 'format_map',\n",
       " 'index',\n",
       " 'isalnum',\n",
       " 'isalpha',\n",
       " 'isascii',\n",
       " 'isdecimal',\n",
       " 'isdigit',\n",
       " 'isidentifier',\n",
       " 'islower',\n",
       " 'isnumeric',\n",
       " 'isprintable',\n",
       " 'isspace',\n",
       " 'istitle',\n",
       " 'isupper',\n",
       " 'join',\n",
       " 'ljust',\n",
       " 'lower',\n",
       " 'lstrip',\n",
       " 'maketrans',\n",
       " 'partition',\n",
       " 'removeprefix',\n",
       " 'removesuffix',\n",
       " 'replace',\n",
       " 'rfind',\n",
       " 'rindex',\n",
       " 'rjust',\n",
       " 'rpartition',\n",
       " 'rsplit',\n",
       " 'rstrip',\n",
       " 'split',\n",
       " 'splitlines',\n",
       " 'startswith',\n",
       " 'strip',\n",
       " 'swapcase',\n",
       " 'title',\n",
       " 'translate',\n",
       " 'upper',\n",
       " 'zfill']"
      ]
     },
     "execution_count": 18,
     "metadata": {},
     "output_type": "execute_result"
    }
   ],
   "source": [
    "dir(str)"
   ]
  },
  {
   "cell_type": "code",
   "execution_count": 21,
   "id": "fb363359-f0df-4eb7-9dab-aa8886aea643",
   "metadata": {},
   "outputs": [],
   "source": [
    "class pw:\n",
    "    def __new__(cls):\n",
    "        print(\"this is my new\")\n",
    "    \n",
    "    def __init__(self):\n",
    "        print(\"this is my init\")"
   ]
  },
  {
   "cell_type": "code",
   "execution_count": 22,
   "id": "0ac194eb-9ee1-4075-951a-6d0266a0842a",
   "metadata": {},
   "outputs": [
    {
     "name": "stdout",
     "output_type": "stream",
     "text": [
      "this is my new\n"
     ]
    }
   ],
   "source": [
    "pwo=pw()"
   ]
  },
  {
   "cell_type": "code",
   "execution_count": 23,
   "id": "ad6e8ae6-35d4-40dc-b397-ce07749b2b11",
   "metadata": {},
   "outputs": [],
   "source": [
    "# property decorator\n"
   ]
  },
  {
   "cell_type": "code",
   "execution_count": 43,
   "id": "597391a9-439c-4cca-bbc9-d36ef794199c",
   "metadata": {},
   "outputs": [],
   "source": [
    "class pws:\n",
    "    def __init__(self,course_price,course_name):\n",
    "        self.__course_price=course_price\n",
    "        self.course_name=course_name\n",
    "        \n",
    "    @property\n",
    "    def access(self):\n",
    "        return self.__course_price\n",
    "    \n",
    "    @access.setter\n",
    "    def price_set(self,price):\n",
    "        if price<=3500:\n",
    "            pass\n",
    "        else:\n",
    "            self.__course_price=price\n",
    "            \n",
    "    @access.deleter\n",
    "    def price_del(self):\n",
    "        del self.__course_price"
   ]
  },
  {
   "cell_type": "code",
   "execution_count": 44,
   "id": "80c0485f-d07d-4776-9dcb-7f328a11b4a9",
   "metadata": {},
   "outputs": [],
   "source": [
    "oj=pws(3500,'datasci')"
   ]
  },
  {
   "cell_type": "code",
   "execution_count": 45,
   "id": "3a05fcd0-0754-4708-a2b1-0f8262293a48",
   "metadata": {},
   "outputs": [
    {
     "data": {
      "text/plain": [
       "'datasci'"
      ]
     },
     "execution_count": 45,
     "metadata": {},
     "output_type": "execute_result"
    }
   ],
   "source": [
    "oj.course_name"
   ]
  },
  {
   "cell_type": "code",
   "execution_count": 46,
   "id": "63db4deb-dd64-4f95-b02e-e6788e480516",
   "metadata": {},
   "outputs": [
    {
     "data": {
      "text/plain": [
       "3500"
      ]
     },
     "execution_count": 46,
     "metadata": {},
     "output_type": "execute_result"
    }
   ],
   "source": [
    "oj._pws__course_price"
   ]
  },
  {
   "cell_type": "code",
   "execution_count": 47,
   "id": "34bc775f-07cf-4c0a-bc20-6bb9bdae10d6",
   "metadata": {},
   "outputs": [
    {
     "data": {
      "text/plain": [
       "3500"
      ]
     },
     "execution_count": 47,
     "metadata": {},
     "output_type": "execute_result"
    }
   ],
   "source": [
    "oj.access"
   ]
  },
  {
   "cell_type": "code",
   "execution_count": 48,
   "id": "b98d8fad-eb9f-4d98-8f2a-b69380655507",
   "metadata": {},
   "outputs": [],
   "source": [
    "oj.price_set =2500"
   ]
  },
  {
   "cell_type": "code",
   "execution_count": 49,
   "id": "a302621b-3cef-4b24-8b0a-80165854a51b",
   "metadata": {},
   "outputs": [
    {
     "data": {
      "text/plain": [
       "3500"
      ]
     },
     "execution_count": 49,
     "metadata": {},
     "output_type": "execute_result"
    }
   ],
   "source": [
    "oj.access"
   ]
  },
  {
   "cell_type": "code",
   "execution_count": 50,
   "id": "7f5efa3d-7799-476f-aa7f-ba39f8b00b3b",
   "metadata": {},
   "outputs": [],
   "source": [
    "oj.price_set =4500"
   ]
  },
  {
   "cell_type": "code",
   "execution_count": 51,
   "id": "1b93c078-0094-4e68-b373-337dcc65659d",
   "metadata": {},
   "outputs": [
    {
     "data": {
      "text/plain": [
       "4500"
      ]
     },
     "execution_count": 51,
     "metadata": {},
     "output_type": "execute_result"
    }
   ],
   "source": [
    "oj.access"
   ]
  },
  {
   "cell_type": "code",
   "execution_count": null,
   "id": "96a65ee9-a546-4596-8245-171c786a02a5",
   "metadata": {},
   "outputs": [],
   "source": []
  }
 ],
 "metadata": {
  "kernelspec": {
   "display_name": "Python 3 (ipykernel)",
   "language": "python",
   "name": "python3"
  },
  "language_info": {
   "codemirror_mode": {
    "name": "ipython",
    "version": 3
   },
   "file_extension": ".py",
   "mimetype": "text/x-python",
   "name": "python",
   "nbconvert_exporter": "python",
   "pygments_lexer": "ipython3",
   "version": "3.10.8"
  }
 },
 "nbformat": 4,
 "nbformat_minor": 5
}
