{
 "cells": [
  {
   "cell_type": "markdown",
   "id": "c1b6e7b4-8eaf-4ffb-b3b6-da8f7b019b3d",
   "metadata": {},
   "source": [
    "## Q1. You are writing code for a company. The requirement of the company is that you create a python function that will check whether the password entered by the user is correct or not. The function should take the password as input and return the string “Valid Password” if the entered password follows the below-given password guidelines else it should return “Invalid Password”."
   ]
  },
  {
   "cell_type": "code",
   "execution_count": 2,
   "id": "01f270b6-bdec-43ca-844d-1490bf7b0ede",
   "metadata": {},
   "outputs": [
    {
     "name": "stdin",
     "output_type": "stream",
     "text": [
      "Enter a Password UML3kk!711#$ab\n"
     ]
    },
    {
     "name": "stdout",
     "output_type": "stream",
     "text": [
      "Valid Password\n"
     ]
    }
   ],
   "source": [
    "l, u, p, d = 0, 0, 0, 0\n",
    "s = input(\"Enter a Password\")\n",
    "capitalalphabets=\"ABCDEFGHIJKLMNOPQRSTUVWXYZ\"\n",
    "smallalphabets=\"abcdefghijklmnopqrstuvwxyz\"\n",
    "specialchar=\"!@#$%^&*~\"\n",
    "digits=\"0123456789\"\n",
    "if (len(s) >= 10):\n",
    "    for i in s:\n",
    "        # counting lowercase alphabets\n",
    "        if (i in smallalphabets):\n",
    "            l+=1\n",
    "\n",
    "        # counting uppercase alphabets\n",
    "        if (i in capitalalphabets):\n",
    "            u+=1\n",
    "\n",
    "        # counting digits\n",
    "        if (i in digits):\n",
    "            d+=1\n",
    "\n",
    "        # counting the mentioned special characters\n",
    "        if(i in specialchar):\n",
    "            p+=1\n",
    "if (l>=2 and u>=2 and p>=3 and d>=1 and l+p+u+d==len(s)):\n",
    "    print(\"Valid Password\")\n",
    "else:\n",
    "    print(\"Invalid Password\")\n"
   ]
  },
  {
   "cell_type": "markdown",
   "id": "4097a4dd-0955-4487-986c-e9e32a1b1910",
   "metadata": {},
   "source": [
    "## Q2. Solve the below-given questions using at least one of the following:\n",
    "1. Lambda function\n",
    "2. Filter function\n",
    "3. Map function\n",
    "4. List Comprehension"
   ]
  },
  {
   "cell_type": "code",
   "execution_count": 3,
   "id": "f8a12513-6f8e-4023-b92b-f131e007a0b8",
   "metadata": {},
   "outputs": [
    {
     "name": "stdout",
     "output_type": "stream",
     "text": [
      "True\n",
      "False\n"
     ]
    }
   ],
   "source": [
    "##Check if the string starts with a particular letter\n",
    "\n",
    "starts_with = lambda string, letter: string[0] == letter\n",
    "\n",
    "print(starts_with(\"Hello\", \"H\"))\n",
    "print(starts_with(\"Hello\", \"h\"))"
   ]
  },
  {
   "cell_type": "code",
   "execution_count": 7,
   "id": "f5e92ead-5493-4062-b5a0-675a010db655",
   "metadata": {},
   "outputs": [
    {
     "name": "stdout",
     "output_type": "stream",
     "text": [
      "True\n",
      "False\n"
     ]
    }
   ],
   "source": [
    "##Check if the string is numeric\n",
    "\n",
    "def is_numeric(string):\n",
    "    return string.isdigit()\n",
    "\n",
    "print(is_numeric(\"123\"))\n",
    "print(is_numeric(\"abc\"))"
   ]
  },
  {
   "cell_type": "code",
   "execution_count": 8,
   "id": "516b8071-a370-4077-ab38-084766c124d6",
   "metadata": {},
   "outputs": [
    {
     "name": "stdout",
     "output_type": "stream",
     "text": [
      "[('orange', 80), ('mango', 99), ('grapes', 1000)]\n"
     ]
    }
   ],
   "source": [
    "##Sort a list of tuples having fruit names and their quantity. [(\"mango\",99),(\"orange\",80), (\"grapes\", 1000)\n",
    "\n",
    "fruits = [(\"mango\", 99), (\"orange\", 80), (\"grapes\", 1000)]\n",
    "\n",
    "sorted_fruits = sorted(fruits, key=lambda x: x[1])\n",
    "\n",
    "print(sorted_fruits)"
   ]
  },
  {
   "cell_type": "code",
   "execution_count": 15,
   "id": "ea60d5f7-b29d-49e4-bd79-1ece60012157",
   "metadata": {},
   "outputs": [
    {
     "name": "stdout",
     "output_type": "stream",
     "text": [
      "[1, 4, 9, 16, 25, 36, 49, 64, 81, 100]\n"
     ]
    }
   ],
   "source": [
    "##Find the squares of numbers from 1 to 10\n",
    "list1=[1,2,3,4,5,6,7,8,9,10]\n",
    "\n",
    "def sq(x):\n",
    "    return x**2\n",
    "\n",
    "squared_numbers=list(map(sq,list1))\n",
    "\n",
    "print(squared_numbers)"
   ]
  },
  {
   "cell_type": "code",
   "execution_count": 10,
   "id": "cd311734-a3d9-491a-b31e-3139121bdbd5",
   "metadata": {},
   "outputs": [
    {
     "name": "stdout",
     "output_type": "stream",
     "text": [
      "[1.0, 1.2599210498948732, 1.4422495703074083, 1.5874010519681994, 1.7099759466766968, 1.8171205928321397, 1.912931182772389, 2.0, 2.080083823051904, 2.154434690031884]\n"
     ]
    }
   ],
   "source": [
    "##Find the cube root of numbers from 1 to 10\n",
    "\n",
    "import math\n",
    "\n",
    "cuberoot_numbers = [math.pow(x, 1/3) for x in range(1, 11)]\n",
    "\n",
    "print(cuberoot_numbers)"
   ]
  },
  {
   "cell_type": "code",
   "execution_count": 16,
   "id": "406fa506-493b-4eb1-a671-13010b771be5",
   "metadata": {},
   "outputs": [
    {
     "name": "stdout",
     "output_type": "stream",
     "text": [
      "Even\n",
      "Odd\n"
     ]
    }
   ],
   "source": [
    "##Check if a given number is even\n",
    "\n",
    "def check(number):\n",
    "    if (number%2==0):\n",
    "        return \"Even\"\n",
    "    else:\n",
    "        return \"Odd\"\n",
    "    \n",
    "print(check(2))\n",
    "print(check(3))    "
   ]
  },
  {
   "cell_type": "code",
   "execution_count": 17,
   "id": "f123f7a6-5892-4017-b12e-10464559bcae",
   "metadata": {},
   "outputs": [
    {
     "name": "stdout",
     "output_type": "stream",
     "text": [
      "[1, 3, 5, 7, 9]\n"
     ]
    }
   ],
   "source": [
    "##Filter odd numbers from the given list.\n",
    "\n",
    "List1=[1,2,3,4,5,6,7,8,9,10]\n",
    "\n",
    "print(list(filter(lambda x : x%2!=0 , List1)))"
   ]
  },
  {
   "cell_type": "code",
   "execution_count": 20,
   "id": "651bcea9-70a2-46ef-b761-a824b72fdcc4",
   "metadata": {},
   "outputs": [
    {
     "name": "stdout",
     "output_type": "stream",
     "text": [
      "[-5, -4, -3, -2, -1]\n",
      "[0, 1, 2, 3, 4, 5, 6]\n"
     ]
    }
   ],
   "source": [
    "##Sort a list of integers into positive and negative integers lists.\n",
    "\n",
    "List1=[1,2,3,4,5,6,-1,-2,-3,-4,-5,0]\n",
    "l1=[]\n",
    "l2=[]\n",
    "\n",
    "l1.extend(list(filter(lambda x : x<0 , List1)))\n",
    "l2.extend(list(filter(lambda x : x>=0 , List1)))\n",
    "          \n",
    "print(sorted(l1))\n",
    "print(sorted(l2))\n"
   ]
  },
  {
   "cell_type": "code",
   "execution_count": null,
   "id": "9ee059ab-cd32-45ac-8968-5d915467e6ca",
   "metadata": {},
   "outputs": [],
   "source": []
  }
 ],
 "metadata": {
  "kernelspec": {
   "display_name": "Python 3 (ipykernel)",
   "language": "python",
   "name": "python3"
  },
  "language_info": {
   "codemirror_mode": {
    "name": "ipython",
    "version": 3
   },
   "file_extension": ".py",
   "mimetype": "text/x-python",
   "name": "python",
   "nbconvert_exporter": "python",
   "pygments_lexer": "ipython3",
   "version": "3.10.8"
  }
 },
 "nbformat": 4,
 "nbformat_minor": 5
}
