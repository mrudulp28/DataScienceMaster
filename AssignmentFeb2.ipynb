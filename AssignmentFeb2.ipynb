{
 "cells": [
  {
   "cell_type": "markdown",
   "id": "f173ac33-53d9-44fa-ac40-b112ab3e412c",
   "metadata": {},
   "source": [
    "## 1)What are the characteristics of the tuples? Is tuple immutable?"
   ]
  },
  {
   "cell_type": "markdown",
   "id": "2139f424-ee97-42ea-82ad-8c476c094823",
   "metadata": {},
   "source": [
    "These tuples are an ordered collection of elements of different data types. \n",
    "we represent them by writing the elements inside the parenthesis separated by commas. \n",
    "Characteristics of Tuples\n",
    "They are indexed.\n",
    "Tuples are ordered.\n",
    "These are immutable.\n",
    "They can contain duplicate items."
   ]
  },
  {
   "cell_type": "markdown",
   "id": "97eae752-7f18-4552-9bf0-a52db9e21f7e",
   "metadata": {},
   "source": [
    "## 2)What are the two tuple methods in python? Give an example of each method. Give a reason why tuples have only two in-built methods as compared to Lists."
   ]
  },
  {
   "cell_type": "markdown",
   "id": "fb202c78-9618-4be8-bf9c-100e349ac7d2",
   "metadata": {},
   "source": [
    "The two tuple methods are count() and index(). Since tuples are immutable we cannot change items of a tuple once it is assigned"
   ]
  },
  {
   "cell_type": "code",
   "execution_count": 2,
   "id": "1ea5554d-d889-48aa-b07b-b69dfea167ba",
   "metadata": {},
   "outputs": [
    {
     "data": {
      "text/plain": [
       "3"
      ]
     },
     "execution_count": 2,
     "metadata": {},
     "output_type": "execute_result"
    }
   ],
   "source": [
    "##Example of count()\n",
    "tuple1=(1,2,3,4,6,1,1)\n",
    "tuple1.count(1)"
   ]
  },
  {
   "cell_type": "code",
   "execution_count": 4,
   "id": "a2d0f91b-45b2-419e-b754-b6f6a55dc4e0",
   "metadata": {},
   "outputs": [
    {
     "data": {
      "text/plain": [
       "3"
      ]
     },
     "execution_count": 4,
     "metadata": {},
     "output_type": "execute_result"
    }
   ],
   "source": [
    "##Example of index()\n",
    "tuple1=(1,2,3,4,6,1,1)\n",
    "tuple1.index(4)"
   ]
  },
  {
   "cell_type": "markdown",
   "id": "4cb9d1c8-db16-4de9-ba46-d78688effce2",
   "metadata": {},
   "source": [
    "## 3)Which collection datatypes in python do not allow duplicate items? Write a code using a set to remove duplicates from the given list."
   ]
  },
  {
   "cell_type": "markdown",
   "id": "6f2ec48a-5780-45fb-93c7-8b45e3d3dc8e",
   "metadata": {},
   "source": [
    "A set is a datatype which does not allow duplicates , also in a dictionary if there is a 2 same keys with different values the latest key value pair would be existing in the dictionary"
   ]
  },
  {
   "cell_type": "code",
   "execution_count": 7,
   "id": "d7e47848-6cea-45ac-ba9e-51c2e9468f09",
   "metadata": {},
   "outputs": [
    {
     "data": {
      "text/plain": [
       "{1, 2, 3, 4}"
      ]
     },
     "execution_count": 7,
     "metadata": {},
     "output_type": "execute_result"
    }
   ],
   "source": [
    "## Example to Remove Duplicates\n",
    "List1=[1, 1, 1, 2, 1, 3, 1, 4, 2, 1, 2, 2, 2, 3, 2, 4, 3, 1, 3, 2, 3, 3, 3, 4, 4, 1, 4, 2, 4, 3, 4, 4]\n",
    "set1=set(List1)\n",
    "set1"
   ]
  },
  {
   "cell_type": "markdown",
   "id": "609eb898-3e87-4394-b666-4ecbd2a71ffb",
   "metadata": {},
   "source": [
    "## 4)Explain the difference between the union() and update() methods for a set. Give an example of each method."
   ]
  },
  {
   "cell_type": "markdown",
   "id": "ba725ec5-accf-4596-a5ae-2863f008c518",
   "metadata": {},
   "source": [
    "Difference is that where union() method create and return a new set, containing all the elements ( distinct ) present in all the iterables\n",
    "where as update() method updates the set on which this method is called with all the distinct elements present in all the iterables."
   ]
  },
  {
   "cell_type": "code",
   "execution_count": 8,
   "id": "6cddbe03-6d6d-4805-ba3d-b6f29408de0a",
   "metadata": {},
   "outputs": [
    {
     "name": "stdout",
     "output_type": "stream",
     "text": [
      "{'apple', 'cherry', 'orange', 'mango', 'banana'}\n"
     ]
    }
   ],
   "source": [
    "##Example for Union()\n",
    "set1 = {\"apple\", \"banana\", \"cherry\"}\n",
    "set2 = {\"mango\", \"orange\", \"apple\"}\n",
    "set3 = set1.union(set2)\n",
    "\n",
    "print(set3)"
   ]
  },
  {
   "cell_type": "code",
   "execution_count": 11,
   "id": "4f0e3cde-dcb9-402c-8394-24b1cc525c3d",
   "metadata": {},
   "outputs": [
    {
     "name": "stdout",
     "output_type": "stream",
     "text": [
      "{1, 2, 3, 5, 7}\n"
     ]
    }
   ],
   "source": [
    "##Example for Update()\n",
    "nums = {1, 2, 3}\n",
    "primeNums = {2, 3, 5, 7}\n",
    "\n",
    "nums.update(primeNums)\n",
    "print(nums)"
   ]
  },
  {
   "cell_type": "markdown",
   "id": "3fdd9f02-068e-44db-95c2-5167cc18854a",
   "metadata": {},
   "source": [
    "## 5)What is a dictionary? Give an example. Also, state whether a dictionary is ordered or unordered."
   ]
  },
  {
   "cell_type": "markdown",
   "id": "94b0d710-b430-40a4-b2bd-191d973bea51",
   "metadata": {},
   "source": [
    "The dictionary is an unordered collection that contains key:value pairs separated by commas inside curly brackets. Dictionaries are optimum to retrieve values when the key is known."
   ]
  },
  {
   "cell_type": "code",
   "execution_count": 12,
   "id": "2ca7862c-482b-461e-9978-0bea9e98f553",
   "metadata": {},
   "outputs": [
    {
     "name": "stdout",
     "output_type": "stream",
     "text": [
      "{'Name': 'Mrudul', 'mail': 'mrudul@gmail.com', 'age': 23}\n"
     ]
    }
   ],
   "source": [
    "##Example of Dictionary\n",
    "dict = {\n",
    "  \"Name\": \"Mrudul\",\n",
    "  \"mail\": \"mrudul@gmail.com\",\n",
    "  \"age\": 23\n",
    "}\n",
    "print(dict)"
   ]
  },
  {
   "cell_type": "markdown",
   "id": "d2c6a410-c172-408a-949a-444b73e53b07",
   "metadata": {},
   "source": [
    "## 6)Can we create a nested dictionary? If so, please give an example by creating a simple one-level nested dictionary."
   ]
  },
  {
   "cell_type": "markdown",
   "id": "ac20663d-790a-48ac-856f-2b6b2c59222a",
   "metadata": {},
   "source": [
    "Yes, we can create a nested dictionary that is a dictionary within a dictionary"
   ]
  },
  {
   "cell_type": "code",
   "execution_count": 14,
   "id": "cc6d262d-1bff-4b5b-b0ac-da2e8bad34de",
   "metadata": {},
   "outputs": [
    {
     "name": "stdout",
     "output_type": "stream",
     "text": [
      "{'dict1key': {'key1': 'val1', 'key2': 'val2'}, 'dict2key': {'key3': 'val3', 'key4': 'val4'}}\n"
     ]
    }
   ],
   "source": [
    "##Example of Nested Dictionary\n",
    "Dict1={\"dict1key\":{\"key1\":\"val1\",\"key2\":\"val2\"},\"dict2key\":{\"key3\":\"val3\",\"key4\":\"val4\"}}\n",
    "print(Dict1)"
   ]
  },
  {
   "cell_type": "markdown",
   "id": "ced4e6fe-d5a0-4de5-ad34-1cf18b168069",
   "metadata": {},
   "source": [
    "## 7)Using setdefault() method, create key named topics in the given dictionary and also add the value of the key as this list ['Python', 'Machine Learning’, 'Deep Learning']"
   ]
  },
  {
   "cell_type": "code",
   "execution_count": 23,
   "id": "b7279003-ea8a-4b34-a010-7b3776ef0d61",
   "metadata": {},
   "outputs": [
    {
     "data": {
      "text/plain": [
       "['Python', 'Machine Learning', 'Deep Learning']"
      ]
     },
     "execution_count": 23,
     "metadata": {},
     "output_type": "execute_result"
    }
   ],
   "source": [
    "##Example using setdefault()\n",
    "dict1 = {'language' : 'Python', 'course': 'Data Science Masters'}\n",
    "dict1.setdefault(\"topics\",['Python', 'Machine Learning','Deep Learning'])"
   ]
  },
  {
   "cell_type": "code",
   "execution_count": 24,
   "id": "053388b0-906b-40b4-aa40-28f8507f762f",
   "metadata": {},
   "outputs": [
    {
     "data": {
      "text/plain": [
       "{'language': 'Python',\n",
       " 'course': 'Data Science Masters',\n",
       " 'topics': ['Python', 'Machine Learning', 'Deep Learning']}"
      ]
     },
     "execution_count": 24,
     "metadata": {},
     "output_type": "execute_result"
    }
   ],
   "source": [
    "dict1"
   ]
  },
  {
   "cell_type": "markdown",
   "id": "decb0f39-e76e-4ec3-9c6b-6dfc3cb2ded3",
   "metadata": {},
   "source": [
    "## 8)What are the three view objects in dictionaries? Use the three in-built methods in python to display these three view objects for the given dictionary."
   ]
  },
  {
   "cell_type": "code",
   "execution_count": 25,
   "id": "2769e402-e9d0-4b56-a88b-23fe55698749",
   "metadata": {},
   "outputs": [],
   "source": [
    "dict1 = {'Sport': 'Cricket' , 'Teams': ['India', 'Australia', 'England', 'South Africa', 'Sri Lanka', 'New Zealand']}"
   ]
  },
  {
   "cell_type": "code",
   "execution_count": null,
   "id": "45f4dd73-1231-4f70-89a5-7c13ca35f27d",
   "metadata": {},
   "outputs": [],
   "source": []
  }
 ],
 "metadata": {
  "kernelspec": {
   "display_name": "Python 3 (ipykernel)",
   "language": "python",
   "name": "python3"
  },
  "language_info": {
   "codemirror_mode": {
    "name": "ipython",
    "version": 3
   },
   "file_extension": ".py",
   "mimetype": "text/x-python",
   "name": "python",
   "nbconvert_exporter": "python",
   "pygments_lexer": "ipython3",
   "version": "3.10.8"
  }
 },
 "nbformat": 4,
 "nbformat_minor": 5
}
