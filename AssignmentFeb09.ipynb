{
 "cells": [
  {
   "cell_type": "markdown",
   "id": "b1cdfcb3-9e69-4e61-84d8-314ec06a7e01",
   "metadata": {},
   "source": [
    "## Q1, Create a vehicle class with an init method having instance variables as name_of_vehicle, max_speed and average_of_vehicle."
   ]
  },
  {
   "cell_type": "code",
   "execution_count": 1,
   "id": "6cca9456-4cf9-43c9-83d1-086f19f016c7",
   "metadata": {},
   "outputs": [],
   "source": [
    "class vehicle:\n",
    "    \n",
    "    def __init__(self,name_of_vehicle,max_speed,average_of_vehicle):\n",
    "        self.name_of_vehicle=name_of_vehicle\n",
    "        self.max_speed=max_speed\n",
    "        self.average_of_vehicle=average_of_vehicle"
   ]
  },
  {
   "cell_type": "code",
   "execution_count": 2,
   "id": "8bdc7c9f-daea-4243-a095-89568f0496e2",
   "metadata": {},
   "outputs": [],
   "source": [
    "obj=vehicle(\"innova\",120,25)"
   ]
  },
  {
   "cell_type": "markdown",
   "id": "f681e7db-d3a6-41ab-ae7c-a285097ee5bd",
   "metadata": {},
   "source": [
    "## Q2. Create a child class car from the vehicle class created in Que 1, which will inherit the vehicle class. Create a method named seating_capacity which takes capacity as an argument and returns the name of the vehicle and its seating capacity."
   ]
  },
  {
   "cell_type": "code",
   "execution_count": 8,
   "id": "5e241861-5ea5-42b0-b592-b78257060c65",
   "metadata": {},
   "outputs": [],
   "source": [
    "class car(vehicle):\n",
    "    \n",
    "    def seating_capacity(self,capacity):\n",
    "        self.capacity=capacity\n",
    "        return self.capacity , self.name_of_vehicle"
   ]
  },
  {
   "cell_type": "code",
   "execution_count": 9,
   "id": "f77b27d6-dc35-4a46-baa3-48e9daeffd14",
   "metadata": {},
   "outputs": [
    {
     "data": {
      "text/plain": [
       "(7, 'innova')"
      ]
     },
     "execution_count": 9,
     "metadata": {},
     "output_type": "execute_result"
    }
   ],
   "source": [
    "obj1=car(\"innova\",120,25)\n",
    "obj1.seating_capacity(7)"
   ]
  },
  {
   "cell_type": "markdown",
   "id": "8959efd4-5bd2-4f86-95b0-ef4c9dc03c02",
   "metadata": {},
   "source": [
    "## Q3. What is multiple inheritance? Write a python code to demonstrate multiple inheritance."
   ]
  },
  {
   "cell_type": "markdown",
   "id": "f40d75b4-40e2-4877-b3a1-0d02690cbbfd",
   "metadata": {},
   "source": [
    "If a child class inherits from more than one class, i.e. this child class is derived from multiple classes, we call it multiple inheritance in Python."
   ]
  },
  {
   "cell_type": "code",
   "execution_count": 14,
   "id": "46310fc6-1566-4d40-a64c-4de0006299ee",
   "metadata": {},
   "outputs": [],
   "source": [
    "class class1():\n",
    "    \n",
    "    def class1_property(self):\n",
    "        print(\"this is class1\")\n",
    "\n",
    "class class2():\n",
    "    \n",
    "    def class2_property(self):\n",
    "        print(\"this is class2\")\n",
    "\n",
    "class class3(class1,class2):\n",
    "    def class3_property(self):\n",
    "        print(\"this is class3\")\n"
   ]
  },
  {
   "cell_type": "code",
   "execution_count": 15,
   "id": "0a0579f3-46a6-48ac-bf32-3c6a442d3a14",
   "metadata": {},
   "outputs": [],
   "source": [
    "class3obj=class3()"
   ]
  },
  {
   "cell_type": "code",
   "execution_count": 24,
   "id": "234b2396-6691-4aa6-9efc-b56ad5709749",
   "metadata": {},
   "outputs": [
    {
     "name": "stdout",
     "output_type": "stream",
     "text": [
      "this is class1\n",
      "this is class2\n",
      "this is class3\n"
     ]
    }
   ],
   "source": [
    "##class3 inheriting from class1 and class2\n",
    "class3obj.class1_property()\n",
    "class3obj.class2_property()\n",
    "class3obj.class3_property()"
   ]
  },
  {
   "cell_type": "markdown",
   "id": "5c239bc8-57e2-4894-a467-3c3f39481942",
   "metadata": {},
   "source": [
    "## Q4. What are getter and setter in python? Create a class and create a getter and a setter method in this class."
   ]
  },
  {
   "cell_type": "markdown",
   "id": "9412843f-66ee-42be-9537-59677a0b1ec4",
   "metadata": {},
   "source": [
    "Getters : These are the methods used in Object-Oriented Programming (OOPS) which helps to access the private attributes from a class.\n",
    "Setters : These are the methods used in OOPS feature which helps to set the value to private attributes in a class."
   ]
  },
  {
   "cell_type": "code",
   "execution_count": 25,
   "id": "7b5a3ae5-fda4-4b32-9960-cd3688d71e4b",
   "metadata": {},
   "outputs": [],
   "source": [
    "# Creating a class employee with getter and setter functions for employee_id variable\n",
    "class employee:\n",
    "\n",
    "    def __init__(self,name,employee_id): \n",
    "        self.__name = name\n",
    "        self.__employee_id = employee_id\n",
    "    \n",
    "    def get_employee_id(self):\n",
    "        return self.__employee_id\n",
    "    \n",
    "    def set_employee_id(self,new_id):\n",
    "        self.__employee_id = new_id"
   ]
  },
  {
   "cell_type": "code",
   "execution_count": 26,
   "id": "038f666b-1fe9-4e4e-9372-4132c07eeac0",
   "metadata": {},
   "outputs": [
    {
     "data": {
      "text/plain": [
       "'123'"
      ]
     },
     "execution_count": 26,
     "metadata": {},
     "output_type": "execute_result"
    }
   ],
   "source": [
    "# Example with getter function\n",
    "emp1 = employee('Utkarsh','123')\n",
    "emp1.get_employee_id()"
   ]
  },
  {
   "cell_type": "code",
   "execution_count": 28,
   "id": "db85c632-ea90-4ce3-a91a-6782cf909415",
   "metadata": {},
   "outputs": [],
   "source": [
    "# Example setter function\n",
    "emp1.set_employee_id('007')"
   ]
  },
  {
   "cell_type": "code",
   "execution_count": 29,
   "id": "ff0dfc86-65e2-4474-af17-b22df86c11bb",
   "metadata": {},
   "outputs": [
    {
     "data": {
      "text/plain": [
       "'007'"
      ]
     },
     "execution_count": 29,
     "metadata": {},
     "output_type": "execute_result"
    }
   ],
   "source": [
    "# Checking new employee id\n",
    "emp1.get_employee_id()"
   ]
  },
  {
   "cell_type": "markdown",
   "id": "7b1fb5d7-343d-4ddb-9277-2e86fd17f41e",
   "metadata": {},
   "source": [
    "## Q5.What is method overriding in python? Write a python code to demonstrate method overriding."
   ]
  },
  {
   "cell_type": "code",
   "execution_count": null,
   "id": "a4c86f1e-ac8f-4ea7-8f11-183b57f359c6",
   "metadata": {},
   "outputs": [],
   "source": []
  }
 ],
 "metadata": {
  "kernelspec": {
   "display_name": "Python 3 (ipykernel)",
   "language": "python",
   "name": "python3"
  },
  "language_info": {
   "codemirror_mode": {
    "name": "ipython",
    "version": 3
   },
   "file_extension": ".py",
   "mimetype": "text/x-python",
   "name": "python",
   "nbconvert_exporter": "python",
   "pygments_lexer": "ipython3",
   "version": "3.10.8"
  }
 },
 "nbformat": 4,
 "nbformat_minor": 5
}
