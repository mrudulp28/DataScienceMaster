{
 "cells": [
  {
   "cell_type": "code",
   "execution_count": 4,
   "id": "52f5e0b9-4241-4bf1-9e10-78cce288dc97",
   "metadata": {},
   "outputs": [
    {
     "name": "stdout",
     "output_type": "stream",
     "text": [
      "My Name is Mrudul\n"
     ]
    }
   ],
   "source": [
    "name='Mrudul'\n",
    "age=22\n",
    "print(\"My Name is\",name)"
   ]
  },
  {
   "cell_type": "code",
   "execution_count": 1,
   "id": "70f78311-5857-4b7c-9592-44337e992859",
   "metadata": {},
   "outputs": [
    {
     "name": "stdout",
     "output_type": "stream",
     "text": [
      "My Name is Mrudul and My Age is 22\n"
     ]
    }
   ],
   "source": [
    "name='Mrudul'\n",
    "age=22\n",
    "print(\"My Name is {} and My Age is {}\".format(name,age))"
   ]
  },
  {
   "cell_type": "code",
   "execution_count": 3,
   "id": "c3a18ccc-cc7d-4c93-bee2-742924379800",
   "metadata": {},
   "outputs": [
    {
     "name": "stdout",
     "output_type": "stream",
     "text": [
      "My Name is Mrudul and My Age is 22\n"
     ]
    }
   ],
   "source": [
    "name='Mrudul'\n",
    "age=22\n",
    "print(f\"My Name is {name} and My Age is {age}\")"
   ]
  },
  {
   "cell_type": "code",
   "execution_count": 1,
   "id": "c789020b-8bcb-4a11-9637-7852b58ff830",
   "metadata": {},
   "outputs": [
    {
     "name": "stdout",
     "output_type": "stream",
     "text": [
      "you are eligible to work\n"
     ]
    }
   ],
   "source": [
    "age=18\n",
    "if age>=18:\n",
    "    print(\"you are eligible to work\")"
   ]
  },
  {
   "cell_type": "code",
   "execution_count": 7,
   "id": "baab3c5a-1683-454c-80e7-5ad39afe4d18",
   "metadata": {},
   "outputs": [],
   "source": [
    "#Decision Making "
   ]
  },
  {
   "cell_type": "code",
   "execution_count": 4,
   "id": "3898f534-653f-4018-ac39-cd9348003e68",
   "metadata": {},
   "outputs": [
    {
     "name": "stdin",
     "output_type": "stream",
     "text": [
      "Enter your age 18\n"
     ]
    },
    {
     "name": "stdout",
     "output_type": "stream",
     "text": [
      "you are eligible to work\n"
     ]
    }
   ],
   "source": [
    "age=int(input(\"Enter your age\"))\n",
    "if age>=18:\n",
    "    print(\"you are eligible to work\")"
   ]
  },
  {
   "cell_type": "code",
   "execution_count": 5,
   "id": "ab696509-22ff-4511-a54b-7da6187b16db",
   "metadata": {},
   "outputs": [
    {
     "name": "stdin",
     "output_type": "stream",
     "text": [
      "Enter your age 19\n"
     ]
    },
    {
     "name": "stdout",
     "output_type": "stream",
     "text": [
      "you are eligible to work\n"
     ]
    }
   ],
   "source": [
    "age=int(input(\"Enter your age\"))\n",
    "if age>=18:\n",
    "    print(\"you are eligible to work\")\n",
    "else:\n",
    "    print(\"you are not eligible to work\")"
   ]
  },
  {
   "cell_type": "code",
   "execution_count": 10,
   "id": "36386f53-03b5-41e6-b246-b2892fa2f1dc",
   "metadata": {},
   "outputs": [
    {
     "name": "stdin",
     "output_type": "stream",
     "text": [
      "Enter your age 17\n"
     ]
    },
    {
     "name": "stdout",
     "output_type": "stream",
     "text": [
      "you are too young\n"
     ]
    }
   ],
   "source": [
    "age=int(input(\"Enter your age\"))\n",
    "if age>=18 and age<=45:\n",
    "    print(\"you are young blood\")\n",
    "elif age<=18:\n",
    "    print(\"you are too young\")\n",
    "else:\n",
    "    print(\"you are not young blood\")"
   ]
  },
  {
   "cell_type": "code",
   "execution_count": 14,
   "id": "c837441d-7e09-4ad3-bbdf-a7f1764e0b42",
   "metadata": {},
   "outputs": [
    {
     "name": "stdin",
     "output_type": "stream",
     "text": [
      "Enter the Price 2000\n"
     ]
    },
    {
     "name": "stdout",
     "output_type": "stream",
     "text": [
      " the price of the item after discount: 1600.0\n"
     ]
    }
   ],
   "source": [
    "price=int(input(\"Enter the Price\"))\n",
    "if price>1000:\n",
    "    print(\" the price of the item after discount: {finalprice}\".format(finalprice=price*0.8))\n",
    "else:\n",
    "    print(\" the price of the item after discount: {finalprice}\".format(finalprice=price*0.7))            "
   ]
  },
  {
   "cell_type": "markdown",
   "id": "5ffe173b-61ad-4cc0-bd89-9f1cbfbec22e",
   "metadata": {},
   "source": [
    "##LOOPS"
   ]
  },
  {
   "cell_type": "code",
   "execution_count": 18,
   "id": "d7a8efc0-6cd6-4390-9a3c-bc3193d4bd61",
   "metadata": {},
   "outputs": [
    {
     "name": "stdin",
     "output_type": "stream",
     "text": [
      "enter your age 70\n"
     ]
    },
    {
     "name": "stdout",
     "output_type": "stream",
     "text": [
      "its time to retire\n"
     ]
    }
   ],
   "source": [
    "#While\n",
    "joining_age=int(input(\"enter your age\"))\n",
    "i=1\n",
    "while joining_age<=60:\n",
    "    joining_age=joining_age+1\n",
    "    print(joining_age)\n",
    "else:\n",
    "    print(\"its time to retire\")\n"
   ]
  },
  {
   "cell_type": "code",
   "execution_count": 2,
   "id": "77df5a58-54cf-49f0-bed7-898e8ffb58b7",
   "metadata": {},
   "outputs": [],
   "source": [
    "l1=[1,2,3,4,5,6,7]\n"
   ]
  },
  {
   "cell_type": "code",
   "execution_count": 3,
   "id": "dfad6444-90b7-4c1f-a9e6-2e0e8f2f1bd5",
   "metadata": {},
   "outputs": [
    {
     "name": "stdout",
     "output_type": "stream",
     "text": [
      "1\n",
      "2\n",
      "the number is 3\n"
     ]
    }
   ],
   "source": [
    "for x in l1:\n",
    "    if(x==3):\n",
    "        print(\"the number is 3\")\n",
    "        break\n",
    "    print(x)"
   ]
  },
  {
   "cell_type": "code",
   "execution_count": 4,
   "id": "b022628f-7b44-4baf-8516-1fa1d6429b6a",
   "metadata": {},
   "outputs": [
    {
     "name": "stdout",
     "output_type": "stream",
     "text": [
      "1\n",
      "2\n",
      "the number is 3\n",
      "4\n",
      "5\n",
      "6\n",
      "7\n"
     ]
    }
   ],
   "source": [
    "for x in l1:\n",
    "    if(x==3):\n",
    "        print(\"the number is 3\")\n",
    "        continue\n",
    "    print(x)"
   ]
  },
  {
   "cell_type": "code",
   "execution_count": null,
   "id": "5002d734-ec8f-4a1e-8797-3116e13c69e3",
   "metadata": {},
   "outputs": [],
   "source": []
  }
 ],
 "metadata": {
  "kernelspec": {
   "display_name": "Python 3 (ipykernel)",
   "language": "python",
   "name": "python3"
  },
  "language_info": {
   "codemirror_mode": {
    "name": "ipython",
    "version": 3
   },
   "file_extension": ".py",
   "mimetype": "text/x-python",
   "name": "python",
   "nbconvert_exporter": "python",
   "pygments_lexer": "ipython3",
   "version": "3.10.8"
  }
 },
 "nbformat": 4,
 "nbformat_minor": 5
}
